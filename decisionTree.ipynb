{
 "cells": [
  {
   "cell_type": "markdown",
   "id": "789aef77",
   "metadata": {},
   "source": [
    "# Therory"
   ]
  },
  {
   "cell_type": "markdown",
   "id": "c141c9e6",
   "metadata": {},
   "source": [
    "**1. What is a Decision Tree, and how does it work?**  \n",
    "A Decision Tree is a tree-shaped model used for classification or regression. Internally, each non-leaf node tests one feature (e.g. “Is $X_j \\le t$?”). Depending on the outcome, you follow one of its branches. Leaf nodes hold a final prediction (a class label or numeric value). During training, the algorithm picks splits that best reduce impurity (classification) or error (regression) at each node, and recurses until a stopping condition (pure node, minimum samples, or maximum depth).\n",
    "\n",
    "---\n",
    "\n",
    "**2. What are impurity measures in Decision Trees?**  \n",
    "Impurity measures quantify how mixed the target labels are within a node. The two most common for classification are:  \n",
    "\n",
    "* **Gini Impurity**  \n",
    "* **Entropy** (a.k.a. Information Entropy)  \n",
    "\n",
    "---\n",
    "\n",
    "**3. What is the mathematical formula for Gini Impurity?**     \n",
    "If a node contains $K$ classes with proportions $p_1, p_2, \\dots, p_K$, then  \n",
    "\n",
    "$$\n",
    "  \\text{Gini} \\;=\\; 1 - \\sum_{k=1}^K p_k^2.\n",
    "$$\n",
    "\n",
    "A value of 0 means the node is “pure” (all samples in one class).  \n",
    "\n",
    "---\n",
    "\n",
    "**4. What is the mathematical formula for Entropy?**  \n",
    "For the same node with class proportions $p_1, \\dots, p_K$,  \n",
    "\n",
    "$$\n",
    "  \\text{Entropy} \\;=\\; - \\sum_{k=1}^K p_k \\,\\log_2\\bigl(p_k\\bigr),\n",
    "$$\n",
    "\n",
    "where we treat $0 \\log_2 0$ as 0. Entropy = 0 at a pure node; it’s maximal when classes are evenly split.  \n",
    "\n",
    "---\n",
    "\n",
    "**5. What is Information Gain, and how is it used in Decision Trees?**  \n",
    "\n",
    "* **Definition:** Information Gain = parent node entropy minus weighted average entropy of its child nodes.  \n",
    "* **Formula (binary split example):**  \n",
    "\n",
    "  $$\n",
    "    \\text{Gain} \n",
    "    = H(\\text{parent}) \n",
    "    - \\Bigl(\\tfrac{n_\\text{L}}{n} H(\\text{left}) + \\tfrac{n_\\text{R}}{n} H(\\text{right})\\Bigr).\n",
    "  $$\n",
    "* **Usage:** At each node, the algorithm tests all possible feature splits and picks the one that maximizes Information Gain (i.e., most reduces entropy).\n",
    "\n",
    "---\n",
    "\n",
    "**6. What is the difference between Gini Impurity and Entropy?**  \n",
    "\n",
    "* **Gini Impurity:** $1 - \\sum p_k^2$. Slightly faster to compute.  \n",
    "* **Entropy:** $-\\sum p_k \\log_2 p_k$. Based on log likelihood.\n",
    "* **Practical effect:** Both measure node impurity. Entropy is more sensitive to changes in class distribution; Gini often yields similar splits and is marginally faster.\n",
    "\n",
    "---\n",
    "\n",
    "**7. What is the mathematical explanation behind Decision Trees?**  \n",
    "\n",
    "1. **At each node**, evaluate every candidate split (feature $j$, threshold $t$).  \n",
    "2. **Compute impurity** (Gini or entropy) for each child after the split.  \n",
    "3. **Calculate weighted impurity:**  \n",
    "\n",
    "   $$\n",
    "     I_{\\text{split}} \n",
    "     = \\frac{|N_\\text{left}|}{|N|} I(N_\\text{left}) \n",
    "     + \\frac{|N_\\text{right}|}{|N|} I(N_\\text{right}).\n",
    "   $$\n",
    "4. **Pick the split** $(j, t)$ that minimizes $I_{\\text{split}}$ (equivalently maximizes impurity reduction).\n",
    "5. **Recurse** on children until stopping criteria (pure node, min samples, max depth).\n",
    "\n",
    "---\n",
    "\n",
    "**8. What is Pre-Pruning in Decision Trees?**  \n",
    "Pre-Pruning (early stopping) halts tree growth during training by applying constraints such as:\n",
    "\n",
    "* **Maximum depth** (e.g. `max_depth = 3`)\n",
    "* **Minimum samples to split** (e.g. `min_samples_split = 10`)\n",
    "* **Minimum samples per leaf** (e.g. `min_samples_leaf = 5`)\n",
    "* **Minimum impurity decrease** (e.g. `min_impurity_decrease = 0.01`)\n",
    "  These rules prevent splits that would produce very small or low-gain children, reducing overfitting.\n",
    "\n",
    "---\n",
    "\n",
    "**9. What is Post-Pruning in Decision Trees?**  \n",
    "Post-Pruning grows a full (or deep) tree first, then prunes back subtrees based on a complexity penalty. In CART’s cost-complexity pruning, for each subtree $T$ one defines\n",
    "\n",
    "$$\n",
    "  R_\\alpha(T) = R(T) \\;+\\; \\alpha \\,|\\text{leaves}(T)|,\n",
    "$$\n",
    "\n",
    "where $R(T)$ is the total impurity (or misclassification error) on training data and $\\alpha$ is a penalty. By increasing $\\alpha$, you iteratively collapse (prune) nodes that do not sufficiently reduce $R_\\alpha(T)$. Finally, cross-validation chooses the best $\\alpha$.\n",
    "\n",
    "---\n",
    "\n",
    "**10. What is the difference between Pre-Pruning and Post-Pruning?**  \n",
    "\n",
    "* **Pre-Pruning:** Stop splitting if a node fails a criterion (too deep, too few samples, low impurity decrease). The tree never grows beyond that point.\n",
    "\n",
    "  * *Pros:* Faster training, simpler.\n",
    "  * *Cons:* Might cut off beneficial splits early (underfit).\n",
    "* **Post-Pruning:** Grow a large (possibly overfitted) tree, then prune subtrees based on validation performance or cost-complexity.\n",
    "\n",
    "  * *Pros:* Allows full tree exploration before pruning → often better generalization.\n",
    "  * *Cons:* More expensive (grow then prune), uses more memory/time.\n",
    "\n",
    "---\n",
    " \n",
    "**11. What is a Decision Tree Regressor?**  \n",
    "A Decision Tree Regressor predicts a continuous target. In each node, it chooses splits that minimize a regression loss (usually Mean Squared Error) in the child nodes. Leaves store the average (or median) target of training samples that reach them. At prediction time, you traverse the tree according to feature tests and output the leaf’s value.\n",
    "\n",
    "---\n",
    "\n",
    "**12. What are the advantages and disadvantages of Decision Trees?**  \n",
    "\n",
    "* **Advantages:**  \n",
    "\n",
    "  1. **Interpretable:** Easy to visualize and explain (“if… then…” rules).\n",
    "  2. **Handles numeric & categorical:** Can split natively on both.\n",
    "  3. **No feature scaling needed:** Splits use value ordering.\n",
    "  4. **Captures nonlinear interactions** via hierarchical splits.\n",
    "  5. **Fast inference:** Prediction cost is $O(\\text{tree depth})$.\n",
    "\n",
    "* **Disadvantages:**  \n",
    "\n",
    "  1. **Overfitting:** Fully grown trees can fit noise.\n",
    "  2. **High variance:** Small data changes can yield very different trees.\n",
    "  3. **Bias toward features with many possible splits:** Numeric or high-cardinality features can dominate.\n",
    "  4. **Unstable under small perturbations.**\n",
    "  5. **Piecewise constant (regression):** Predictions jump at split boundaries (not smooth).\n",
    "\n",
    "---\n",
    "\n",
    "**13. How does a Decision Tree handle missing values?**  \n",
    "\n",
    "* **Surrogate splits (some implementations):** At training time, find alternate features whose splits mimic the primary split. At prediction, if the primary feature is missing, use the surrogate.\n",
    "* **Treat “missing” as its own category:** Create a dedicated branch for “feature is missing.”\n",
    "* **Imputation before training:** Common practice is to fill missing values (mean/median for numeric, mode for categorical) and then build a normal tree.\n",
    "* **Probabilistic branch assignment (rare):** Distribute a missing-value sample down both child branches weighted by training-set proportions, then average predictions.\n",
    "\n",
    "Most scikit-learn users simply impute before training, since native surrogate splits are not implemented there.\n",
    "\n",
    "---\n",
    "\n",
    "**14. How does a Decision Tree handle categorical features?**  \n",
    "\n",
    "* **Native categorical splitting (less common in scikit-learn):** Evaluate splits of the form “$X_j \\in S$” vs. “$X_j \\notin S$” for subsets $S$ of categories, or “$X_j = c_k$” vs. “otherwise.” This can be expensive if many categories exist.\n",
    "* **One-Hot Encoding (common approach):** Convert each category into a binary column, then let the tree split on “one-hot = 0/1.” This inflates dimensionality but is simple.\n",
    "* Advanced tree libraries (e.g. LightGBM, CatBoost) implement optimized native handling of categorical variables without explicit one-hot encoding.\n",
    "\n",
    "---\n",
    "\n",
    "**15. What are some real-world applications of Decision Trees?**  \n",
    "\n",
    "1. **Credit scoring:** Approve/decline loans based on applicant features (income, credit history, etc.).\n",
    "2. **Medical diagnosis:** Classify patients as diseased vs. healthy using symptoms and test results.\n",
    "3. **Customer churn:** Predict which customers will cancel subscriptions based on usage patterns.\n",
    "4. **Fraud detection:** Flag transactions as legitimate vs. fraudulent by examining transaction attributes.\n",
    "5. **Marketing segmentation:** Decide which promotional offer to send based on user demographics and engagement metrics."
   ]
  },
  {
   "cell_type": "markdown",
   "id": "b2e2e53d",
   "metadata": {},
   "source": [
    "# Practical"
   ]
  },
  {
   "cell_type": "code",
   "execution_count": 1,
   "id": "1eaffc3a",
   "metadata": {},
   "outputs": [],
   "source": [
    "import numpy as np\n",
    "import pandas as pd\n",
    "import matplotlib.pyplot as plt\n",
    "import seaborn as sns\n",
    "\n",
    "import warnings\n",
    "warnings.filterwarnings('ignore')"
   ]
  },
  {
   "cell_type": "markdown",
   "id": "f4294aff",
   "metadata": {},
   "source": [
    "### Q16"
   ]
  },
  {
   "cell_type": "code",
   "execution_count": 22,
   "id": "aab28554",
   "metadata": {},
   "outputs": [
    {
     "name": "stdout",
     "output_type": "stream",
     "text": [
      "Accuracy of Decision Tree Classifier : 1.0000\n"
     ]
    }
   ],
   "source": [
    "from sklearn.datasets import load_iris,load_breast_cancer\n",
    "from sklearn.tree import DecisionTreeClassifier\n",
    "from sklearn.metrics import accuracy_score\n",
    "from sklearn.model_selection import train_test_split\n",
    "\n",
    "x,y = load_iris(return_X_y=True)\n",
    "x_train, x_test, y_train, y_test = train_test_split( x, y, test_size=0.2, random_state=42 )\n",
    "\n",
    "clf = DecisionTreeClassifier(random_state=31)\n",
    "\n",
    "clf.fit(x_train,y_train)\n",
    "y_pred=clf.predict(x_test)\n",
    "acc=accuracy_score(y_test,y_pred)\n",
    "print(f\"Accuracy of Decision Tree Classifier : {acc:.4f}\")"
   ]
  },
  {
   "cell_type": "markdown",
   "id": "a1f4b2ab",
   "metadata": {},
   "source": [
    "### Q17"
   ]
  },
  {
   "cell_type": "code",
   "execution_count": 9,
   "id": "1d196b92",
   "metadata": {},
   "outputs": [
    {
     "name": "stdout",
     "output_type": "stream",
     "text": [
      "Accuracy of Decision Tree Classifier with Gini impurity : 0.9474\n",
      "Feature importance with Gini(impurity) :\n",
      "mean radius              :0.0000\n",
      "mean texture             :0.0585\n",
      "mean perimeter           :0.0000\n",
      "mean area                :0.0000\n",
      "mean smoothness          :0.0000\n",
      "mean compactness         :0.0000\n",
      "mean concavity           :0.0000\n",
      "mean concave points      :0.6914\n",
      "mean symmetry            :0.0000\n",
      "mean fractal dimension   :0.0000\n",
      "radius error             :0.0120\n",
      "texture error            :0.0000\n",
      "perimeter error          :0.0000\n",
      "area error               :0.0000\n",
      "smoothness error         :0.0012\n",
      "compactness error        :0.0000\n",
      "concavity error          :0.0000\n",
      "concave points error     :0.0159\n",
      "symmetry error           :0.0000\n",
      "fractal dimension error  :0.0266\n",
      "worst radius             :0.0523\n",
      "worst texture            :0.0094\n",
      "worst perimeter          :0.0515\n",
      "worst area               :0.0000\n",
      "worst smoothness         :0.0092\n",
      "worst compactness        :0.0063\n",
      "worst concavity          :0.0000\n",
      "worst concave points     :0.0657\n",
      "worst symmetry           :0.0000\n",
      "worst fractal dimension  :0.0000\n"
     ]
    }
   ],
   "source": [
    "x,y = load_breast_cancer(return_X_y=True) # load the dataset\n",
    "feature_names = load_breast_cancer().feature_names\n",
    "x_train, x_test, y_train, y_test = train_test_split( x, y, test_size=0.2, random_state=42 )\n",
    "\n",
    "clf_gini = DecisionTreeClassifier(criterion='gini', random_state=32)\n",
    "clf_gini.fit(x_train,y_train)\n",
    "y_pred = clf_gini.predict(x_test)\n",
    "acc=accuracy_score(y_test,y_pred)\n",
    "print(f\"Accuracy of Decision Tree Classifier with Gini impurity : {acc:.4f}\")\n",
    "\n",
    "importance = clf_gini.feature_importances_\n",
    "print(\"Feature importance with Gini(impurity) :\")\n",
    "for name, imp in zip(feature_names, importance):\n",
    "    print(f\"{name:25s}:{imp:.4f}\")"
   ]
  },
  {
   "cell_type": "markdown",
   "id": "0737586a",
   "metadata": {},
   "source": [
    "### Q18"
   ]
  },
  {
   "cell_type": "code",
   "execution_count": null,
   "id": "e858b721",
   "metadata": {},
   "outputs": [
    {
     "name": "stdout",
     "output_type": "stream",
     "text": [
      "Decision Tree (Entropy) accuracy: 0.956140350877193\n"
     ]
    }
   ],
   "source": [
    "# Using previous split as dataset\n",
    "dt_entropy = DecisionTreeClassifier(criterion=\"entropy\", random_state=48)\n",
    "dt_entropy.fit(x_train, y_train)\n",
    "\n",
    "y_pred = dt_entropy.predict(x_test)\n",
    "acc = accuracy_score(y_test, y_pred)\n",
    "print(f\"Decision Tree (Entropy) accuracy: {acc}\")"
   ]
  },
  {
   "cell_type": "markdown",
   "id": "b603d3f4",
   "metadata": {},
   "source": [
    "### Q19"
   ]
  },
  {
   "cell_type": "code",
   "execution_count": 18,
   "id": "151c2899",
   "metadata": {},
   "outputs": [
    {
     "name": "stdout",
     "output_type": "stream",
     "text": [
      "Decision Tree Regressor MSE (California Housing): 0.53066\n"
     ]
    }
   ],
   "source": [
    "from sklearn.datasets import fetch_california_housing\n",
    "from sklearn.tree import DecisionTreeRegressor\n",
    "from sklearn.metrics import mean_squared_error\n",
    "\n",
    "x,y = fetch_california_housing(return_X_y=True)\n",
    "x_train, x_test, y_train, y_test = train_test_split( x, y, test_size=0.2, random_state=40 )\n",
    "\n",
    "dt_regressor = DecisionTreeRegressor(random_state=36)\n",
    "dt_regressor.fit(x_train,y_train)\n",
    "y_pred = dt_regressor.predict(x_test)\n",
    "score = mean_squared_error(y_test,y_pred)\n",
    "\n",
    "print(f\"Decision Tree Regressor MSE (California Housing): {score:.5f}\")"
   ]
  },
  {
   "cell_type": "markdown",
   "id": "672fb306",
   "metadata": {},
   "source": [
    "### Q20"
   ]
  },
  {
   "cell_type": "code",
   "execution_count": null,
   "id": "3e436f8d",
   "metadata": {},
   "outputs": [],
   "source": [
    "import graphviz\n",
    "from sklearn.tree import export_graphviz,DecisionTreeClassifier\n",
    "\n",
    "data = load_iris()\n",
    "X, y = data.data, data.target\n",
    "feature_names = data.feature_names\n",
    "class_names = data.target_names\n",
    "\n",
    "\n",
    "dt = DecisionTreeClassifier(max_depth=3, random_state=42)\n",
    "dt.fit(X, y)\n",
    "\n",
    "dt_data = export_graphviz(\n",
    "    dt,\n",
    "    out_file=None,\n",
    "    feature_names=feature_names,\n",
    "    class_names=class_names,\n",
    "    filled=True,\n",
    "    rounded=True,\n",
    "    special_characters=True\n",
    ")\n",
    "\n",
    "graph = graphviz.Source(dt_data)\n",
    "graph.render(filename='iris_descision_tree',format='pdf',cleanup=True)\n",
    "print('Exported the Graph !!')"
   ]
  },
  {
   "cell_type": "markdown",
   "id": "74d78222",
   "metadata": {},
   "source": [
    "### Q21"
   ]
  },
  {
   "cell_type": "code",
   "execution_count": 26,
   "id": "e9d9a2fe",
   "metadata": {},
   "outputs": [
    {
     "name": "stdout",
     "output_type": "stream",
     "text": [
      "Accuracy (max_depth=3): 0.9473684210526315\n",
      "Accuracy (fully grown tree): 0.9473684210526315\n"
     ]
    }
   ],
   "source": [
    "x,y = load_breast_cancer(return_X_y=True) \n",
    "x_train, x_test, y_train, y_test = train_test_split( x, y, test_size=0.2, random_state=42 )\n",
    "\n",
    "dt_pruned = DecisionTreeClassifier(max_depth=3, random_state=42)\n",
    "dt_pruned.fit(x_train, y_train)\n",
    "y_pred_pruned = dt_pruned.predict(x_test)\n",
    "acc_pruned = accuracy_score(y_test, y_pred_pruned)\n",
    "\n",
    "# 4. Train fully grown tree (no depth limit)\n",
    "dt_full = DecisionTreeClassifier(random_state=48)\n",
    "dt_full.fit(x_train, y_train)\n",
    "y_pred_full = dt_full.predict(x_test)\n",
    "acc_full = accuracy_score(y_test, y_pred_full)\n",
    "\n",
    "print(f\"Accuracy (max_depth=3): {acc_pruned}\")\n",
    "print(f\"Accuracy (fully grown tree): {acc_full}\")"
   ]
  },
  {
   "cell_type": "markdown",
   "id": "5725144f",
   "metadata": {},
   "source": [
    "### Q22"
   ]
  },
  {
   "cell_type": "code",
   "execution_count": 28,
   "id": "9595dafd",
   "metadata": {},
   "outputs": [
    {
     "name": "stdout",
     "output_type": "stream",
     "text": [
      "Accuracy (default tree):      0.9473684210526315\n",
      "Accuracy (min_samples_split=5): 0.9385964912280702\n"
     ]
    }
   ],
   "source": [
    "dt_default = DecisionTreeClassifier(random_state=42)\n",
    "dt_default.fit(x_train, y_train)\n",
    "y_pred_default = dt_default.predict(x_test)\n",
    "acc_default = accuracy_score(y_test, y_pred_default)\n",
    "\n",
    "# Tree with min_samples_split=5\n",
    "dt_split5 = DecisionTreeClassifier(min_samples_split=5, random_state=42)\n",
    "dt_split5.fit(x_train, y_train)\n",
    "y_pred_split5 = dt_split5.predict(x_test)\n",
    "acc_split5 = accuracy_score(y_test, y_pred_split5)\n",
    "\n",
    "print(f\"Accuracy (default tree):      {acc_default}\")\n",
    "print(f\"Accuracy (min_samples_split=5): {acc_split5}\")"
   ]
  },
  {
   "cell_type": "markdown",
   "id": "474c5817",
   "metadata": {},
   "source": [
    "### Q23"
   ]
  },
  {
   "cell_type": "code",
   "execution_count": null,
   "id": "bef09afc",
   "metadata": {},
   "outputs": [
    {
     "name": "stdout",
     "output_type": "stream",
     "text": [
      "Accuracy on raw data:        0.9473684210526315\n",
      "Accuracy on standardized data: 0.9473684210526315\n"
     ]
    }
   ],
   "source": [
    "from sklearn.preprocessing import StandardScaler\n",
    "from sklearn.pipeline import Pipeline\n",
    "\n",
    "\n",
    "# Train on raw (unscaled) data\n",
    "dt_raw = DecisionTreeClassifier(random_state=42)\n",
    "dt_raw.fit(x_train, y_train)\n",
    "y_pred_raw = dt_raw.predict(x_test)\n",
    "acc_raw = accuracy_score(y_test, y_pred_raw)\n",
    "\n",
    "# Train with StandardScaler in pipeline\n",
    "pipeline_scaled = Pipeline(steps=[\n",
    "    (\"scaler\", StandardScaler()),\n",
    "    (\"dt\", DecisionTreeClassifier(random_state=42))\n",
    "])\n",
    "pipeline_scaled.fit(x_train, y_train)\n",
    "y_pred_scaled = pipeline_scaled.predict(x_test)\n",
    "acc_scaled = accuracy_score(y_test, y_pred_scaled)\n",
    "\n",
    "print(f\"Accuracy on raw data:        {acc_raw}\")\n",
    "print(f\"Accuracy on standardized data: {acc_scaled}\")"
   ]
  },
  {
   "cell_type": "markdown",
   "id": "12ccf8a6",
   "metadata": {},
   "source": [
    "### Q24"
   ]
  },
  {
   "cell_type": "code",
   "execution_count": 34,
   "id": "c3424754",
   "metadata": {},
   "outputs": [
    {
     "name": "stdout",
     "output_type": "stream",
     "text": [
      "OvR Decision Tree accuracy: 0.9666666666666667\n",
      "\n"
     ]
    }
   ],
   "source": [
    "from sklearn.multiclass import OneVsRestClassifier\n",
    "\n",
    "#Load Iris dataset\n",
    "data = load_iris()\n",
    "X, y = data.data, data.target\n",
    "\n",
    "#Split into train/test\n",
    "X_train, X_test, y_train, y_test = train_test_split(\n",
    "    X, y, test_size=0.2, random_state=42, stratify=y\n",
    ")\n",
    "\n",
    "# Wrap DecisionTree inside OvR\n",
    "ovo_dt = OneVsRestClassifier(\n",
    "    estimator=DecisionTreeClassifier(random_state=42)\n",
    ")\n",
    "ovo_dt.fit(X_train, y_train)\n",
    "\n",
    "# Predict and evaluate\n",
    "y_pred = ovo_dt.predict(X_test)\n",
    "acc = accuracy_score(y_test, y_pred)\n",
    "print(f\"OvR Decision Tree accuracy: {acc}\\n\")\n"
   ]
  },
  {
   "cell_type": "markdown",
   "id": "9d374741",
   "metadata": {},
   "source": [
    "### Q25"
   ]
  },
  {
   "cell_type": "code",
   "execution_count": 35,
   "id": "1bd97f93",
   "metadata": {},
   "outputs": [
    {
     "name": "stdout",
     "output_type": "stream",
     "text": [
      "Feature Importance Scores:\n",
      "sepal length (cm)   : 0.0133\n",
      "sepal width (cm)    : 0.0000\n",
      "petal length (cm)   : 0.5641\n",
      "petal width (cm)    : 0.4226\n"
     ]
    }
   ],
   "source": [
    "feature_names = load_iris().feature_names\n",
    "\n",
    "dt = DecisionTreeClassifier(random_state=42)\n",
    "dt.fit(X, y)\n",
    "\n",
    "importances = dt.feature_importances_\n",
    "print(\"Feature Importance Scores:\")\n",
    "for name, imp in zip(feature_names, importances):\n",
    "    print(f\"{name:20s}: {imp:.4f}\")"
   ]
  },
  {
   "cell_type": "markdown",
   "id": "6d9c1210",
   "metadata": {},
   "source": [
    "### Q26"
   ]
  },
  {
   "cell_type": "code",
   "execution_count": 36,
   "id": "93f7fbc5",
   "metadata": {},
   "outputs": [
    {
     "name": "stdout",
     "output_type": "stream",
     "text": [
      "MSE (max_depth=5):     0.5245\n",
      "MSE (unrestricted):    0.4997\n"
     ]
    }
   ],
   "source": [
    "from sklearn.datasets import fetch_california_housing\n",
    "from sklearn.model_selection import train_test_split\n",
    "from sklearn.tree import DecisionTreeRegressor\n",
    "from sklearn.metrics import mean_squared_error\n",
    "\n",
    "housing = fetch_california_housing()\n",
    "X, y = housing.data, housing.target\n",
    "\n",
    "X_train, X_test, y_train, y_test = train_test_split(\n",
    "    X, y, test_size=0.2, random_state=42\n",
    ")\n",
    "\n",
    "dtr_depth5 = DecisionTreeRegressor(max_depth=5, random_state=42)\n",
    "dtr_depth5.fit(X_train, y_train)\n",
    "y_pred_5 = dtr_depth5.predict(X_test)\n",
    "mse_5 = mean_squared_error(y_test, y_pred_5)\n",
    "\n",
    "dtr_full = DecisionTreeRegressor(random_state=42)\n",
    "dtr_full.fit(X_train, y_train)\n",
    "y_pred_full = dtr_full.predict(X_test)\n",
    "mse_full = mean_squared_error(y_test, y_pred_full)\n",
    "\n",
    "print(f\"MSE (max_depth=5):     {mse_5:.4f}\")\n",
    "print(f\"MSE (unrestricted):    {mse_full:.4f}\")\n"
   ]
  },
  {
   "cell_type": "markdown",
   "id": "65be4181",
   "metadata": {},
   "source": [
    "### Q27"
   ]
  },
  {
   "cell_type": "code",
   "execution_count": 37,
   "id": "65d33c7f",
   "metadata": {},
   "outputs": [
    {
     "data": {
      "image/png": "[encoded data removed]",
      "text/plain": [
       "<Figure size 800x500 with 1 Axes>"
      ]
     },
     "metadata": {},
     "output_type": "display_data"
    },
    {
     "name": "stdout",
     "output_type": "stream",
     "text": [
      "Best ccp_alpha: 0.006250  →  Accuracy: 0.9667\n"
     ]
    }
   ],
   "source": [
    "data = load_iris()\n",
    "X, y = data.data, data.target\n",
    "\n",
    "X_train, X_test, y_train, y_test = train_test_split(\n",
    "    X, y, test_size=0.2, random_state=42, stratify=y\n",
    ")\n",
    "\n",
    "dt_full = DecisionTreeClassifier(random_state=42)\n",
    "path = dt_full.cost_complexity_pruning_path(X_train, y_train)\n",
    "ccp_alphas, impurities = path.ccp_alphas, path.impurities\n",
    "\n",
    "# 4. Train a series of trees with different ccp_alpha and record test accuracy\n",
    "acc_list = []\n",
    "for alpha in ccp_alphas:\n",
    "    dt = DecisionTreeClassifier(ccp_alpha=alpha, random_state=42)\n",
    "    dt.fit(X_train, y_train)\n",
    "    y_pred = dt.predict(X_test)\n",
    "    acc_list.append(accuracy_score(y_test, y_pred))\n",
    "\n",
    "# 5. Plot accuracy vs. alpha\n",
    "plt.figure(figsize=(8, 5))\n",
    "plt.plot(ccp_alphas, acc_list, marker=\"o\", drawstyle=\"steps-post\")\n",
    "plt.xlabel(\"ccp_alpha\")\n",
    "plt.ylabel(\"Accuracy on Test Set\")\n",
    "plt.title(\"Effect of Cost Complexity Pruning on Accuracy\")\n",
    "plt.xscale(\"log\")\n",
    "plt.grid(True)\n",
    "plt.show()\n",
    "\n",
    "# 6. Print the alpha that gives highest accuracy\n",
    "best_idx = np.argmax(acc_list)\n",
    "print(f\"Best ccp_alpha: {ccp_alphas[best_idx]:.6f}  →  Accuracy: {acc_list[best_idx]:.4f}\")\n"
   ]
  },
  {
   "cell_type": "markdown",
   "id": "939b7a01",
   "metadata": {},
   "source": [
    "### Q28"
   ]
  },
  {
   "cell_type": "code",
   "execution_count": 39,
   "id": "fd7904d0",
   "metadata": {},
   "outputs": [
    {
     "name": "stdout",
     "output_type": "stream",
     "text": [
      "Precision: 0.9559\n",
      "Recall:    0.9028\n",
      "F1-Score:  0.9286\n",
      "\n"
     ]
    }
   ],
   "source": [
    "from sklearn.metrics import precision_score, recall_score, f1_score, classification_report\n",
    "\n",
    "\n",
    "data = load_breast_cancer()\n",
    "X, y = data.data, data.target\n",
    "\n",
    "X_train, X_test, y_train, y_test = train_test_split(\n",
    "    X, y, test_size=0.2, random_state=42, stratify=y\n",
    ")\n",
    "\n",
    "dt = DecisionTreeClassifier(random_state=42)\n",
    "dt.fit(X_train, y_train)\n",
    "\n",
    "y_pred = dt.predict(X_test)\n",
    "\n",
    "prec = precision_score(y_test, y_pred)\n",
    "rec = recall_score(y_test, y_pred)\n",
    "f1 = f1_score(y_test, y_pred)\n",
    "\n",
    "print(f\"Precision: {prec:.4f}\")\n",
    "print(f\"Recall:    {rec:.4f}\")\n",
    "print(f\"F1-Score:  {f1:.4f}\\n\")\n",
    "\n"
   ]
  },
  {
   "cell_type": "markdown",
   "id": "1a928d46",
   "metadata": {},
   "source": [
    "### Q29"
   ]
  },
  {
   "cell_type": "code",
   "execution_count": 40,
   "id": "c9c90b2d",
   "metadata": {},
   "outputs": [
    {
     "data": {
      "image/png": "[encoded data removed]",
      "text/plain": [
       "<Figure size 600x500 with 2 Axes>"
      ]
     },
     "metadata": {},
     "output_type": "display_data"
    }
   ],
   "source": [
    "from sklearn.metrics import confusion_matrix\n",
    "\n",
    "data = load_iris()\n",
    "X, y = data.data, data.target\n",
    "class_names = data.target_names\n",
    "\n",
    "\n",
    "X_train, X_test, y_train, y_test = train_test_split(\n",
    "    X, y, test_size=0.2, random_state=42, stratify=y\n",
    ")\n",
    "\n",
    "dt = DecisionTreeClassifier(random_state=42)\n",
    "dt.fit(X_train, y_train)\n",
    "\n",
    "\n",
    "y_pred = dt.predict(X_test)\n",
    "\n",
    "\n",
    "cm = confusion_matrix(y_test, y_pred)\n",
    "\n",
    "\n",
    "plt.figure(figsize=(6, 5))\n",
    "sns.heatmap(\n",
    "    cm,\n",
    "    annot=True,\n",
    "    fmt=\"d\",\n",
    "    cmap=\"Blues\",\n",
    "    xticklabels=class_names,\n",
    "    yticklabels=class_names\n",
    ")\n",
    "plt.xlabel(\"Predicted Label\")\n",
    "plt.ylabel(\"True Label\")\n",
    "plt.title(\"Confusion Matrix: Decision Tree (Iris)\")\n",
    "plt.show()\n"
   ]
  },
  {
   "cell_type": "markdown",
   "id": "ee2d5db7",
   "metadata": {},
   "source": [
    "### Q30"
   ]
  },
  {
   "cell_type": "code",
   "execution_count": 41,
   "id": "3cf0c44c",
   "metadata": {},
   "outputs": [
    {
     "name": "stdout",
     "output_type": "stream",
     "text": [
      "Fitting 5 folds for each of 24 candidates, totalling 120 fits\n",
      "Best parameters found:\n",
      "{'max_depth': None, 'min_samples_split': 2}\n",
      "Best cross-validated accuracy: 0.9417\n"
     ]
    }
   ],
   "source": [
    "from sklearn.model_selection import GridSearchCV\n",
    "param_grid = {\n",
    "    \"max_depth\": [None, 2, 3, 4, 5, 6],\n",
    "    \"min_samples_split\": [2, 5, 10, 20]\n",
    "}\n",
    "\n",
    "dt_base = DecisionTreeClassifier(random_state=42)\n",
    "\n",
    "grid_search = GridSearchCV(\n",
    "    estimator=dt_base,\n",
    "    param_grid=param_grid,\n",
    "    scoring=\"accuracy\",\n",
    "    cv=5,\n",
    "    n_jobs=-1,\n",
    "    verbose=1\n",
    ")\n",
    "\n",
    "grid_search.fit(X_train, y_train)\n",
    "\n",
    "print(\"Best parameters found:\")\n",
    "print(grid_search.best_params_)\n",
    "print(f\"Best cross-validated accuracy: {grid_search.best_score_:.4f}\")\n"
   ]
  }
 ],
 "metadata": {
  "kernelspec": {
   "display_name": "Python 3",
   "language": "python",
   "name": "python3"
  },
  "language_info": {
   "codemirror_mode": {
    "name": "ipython",
    "version": 3
   },
   "file_extension": ".py",
   "mimetype": "text/x-python",
   "name": "python",
   "nbconvert_exporter": "python",
   "pygments_lexer": "ipython3",
   "version": "3.12.9"
  }
 },
 "nbformat": 4,
 "nbformat_minor": 5
}
