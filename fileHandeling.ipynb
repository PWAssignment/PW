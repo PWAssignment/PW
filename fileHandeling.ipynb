{
 "cells": [
  {
   "cell_type": "markdown",
   "id": "90caca2a",
   "metadata": {},
   "source": [
    "# THEORY"
   ]
  },
  {
   "cell_type": "markdown",
   "id": "c8057b10",
   "metadata": {},
   "source": [
    "### 1. What is the difference between interpreted and compiled languages?\n",
    "\n",
    "- **Interpreted** languages execute code line by line (e.g., Python).  \n",
    "- **Compiled** languages are translated into machine code before execution (e.g., C, C++).  \n",
    "- Interpreters provide faster debugging, while compilers provide faster execution.\n",
    "\n",
    "---\n",
    "\n",
    "### 2. What is exception handling in Python?\n",
    "\n",
    "Exception handling is a mechanism to gracefully handle runtime errors using `try`, `except`, `finally`, and `else` blocks.\n",
    "\n",
    "---\n",
    "\n",
    "### 3. What is the purpose of the finally block in exception handling?\n",
    "\n",
    "The `finally` block is always executed after `try` and `except`, regardless of whether an exception occurred. It's used for cleanup actions like closing files or releasing resources.\n",
    "\n",
    "---\n",
    "\n",
    "### 4. What is logging in Python?\n",
    "\n",
    "Logging is the process of tracking events that happen when software runs. Python provides the `logging` module to record messages for debugging and error reporting.\n",
    "\n",
    "---\n",
    "\n",
    "### 5. What is the significance of the `__del__` method in Python?\n",
    "\n",
    "`__del__` is a destructor method called when an object is garbage collected. It is used to define cleanup behavior before the object is destroyed.\n",
    "\n",
    "---\n",
    "\n",
    "### 6. What is the difference between `import` and `from ... import` in Python?\n",
    "\n",
    "- `import module` imports the entire module.  \n",
    "- `from module import function` imports only the specific function or class.\n",
    "\n",
    "---\n",
    "\n",
    "### 7. How can you handle multiple exceptions in Python?\n",
    "\n",
    "You can handle multiple exceptions using a tuple or multiple `except` blocks:\n",
    "\n",
    "```python\n",
    "try:\n",
    "    ...\n",
    "except (TypeError, ValueError) as e:\n",
    "    print(e)\n"
   ]
  },
  {
   "cell_type": "markdown",
   "id": "78ac38e2",
   "metadata": {},
   "source": [
    "### 8. What is the purpose of the with statement when handling files in Python?\n",
    "\n",
    "The `with` statement ensures proper acquisition and release of resources, like opening and automatically closing a file:\n",
    "\n",
    "```python\n",
    "with open(\"file.txt\") as f:\n",
    "    data = f.read()\n",
    "```\n",
    "\n",
    "---\n",
    "\n",
    "### 9. What is the difference between multithreading and multiprocessing?\n",
    "\n",
    "* **Multithreading**: Multiple threads within a single process; shares memory space.\n",
    "* **Multiprocessing**: Multiple processes; each has its own memory space and Python interpreter.\n",
    "\n",
    "---\n",
    "\n",
    "### 10. What are the advantages of using logging in a program?\n",
    "\n",
    "* Helps with debugging.\n",
    "* Tracks execution flow.\n",
    "* Can write logs to files.\n",
    "* Offers multiple levels (debug, info, warning, error, critical).\n",
    "\n",
    "---\n",
    "\n",
    "### 11. What is memory management in Python?\n",
    "\n",
    "Python manages memory using:\n",
    "\n",
    "* Reference counting\n",
    "* Garbage collection\n",
    "* Private heap space for all objects and data structures\n",
    "\n",
    "---\n",
    "\n",
    "### 12. What are the basic steps involved in exception handling in Python?\n",
    "\n",
    "1. Use `try` block to write risky code.\n",
    "2. Use `except` to catch exceptions.\n",
    "3. Use `else` to write code that runs if no exception occurs.\n",
    "4. Use `finally` for cleanup code.\n",
    "\n",
    "---\n",
    "\n",
    "### 13. Why is memory management important in Python?\n",
    "\n",
    "Efficient memory management prevents:\n",
    "\n",
    "* Memory leaks\n",
    "* Performance degradation\n",
    "* Crashes\n",
    "\n",
    "---\n",
    "\n",
    "### 14. What is the role of try and except in exception handling?\n",
    "\n",
    "* `try` defines a block of code to test for errors.\n",
    "* `except` handles the error if it occurs.\n",
    "\n",
    "---\n",
    "\n",
    "### 15. How does Python’s garbage collection system work?\n",
    "\n",
    "Python uses reference counting and a cyclic garbage collector to free memory occupied by objects no longer in use.\n",
    "\n",
    "---\n",
    "\n",
    "### 16. What is the purpose of the else block in exception handling?\n",
    "\n",
    "The `else` block runs only if the `try` block does not raise an exception.\n",
    "\n",
    "---\n",
    "\n",
    "### 17. What are the common logging levels in Python?\n",
    "\n",
    "1. DEBUG\n",
    "2. INFO\n",
    "3. WARNING\n",
    "4. ERROR\n",
    "5. CRITICAL\n",
    "\n",
    "---\n",
    "\n",
    "### 18. What is the difference between `os.fork()` and `multiprocessing` in Python?\n",
    "\n",
    "* `os.fork()` creates a child process (Unix only).\n",
    "* `multiprocessing` module works cross-platform and is more high-level and flexible.\n",
    "\n",
    "---\n",
    "\n",
    "### 19. What is the importance of closing a file in Python?\n",
    "\n",
    "* Frees system resources.\n",
    "* Ensures all data is written to disk.\n",
    "* Avoids file corruption.\n",
    "\n",
    "---\n",
    "\n",
    "### 20. What is the difference between `file.read()` and `file.readline()` in Python?\n",
    "\n",
    "* `read()` reads the entire file.\n",
    "* `readline()` reads one line at a time.\n",
    "\n",
    "---\n",
    "\n",
    "### 21. What is the logging module in Python used for?\n",
    "\n",
    "Used to:\n",
    "\n",
    "* Record events and errors.\n",
    "* Write logs to files.\n",
    "* Support multi-level logging for diagnostics.\n",
    "\n",
    "---\n",
    "\n",
    "### 22. What is the os module in Python used for in file handling?\n",
    "\n",
    "* Interacts with the operating system.\n",
    "* File and directory operations (`os.remove()`, `os.rename()`, `os.path` functions).\n",
    "\n",
    "---\n",
    "\n",
    "### 23. What are the challenges associated with memory management in Python?\n",
    "\n",
    "* Circular references\n",
    "* Memory leaks in C extensions\n",
    "* Inefficient use of memory in large applications\n",
    "\n",
    "---\n",
    "\n",
    "### 24. How do you raise an exception manually in Python?\n",
    "\n",
    "Use the `raise` keyword:\n",
    "\n",
    "```python\n",
    "raise ValueError(\"Invalid value\")\n",
    "```\n",
    "\n",
    "---\n",
    "\n",
    "### 25. Why is it important to use multithreading in certain applications?\n",
    "\n",
    "* Improves performance in I/O-bound operations\n",
    "* Enables concurrent execution of tasks\n",
    "* Useful for GUI responsiveness or network operations\n",
    "\n"
   ]
  },
  {
   "cell_type": "markdown",
   "id": "a0a1142f",
   "metadata": {},
   "source": [
    "# Practical"
   ]
  },
  {
   "cell_type": "markdown",
   "id": "265a08f6",
   "metadata": {},
   "source": [
    "### Q1"
   ]
  },
  {
   "cell_type": "code",
   "execution_count": 1,
   "id": "ccc8afef",
   "metadata": {},
   "outputs": [
    {
     "name": "stdout",
     "output_type": "stream",
     "text": [
      "Task Done.\n"
     ]
    }
   ],
   "source": [
    "with open(\"output.txt\", \"w\") as f:\n",
    "    f.write(\"Hello, world!\\n\")\n",
    "    print('Task Done.')"
   ]
  },
  {
   "cell_type": "markdown",
   "id": "b7179b2f",
   "metadata": {},
   "source": [
    "### Q2"
   ]
  },
  {
   "cell_type": "code",
   "execution_count": 2,
   "id": "6b60bfb4",
   "metadata": {},
   "outputs": [
    {
     "name": "stdout",
     "output_type": "stream",
     "text": [
      "Hello, world!\n"
     ]
    }
   ],
   "source": [
    "with open('output.txt','r') as f:\n",
    "    for line in f:\n",
    "        print(line.strip())"
   ]
  },
  {
   "cell_type": "markdown",
   "id": "d45ea38a",
   "metadata": {},
   "source": [
    "### Q3"
   ]
  },
  {
   "cell_type": "code",
   "execution_count": 3,
   "id": "b69029d7",
   "metadata": {},
   "outputs": [
    {
     "name": "stdout",
     "output_type": "stream",
     "text": [
      "Error :File don't exist\n"
     ]
    }
   ],
   "source": [
    "try:\n",
    "    with open('File.txt','r') as f:\n",
    "        data = f.read()\n",
    "except FileNotFoundError as e:\n",
    "    print(f\"Error :File don't exist\")"
   ]
  },
  {
   "cell_type": "markdown",
   "id": "9679079a",
   "metadata": {},
   "source": [
    "### Q4"
   ]
  },
  {
   "cell_type": "code",
   "execution_count": 4,
   "id": "f604a095",
   "metadata": {},
   "outputs": [
    {
     "name": "stdout",
     "output_type": "stream",
     "text": [
      "Content Copied !\n"
     ]
    }
   ],
   "source": [
    "with open('source.txt','r') as src,open('destination.txt','w') as dst:\n",
    "    for line in src:\n",
    "        dst.write(line)\n",
    "    print('Content Copied !')"
   ]
  },
  {
   "cell_type": "markdown",
   "id": "2cc93b76",
   "metadata": {},
   "source": [
    "### Q5"
   ]
  },
  {
   "cell_type": "code",
   "execution_count": 5,
   "id": "8813c11e",
   "metadata": {},
   "outputs": [
    {
     "name": "stdout",
     "output_type": "stream",
     "text": [
      "Cannot divide by Zero\n"
     ]
    }
   ],
   "source": [
    "try:\n",
    "    result=10/0\n",
    "except ZeroDivisionError as e:\n",
    "    print('Cannot divide by Zero')"
   ]
  },
  {
   "cell_type": "markdown",
   "id": "7b86192a",
   "metadata": {},
   "source": [
    "### Q6"
   ]
  },
  {
   "cell_type": "code",
   "execution_count": 6,
   "id": "28f73cbb",
   "metadata": {},
   "outputs": [],
   "source": [
    "import logging\n",
    "\n",
    "logging.basicConfig(filename='errors.log',\n",
    "                    level=logging.ERROR,\n",
    "                    format=\"%(asctime)s %(levelname)s %(message)s\")\n",
    "\n",
    "try:\n",
    "    1/0\n",
    "except ZeroDivisionError as e:\n",
    "    logging.error(\"Division of Zero: %s\",e)"
   ]
  },
  {
   "cell_type": "markdown",
   "id": "dd9e5f25",
   "metadata": {},
   "source": [
    "### Q7"
   ]
  },
  {
   "cell_type": "code",
   "execution_count": 7,
   "id": "510596b2",
   "metadata": {},
   "outputs": [],
   "source": [
    "logging.basicConfig(filename='app.log',\n",
    "                    level=logging.DEBUG,\n",
    "                    format=\"%(levelname)s:%(message)s\")\n",
    "\n",
    "logging.info('This is an info message.')\n",
    "logging.warning('This is a warning.')\n",
    "logging.error('This is an error')"
   ]
  },
  {
   "cell_type": "markdown",
   "id": "3f3590f7",
   "metadata": {},
   "source": [
    "### Q8"
   ]
  },
  {
   "cell_type": "code",
   "execution_count": 8,
   "id": "ce5880d4",
   "metadata": {},
   "outputs": [
    {
     "name": "stdout",
     "output_type": "stream",
     "text": [
      "Error opening file :No such file or directory, first create the file.\n"
     ]
    }
   ],
   "source": [
    "file = 'sample.txt'\n",
    "try:\n",
    "    f= open(file,'r')\n",
    "except OSError as e:\n",
    "    print(f\"Error opening file :{e.strerror}, first create the file.\")\n",
    "else:\n",
    "    data = f.read()\n",
    "    f.close()\n"
   ]
  },
  {
   "cell_type": "markdown",
   "id": "b45c65a9",
   "metadata": {},
   "source": [
    "### Q9"
   ]
  },
  {
   "cell_type": "code",
   "execution_count": 9,
   "id": "42bf347d",
   "metadata": {},
   "outputs": [
    {
     "name": "stdout",
     "output_type": "stream",
     "text": [
      "['i am abhay kumar singh.', 'i an data science student.i am donig assignment !']\n",
      "task done !\n"
     ]
    }
   ],
   "source": [
    "lines =[]\n",
    "with open('data.txt', 'r') as f:\n",
    "    for line in f:\n",
    "        lines.append(line.strip())\n",
    "    print(lines)\n",
    "    print('task done !')"
   ]
  },
  {
   "cell_type": "markdown",
   "id": "af6863c4",
   "metadata": {},
   "source": [
    "### Q10"
   ]
  },
  {
   "cell_type": "code",
   "execution_count": 10,
   "id": "e9c98fc8",
   "metadata": {},
   "outputs": [],
   "source": [
    "with open('data.txt','a') as f:\n",
    "    f.write('i am donig assignment ! \\n')"
   ]
  },
  {
   "cell_type": "markdown",
   "id": "a97b8682",
   "metadata": {},
   "source": [
    "### Q11"
   ]
  },
  {
   "cell_type": "code",
   "execution_count": 11,
   "id": "f064af96",
   "metadata": {},
   "outputs": [
    {
     "name": "stdout",
     "output_type": "stream",
     "text": [
      "Key 'b' not found.\n"
     ]
    }
   ],
   "source": [
    "d = {\"a\": 1}\n",
    "try:\n",
    "    value = d[\"b\"]\n",
    "except KeyError:\n",
    "    print(\"Key 'b' not found.\")\n"
   ]
  },
  {
   "cell_type": "markdown",
   "id": "0a889a1f",
   "metadata": {},
   "source": [
    "### Q12"
   ]
  },
  {
   "cell_type": "code",
   "execution_count": 12,
   "id": "5f97aafa",
   "metadata": {},
   "outputs": [
    {
     "name": "stdout",
     "output_type": "stream",
     "text": [
      "ValueError caught.\n"
     ]
    }
   ],
   "source": [
    "try:\n",
    "    x = int(\"not a number\")\n",
    "    y = [][2]\n",
    "except ValueError:\n",
    "    print(\"ValueError caught.\")\n",
    "except IndexError:\n",
    "    print(\"IndexError caught.\")\n"
   ]
  },
  {
   "cell_type": "markdown",
   "id": "eb2c94b8",
   "metadata": {},
   "source": [
    "### Q13"
   ]
  },
  {
   "cell_type": "code",
   "execution_count": 13,
   "id": "01dcb953",
   "metadata": {},
   "outputs": [
    {
     "name": "stdout",
     "output_type": "stream",
     "text": [
      "File does not exist.\n"
     ]
    }
   ],
   "source": [
    "import os\n",
    "\n",
    "if os.path.exists(\"sample.txt\"):\n",
    "    with open(\"maybe.txt\") as f:\n",
    "        print(f.read())\n",
    "else:\n",
    "    print(\"File does not exist.\")\n"
   ]
  },
  {
   "cell_type": "markdown",
   "id": "9b08950d",
   "metadata": {},
   "source": [
    "### Q14"
   ]
  },
  {
   "cell_type": "code",
   "execution_count": 14,
   "id": "06c06df7",
   "metadata": {},
   "outputs": [],
   "source": [
    "\n",
    "logging.basicConfig(filename=\"app.log\",\n",
    "                    level=logging.INFO,\n",
    "                    format=\"%(asctime)s %(levelname)s:%(message)s\")\n",
    "\n",
    "logging.info(\"Application started.\")\n",
    "try:\n",
    "    1 / 0\n",
    "except ZeroDivisionError:\n",
    "    logging.error(\"Tried to divide by zero.\")\n"
   ]
  },
  {
   "cell_type": "markdown",
   "id": "d1b1af0e",
   "metadata": {},
   "source": [
    "### Q15"
   ]
  },
  {
   "cell_type": "code",
   "execution_count": 15,
   "id": "83816be8",
   "metadata": {},
   "outputs": [
    {
     "name": "stdout",
     "output_type": "stream",
     "text": [
      "File is empty.\n"
     ]
    }
   ],
   "source": [
    "f= open('output.txt','w')\n",
    "f.close()\n",
    "with open(\"output.txt\", \"r\") as f:\n",
    "    content = f.read()\n",
    "    if content:\n",
    "        print(content)\n",
    "    else:\n",
    "        print(\"File is empty.\")"
   ]
  },
  {
   "cell_type": "markdown",
   "id": "2ec325f4",
   "metadata": {},
   "source": [
    "### Q16"
   ]
  },
  {
   "cell_type": "code",
   "execution_count": null,
   "id": "02726ce7",
   "metadata": {},
   "outputs": [
    {
     "name": "stdout",
     "output_type": "stream",
     "text": [
      "Requirement already satisfied: memory_profiler in /Library/Frameworks/Python.framework/Versions/3.12/lib/python3.12/site-packages (0.61.0)\n",
      "Requirement already satisfied: psutil in /Users/abhaykumarsingh/Library/Python/3.12/lib/python/site-packages (from memory_profiler) (7.0.0)\n",
      "\n",
      "\u001b[1m[\u001b[0m\u001b[34;49mnotice\u001b[0m\u001b[1;39;49m]\u001b[0m\u001b[39;49m A new release of pip is available: \u001b[0m\u001b[31;49m25.0.1\u001b[0m\u001b[39;49m -> \u001b[0m\u001b[32;49m25.1.1\u001b[0m\n",
      "\u001b[1m[\u001b[0m\u001b[34;49mnotice\u001b[0m\u001b[1;39;49m]\u001b[0m\u001b[39;49m To update, run: \u001b[0m\u001b[32;49mpip install --upgrade pip\u001b[0m\n"
     ]
    }
   ],
   "source": [
    "# ! pip3 install memory_profiler"
   ]
  },
  {
   "cell_type": "code",
   "execution_count": null,
   "id": "612c8d78",
   "metadata": {},
   "outputs": [
    {
     "name": "stdout",
     "output_type": "stream",
     "text": [
      "ERROR: Could not find file /var/folders/jw/cmzcr5195z11zttd016_hlx00000gn/T/ipykernel_53415/943083308.py\n"
     ]
    }
   ],
   "source": [
    "# memory_test.py >> this only work if it is in the .py script, not in the notebook cell.\n",
    "# if we run here>> error found of file not found.\n",
    "\n",
    "from memory_profiler import profile\n",
    "\n",
    "@profile\n",
    "def compute():\n",
    "    a = [i for i in range(1_000_000)]\n",
    "    return sum(a)\n",
    "\n",
    "if __name__ == \"__main__\":\n",
    "    compute()\n",
    "\n"
   ]
  },
  {
   "cell_type": "markdown",
   "id": "b8d1ddd1",
   "metadata": {},
   "source": [
    "### Q17"
   ]
  },
  {
   "cell_type": "code",
   "execution_count": null,
   "id": "8f33a9d5",
   "metadata": {},
   "outputs": [],
   "source": [
    "numbers = [10, 20, 30, 40, 50]\n",
    "with open(\"nums.txt\", \"w\") as f:\n",
    "    for num in numbers:\n",
    "        f.write(f\"{num}\\n\")"
   ]
  },
  {
   "cell_type": "markdown",
   "id": "5420c35b",
   "metadata": {},
   "source": [
    "### Q18"
   ]
  },
  {
   "cell_type": "code",
   "execution_count": 22,
   "id": "da8a8486",
   "metadata": {},
   "outputs": [],
   "source": [
    "import logging\n",
    "from logging.handlers import RotatingFileHandler\n",
    "\n",
    "handler = RotatingFileHandler(\"rotating.log\", maxBytes=1_000_000, backupCount=3)\n",
    "formatter = logging.Formatter(\"%(asctime)s %(levelname)s:%(message)s\")\n",
    "handler.setFormatter(formatter)\n",
    "\n",
    "logger = logging.getLogger(\"my_logger\")\n",
    "logger.setLevel(logging.INFO)\n",
    "logger.addHandler(handler)\n",
    "\n",
    "logger.info(\"Adding info to rotating.log !\")\n"
   ]
  },
  {
   "cell_type": "markdown",
   "id": "534d0700",
   "metadata": {},
   "source": [
    "### Q19"
   ]
  },
  {
   "cell_type": "code",
   "execution_count": null,
   "id": "085c9670",
   "metadata": {},
   "outputs": [
    {
     "name": "stdout",
     "output_type": "stream",
     "text": [
      "Caught exception: list index out of range\n"
     ]
    }
   ],
   "source": [
    "l = [1, 2, 3]\n",
    "d = {}\n",
    "\n",
    "try:\n",
    "    x = l[10]\n",
    "    y = d[\"missing\"]\n",
    "except (IndexError, KeyError) as e:\n",
    "    print(f\"Caught exception: {e}\")\n"
   ]
  },
  {
   "cell_type": "markdown",
   "id": "1d12bf05",
   "metadata": {},
   "source": [
    "### Q20"
   ]
  },
  {
   "cell_type": "code",
   "execution_count": 24,
   "id": "63ae4a76",
   "metadata": {},
   "outputs": [
    {
     "name": "stdout",
     "output_type": "stream",
     "text": [
      "i am abhay kumar singh.\n",
      "i an data science student.i am donig assignment ! \n",
      "i am donig assignment ! \n",
      "\n"
     ]
    }
   ],
   "source": [
    "# Context manager is >> with , which opens and close the file automatically by calling __enter()__ & __exit()__.\n",
    "with open(\"data.txt\", \"r\") as f:\n",
    "    contents = f.read()\n",
    "print(contents)\n"
   ]
  },
  {
   "cell_type": "markdown",
   "id": "42c42d1d",
   "metadata": {},
   "source": [
    "### Q21"
   ]
  },
  {
   "cell_type": "code",
   "execution_count": 25,
   "id": "cc816c0c",
   "metadata": {},
   "outputs": [
    {
     "name": "stdout",
     "output_type": "stream",
     "text": [
      "'i' occurs 3 time(s).\n"
     ]
    }
   ],
   "source": [
    "from collections import Counter\n",
    "\n",
    "target = \"i\"\n",
    "with open(\"data.txt\", \"r\") as f:\n",
    "    words = f.read().lower().split()\n",
    "\n",
    "count = Counter(words)[target]\n",
    "print(f\"'{target}' occurs {count} time(s).\")\n"
   ]
  },
  {
   "cell_type": "markdown",
   "id": "7e5ac242",
   "metadata": {},
   "source": [
    "### Q22"
   ]
  },
  {
   "cell_type": "code",
   "execution_count": 27,
   "id": "aba4c59a",
   "metadata": {},
   "outputs": [
    {
     "name": "stdout",
     "output_type": "stream",
     "text": [
      "Created the empty file for the Test !\n",
      "File is empty. Add the content before reading!\n"
     ]
    }
   ],
   "source": [
    "import os\n",
    "\n",
    "with open('output.txt','w'):\n",
    "    print('Created the empty file for the Test !')\n",
    "if os.stat(\"output.txt\").st_size == 0:\n",
    "    print(\"File is empty. Add the content before reading!\")\n",
    "else:\n",
    "    with open(\"output.txt\") as f:\n",
    "        print(f.read())\n"
   ]
  },
  {
   "cell_type": "markdown",
   "id": "ae117cc8",
   "metadata": {},
   "source": [
    "### Q23"
   ]
  },
  {
   "cell_type": "code",
   "execution_count": null,
   "id": "de6bcd59",
   "metadata": {},
   "outputs": [],
   "source": [
    "logging.basicConfig(filename=\"fileErrors.log\",\n",
    "                    level=logging.ERROR,\n",
    "                    format=\"%(asctime)s %(levelname)s:%(message)s\")\n",
    "\n",
    "try:\n",
    "    with open(\"data.bin\", \"rb\") as f:\n",
    "        data = f.read()\n",
    "except Exception as e:\n",
    "    logging.exception(\"Error while handling file:\")\n"
   ]
  }
 ],
 "metadata": {
  "kernelspec": {
   "display_name": "Python 3",
   "language": "python",
   "name": "python3"
  },
  "language_info": {
   "codemirror_mode": {
    "name": "ipython",
    "version": 3
   },
   "file_extension": ".py",
   "mimetype": "text/x-python",
   "name": "python",
   "nbconvert_exporter": "python",
   "pygments_lexer": "ipython3",
   "version": "3.12.9"
  }
 },
 "nbformat": 4,
 "nbformat_minor": 5
}
