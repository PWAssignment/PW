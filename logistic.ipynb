{
 "cells": [
  {
   "cell_type": "markdown",
   "id": "bdabdb7b",
   "metadata": {},
   "source": [
    "**1. What is Logistic Regression, and how does it differ from Linear Regression?**\n",
    "\n",
    "* **Logistic Regression** predicts the probability of a binary outcome (0 or 1), whereas **Linear Regression** predicts a continuous value.\n",
    "* In Logistic Regression, the linear score $z = \\mathbf w^\\top \\mathbf x + b$ is passed through a sigmoid to produce a probability; Linear Regression uses $z$ directly.\n",
    "* Logistic uses cross‐entropy loss; Linear uses squared‐error loss.\n",
    "\n",
    "---\n",
    "\n",
    "**2. What is the mathematical equation of Logistic Regression?**\n",
    "\n",
    "* Compute the linear score:\n",
    "\n",
    "  $$\n",
    "    z = \\mathbf w^\\top \\mathbf x + b.\n",
    "  $$\n",
    "* Convert to probability via the sigmoid:\n",
    "\n",
    "  $$\n",
    "    \\hat p(\\mathbf x) \\;=\\; \\sigma(z) \\;=\\; \\frac{1}{1 + e^{-z}}.\n",
    "  $$\n",
    "* Predicted class $\\hat y = 1$ if $\\hat p \\ge 0.5$, else 0.\n",
    "\n",
    "---\n",
    "\n",
    "**3. Why do we use the Sigmoid function in Logistic Regression?**\n",
    "\n",
    "* The sigmoid $\\sigma(z)$ maps any real number $z$ into $[0,\\,1]$, so it can be interpreted as $P(y=1 \\mid \\mathbf x)$.\n",
    "* It is smooth and differentiable, making gradient‐based optimization (with cross‐entropy) convex.\n",
    "\n",
    "---\n",
    "\n",
    "**4. What is the cost function of Logistic Regression?**\n",
    "\n",
    "* For one example $(\\mathbf x^{(i)}, y^{(i)})$, the binary cross‐entropy is\n",
    "\n",
    "  $$\n",
    "    \\ell^{(i)} = -\\bigl[y^{(i)}\\log\\hat p^{(i)} + (1-y^{(i)})\\log(1-\\hat p^{(i)})\\bigr],  \n",
    "    \\quad \\hat p^{(i)} = \\sigma(\\mathbf w^\\top \\mathbf x^{(i)} + b).\n",
    "  $$\n",
    "* Over $N$ samples, the average cost is\n",
    "\n",
    "  $$\n",
    "    J(\\mathbf w,b) = -\\frac{1}{N} \\sum_{i=1}^N \\bigl[y^{(i)}\\log\\hat p^{(i)} + (1-y^{(i)})\\log(1-\\hat p^{(i)})\\bigr],\n",
    "  $$\n",
    "\n",
    "  plus any regularization term.\n",
    "\n",
    "---\n",
    "\n",
    "**5. What is Regularization in Logistic Regression? Why is it needed?**\n",
    "\n",
    "* **Regularization** adds a penalty to the loss to shrink weights and prevent overfitting. Common forms:\n",
    "\n",
    "  * **L2 (Ridge):** $\\displaystyle \\frac{\\lambda}{2}\\sum_j w_j^2$.\n",
    "  * **L1 (Lasso):** $\\displaystyle \\lambda\\sum_j |w_j|$.\n",
    "* It is needed to avoid overly large weights (overfitting), improve numerical stability, and—in the L1 case—perform feature selection.\n",
    "\n",
    "---\n",
    "\n",
    "**6. Explain the difference between Lasso, Ridge, and Elastic Net regression.**\n",
    "\n",
    "* **Ridge (L2):** Penalizes $\\sum w_j^2$. Shrinks weights smoothly but doesn’t set them exactly to zero.\n",
    "* **Lasso (L1):** Penalizes $\\sum |w_j|$. Can drive some $w_j$ exactly to zero, yielding a sparse model.\n",
    "* **Elastic Net:** Combines L1 and L2:\n",
    "\n",
    "  $$\n",
    "    \\alpha\\,\\lambda \\sum_j |w_j| \\;+\\; (1-\\alpha)\\,\\frac{\\lambda}{2}\\sum_j w_j^2,\n",
    "  $$\n",
    "\n",
    "  balancing sparsity (L1) and stability with correlated features (L2).\n",
    "\n",
    "---\n",
    "\n",
    "**7. When should we use Elastic Net instead of Lasso or Ridge?**\n",
    "\n",
    "* Use Elastic Net when:\n",
    "\n",
    "  1. You have **highly correlated features**—Elastic Net will keep groups together rather than picking one.\n",
    "  2. You want both **sparsity** (like Lasso) and **numerical stability** (like Ridge).\n",
    "  3. The feature count $p$ greatly exceeds sample size $N$, so pure Lasso may be unstable.\n",
    "\n",
    "---\n",
    "\n",
    "**8. What is the impact of the regularization parameter ($\\lambda$) in Logistic Regression?**\n",
    "\n",
    "* **Larger $\\lambda$:** Stronger penalty → weights are forced closer to zero → higher bias, lower variance (risk of underfitting).\n",
    "* **Smaller $\\lambda$:** Weaker penalty → weights can grow to fit data → lower bias, higher variance (risk of overfitting).\n",
    "* You tune $\\lambda$ (often via $C = 1/\\lambda$) using cross‐validation to balance bias and variance.\n",
    "\n",
    "---\n",
    "\n",
    "**9. What are the key assumptions of Logistic Regression?**\n",
    "\n",
    "1. **Linearity in the log‐odds:** $\\log\\bigl(p/(1-p)\\bigr)$ is a linear function of features.\n",
    "2. **Independent observations:** Each sample is assumed independent of the others.\n",
    "3. **No perfect multicollinearity:** Highly correlated predictors can destabilize estimates.\n",
    "4. **Sufficient sample size per predictor:** Common rule: at least 10–20 positive (and negative) cases per feature.\n",
    "\n",
    "---\n",
    "\n",
    "**10. What are some alternatives to Logistic Regression for classification tasks?**\n",
    "\n",
    "* **Linear models:** Linear SVM, Linear Discriminant Analysis (LDA).\n",
    "* **Tree‐based methods:** Decision Trees, Random Forests, Gradient Boosting (e.g., XGBoost).\n",
    "* **Instance‐based:** k-Nearest Neighbors (kNN).\n",
    "* **Kernel methods:** SVM with RBF or polynomial kernels.\n",
    "* **Probabilistic:** Naive Bayes (Gaussian, Multinomial).\n",
    "* **Neural Networks:** Multi‐layer Perceptrons, CNNs (for images), etc.\n",
    "\n",
    "---\n",
    "\n",
    "**11. What are Classification Evaluation Metrics?**\n",
    "\n",
    "* **Confusion Matrix:** TP, FP, TN, FN.\n",
    "* **Accuracy:** $(TP + TN)/(TP + TN + FP + FN)$.\n",
    "* **Precision:** $TP/(TP + FP)$.\n",
    "* **Recall (Sensitivity):** $TP/(TP + FN)$.\n",
    "* **F1‐Score:** Harmonic mean of precision and recall.\n",
    "* **Specificity:** $TN/(TN + FP)$.\n",
    "* **ROC‐AUC:** Area under ROC curve (TPR vs. FPR).\n",
    "* **Precision‐Recall Curve / AUC‐PR:** Especially when positives are rare.\n",
    "* **Log‐Loss:** Average cross‐entropy on held‐out data.\n",
    "\n",
    "---\n",
    "\n",
    "**12. How does class imbalance affect Logistic Regression?**\n",
    "\n",
    "* The model tends to favor the **majority class** because minimizing overall log‐loss can ignore the minority.\n",
    "* Decision boundary shifts toward the minority class, leading to high false negatives.\n",
    "* **Mitigation:**\n",
    "\n",
    "  1. **Resampling:** Oversample minority (e.g., SMOTE) or undersample majority.\n",
    "  2. **Class‐weighted loss:** Give minority samples a larger weight in the loss.\n",
    "  3. **Threshold adjustment:** Pick a decision threshold other than 0.5 to balance precision/recall.\n",
    "  4. **Use metrics** like F1 or AUC‐PR instead of accuracy.\n",
    "\n",
    "---\n",
    "\n",
    "**13. What is Hyperparameter Tuning in Logistic Regression?**\n",
    "\n",
    "* **Hyperparameters** are settings not learned from data (e.g., $\\lambda$ or $C$, penalty type, solver, max iterations).\n",
    "* **Tuning process:**\n",
    "\n",
    "  1. Choose a range/grid for each hyperparameter (e.g., $C\\in\\{0.01,0.1,1,10\\}$).\n",
    "  2. Use cross‐validation (e.g., 5‐fold) to evaluate each combination (e.g., by AUC or F1).\n",
    "  3. Select the combination with best validation performance.\n",
    "  4. Retrain on full training set using those chosen hyperparameters.\n",
    "\n",
    "---\n",
    "\n",
    "**14. What are different solvers in Logistic Regression? Which one should be used?**\n",
    "\n",
    "* **Common solvers in scikit‐learn:**\n",
    "\n",
    "  * **“liblinear”:** Coordinate descent, supports L1 or L2, good for small‐to‐medium datasets.\n",
    "  * **“newton‐cg”:** Newton’s method (Hessian‐based), L2 only, handles multiclass natively.\n",
    "  * **“lbfgs”:** Quasi‐Newton, L2 only, good default for medium‐ to large‐scale problems, multiclass capable.\n",
    "  * **“sag” / “saga”:** Stochastic average gradient; “saga” also supports L1/elastic‐net. Best for large $N$.\n",
    "* **Which to choose?**\n",
    "\n",
    "  * **Small data + L1:** “liblinear.”\n",
    "  * **Large data + L2 or no penalty:** “lbfgs” (dense) or “saga” (sparse).\n",
    "  * **Elastic Net:** “saga.”\n",
    "  * **Multiclass with multinomial loss:** “lbfgs,” “newton‐cg,” or “saga.”\n",
    "\n",
    "---\n",
    "\n",
    "**15. How is Logistic Regression extended for multiclass classification?**\n",
    "\n",
    "1. **One‐vs‐Rest (OvR):**\n",
    "\n",
    "   * Train $K$ binary models (one per class vs. rest).\n",
    "   * At prediction, pick the class whose model outputs the highest probability.\n",
    "2. **Multinomial (Softmax) Logistic Regression:**\n",
    "\n",
    "   * Directly model all $K$ classes together:\n",
    "\n",
    "     $$\n",
    "       P(y = k \\mid \\mathbf x)\n",
    "       = \\frac{\\exp(\\mathbf w_k^\\top \\mathbf x + b_k)}{\\sum_{j=1}^K \\exp(\\mathbf w_j^\\top \\mathbf x + b_j)}.\n",
    "     $$\n",
    "   * Ensures $\\sum_{k=1}^K P(y=k)=1$. Typically more accurate if classes overlap.\n",
    "\n",
    "---\n",
    "\n",
    "**16. What are the advantages and disadvantages of Logistic Regression?**\n",
    "\n",
    "* **Advantages:**\n",
    "\n",
    "  1. **Interpretability:** Coefficients map directly to log‐odds.\n",
    "  2. **Fast training** and convex optimization (unique global minimum).\n",
    "  3. **Probabilistic outputs,** which can be thresholded or used in decision frameworks.\n",
    "  4. **Works well** when decision boundary is roughly linear.\n",
    "* **Disadvantages:**\n",
    "\n",
    "  1. **Linear decision boundary:** Cannot capture complex nonlinear relationships without feature engineering.\n",
    "  2. **Sensitive to multicollinearity** and irrelevant features (needs regularization).\n",
    "  3. **May underperform** compared to tree‐based or neural methods on complex data.\n",
    "\n",
    "---\n",
    "\n",
    "**17. What are some use cases of Logistic Regression?**\n",
    "\n",
    "* **Medical diagnosis:** Predict disease/no‐disease from lab values (e.g., diabetes).\n",
    "* **Credit scoring:** Approve/decline loan applications based on financial indicators.\n",
    "* **Spam detection:** Classify email as spam or not based on word features.\n",
    "* **Customer churn:** Predict if a customer will cancel a subscription.\n",
    "* **Marketing response:** Estimate likelihood of clicking an ad or responding to a campaign.\n",
    "* Also commonly used as a **baseline** before trying more complex models.\n",
    "\n",
    "---\n",
    "\n",
    "**18. What is the difference between Softmax Regression and Logistic Regression?**\n",
    "\n",
    "* **Logistic Regression:** Designed for **binary** classification. Outputs $P(y=1)$ via a sigmoid.\n",
    "* **Softmax Regression (Multinomial):** Generalizes to $K$ classes by normalizing exponentially scored outputs over all classes so that $\\sum_{k=1}^K P(y=k)=1$. For $K=2$, it reduces to the sigmoid form.\n",
    "\n",
    "---\n",
    "\n",
    "**19. How do we choose between One-vs-Rest (OvR) and Softmax for multiclass classification?**\n",
    "\n",
    "* **OvR:**\n",
    "\n",
    "  * Simpler: trains $K$ independent binary models.\n",
    "  * Useful if classes are well‐separable one‐vs‐all or you want to tune each classifier separately.\n",
    "  * Probabilities from OvR are not guaranteed to sum to 1.\n",
    "* **Softmax (multinomial):**\n",
    "\n",
    "  * Jointly optimizes all $K$ weight vectors so that outputs sum to 1.\n",
    "  * Often more accurate when classes overlap, but slightly more expensive to train.\n",
    "  * Use when you need calibrated probabilities across all classes.\n",
    "\n",
    "---\n",
    "\n",
    "**20. How do we interpret coefficients in Logistic Regression?**\n",
    "\n",
    "* For a feature $x_j$, the coefficient $w_j$ is the **change in log‐odds** of $y=1$ for a one‐unit increase in $x_j$, holding other features constant.\n",
    "* Exponentiating gives the **odds ratio:** $\\exp(w_j)$ = factor by which odds multiply if $x_j$ increases by one.\n",
    "* **Sign of $w_j$:**\n",
    "\n",
    "  * $w_j > 0$: Increasing $x_j$ raises $P(y=1)$.\n",
    "  * $w_j < 0$: Increasing $x_j$ lowers $P(y=1)$.\n",
    "* In **multinomial (softmax)** models, each class $k$ has its own coefficient vector $\\mathbf w_k$. The difference $w_{k,j} - w_{\\ell,j}$ tells how $x_j$ shifts log‐odds between class $k$ and class $\\ell$.\n",
    "\n"
   ]
  },
  {
   "cell_type": "markdown",
   "id": "47e6fa96",
   "metadata": {},
   "source": [
    "# Practical"
   ]
  },
  {
   "cell_type": "code",
   "execution_count": 102,
   "id": "c79c2135",
   "metadata": {},
   "outputs": [],
   "source": [
    "import numpy as np\n",
    "import pandas as pd\n",
    "import matplotlib.pyplot as plt\n",
    "import seaborn as sns\n",
    "\n",
    "import warnings\n",
    "warnings.filterwarnings('ignore')"
   ]
  },
  {
   "cell_type": "markdown",
   "id": "062e9b8c",
   "metadata": {},
   "source": [
    "### Q1"
   ]
  },
  {
   "cell_type": "code",
   "execution_count": 103,
   "id": "b5354a6c",
   "metadata": {},
   "outputs": [
    {
     "name": "stdout",
     "output_type": "stream",
     "text": [
      "Accuracy of logistic model : 0.9474\n"
     ]
    }
   ],
   "source": [
    "from sklearn.datasets import load_breast_cancer\n",
    "from sklearn.model_selection import train_test_split\n",
    "from sklearn.linear_model import LogisticRegression\n",
    "from sklearn.metrics import accuracy_score\n",
    "\n",
    "# load the dataset\n",
    "x,y = load_breast_cancer(return_X_y=True)\n",
    "\n",
    "x_train, x_test, y_train, y_test = train_test_split(x,y,test_size=0.3, random_state=34,stratify=y)\n",
    "\n",
    "model = LogisticRegression(max_iter=5000, solver=\"lbfgs\")\n",
    "model.fit(x_train,y_train)\n",
    "y_pred = model.predict(x_test)\n",
    "print(f\"Accuracy of logistic model : {accuracy_score(y_test,y_pred):.4f}\")"
   ]
  },
  {
   "cell_type": "markdown",
   "id": "168d5582",
   "metadata": {},
   "source": [
    "### Q2"
   ]
  },
  {
   "cell_type": "code",
   "execution_count": 104,
   "id": "732621ea",
   "metadata": {},
   "outputs": [
    {
     "name": "stdout",
     "output_type": "stream",
     "text": [
      "L1 regularised logistic model's  Accuracy score : 0.9474\n"
     ]
    }
   ],
   "source": [
    "# load the dataset\n",
    "x,y = load_breast_cancer(return_X_y=True)\n",
    "\n",
    "x_train, x_test, y_train, y_test = train_test_split(x,y,test_size=0.3, random_state=38,stratify=y)\n",
    "\n",
    "model = LogisticRegression( max_iter=8000,solver=\"saga\",penalty='l1')\n",
    "model.fit(x_train,y_train)\n",
    "y_pred = model.predict(x_test)\n",
    "print(f\"L1 regularised logistic model's  Accuracy score : {accuracy_score(y_test,y_pred):.4f}\")"
   ]
  },
  {
   "cell_type": "markdown",
   "id": "40947989",
   "metadata": {},
   "source": [
    "### Q3"
   ]
  },
  {
   "cell_type": "code",
   "execution_count": 105,
   "id": "5288cb1f",
   "metadata": {},
   "outputs": [
    {
     "name": "stdout",
     "output_type": "stream",
     "text": [
      "L2-regularized Logistic Regression accuracy: 0.9591\n",
      "\n",
      "mean radius                   :0.9492\n",
      "mean texture                  :0.1590\n",
      "mean perimeter                :-0.2135\n",
      "mean area                     :0.0160\n",
      "mean smoothness               :-0.1334\n",
      "mean compactness              :-0.2144\n",
      "mean concavity                :-0.4739\n",
      "mean concave points           :-0.2383\n",
      "mean symmetry                 :-0.1986\n",
      "mean fractal dimension        :-0.0368\n",
      "radius error                  :-0.1143\n",
      "texture error                 :0.6921\n",
      "perimeter error               :0.4050\n",
      "area error                    :-0.1368\n",
      "smoothness error              :-0.0185\n",
      "compactness error             :0.0156\n",
      "concavity error               :-0.0607\n",
      "concave points error          :-0.0282\n",
      "symmetry error                :-0.0219\n",
      "fractal dimension error       :0.0012\n",
      "worst radius                  :-0.1045\n",
      "worst texture                 :-0.3687\n",
      "worst perimeter               :-0.1636\n",
      "worst area                    :-0.0049\n",
      "worst smoothness              :-0.3023\n",
      "worst compactness             :-0.6670\n",
      "worst concavity               :-1.2621\n",
      "worst concave points          :-0.4883\n",
      "worst symmetry                :-0.5152\n",
      "worst fractal dimension       :-0.1021\n"
     ]
    }
   ],
   "source": [
    "x,y=load_breast_cancer(return_X_y=True)\n",
    "features=load_breast_cancer().feature_names\n",
    "\n",
    "x_train, x_test, y_train, y_test = train_test_split(x,y,test_size=0.3, random_state=37)\n",
    "\n",
    "model = LogisticRegression( max_iter=8000,solver=\"lbfgs\",penalty='l2')\n",
    "model.fit(x_train, y_train)\n",
    "y_pred_l2 = model.predict(x_test)\n",
    "\n",
    "acc_l2 = accuracy_score(y_test, y_pred_l2)\n",
    "print(f\"L2-regularized Logistic Regression accuracy: {acc_l2:.4f}\\n\")\n",
    "coef= model.coef_.flatten()\n",
    "for names,cof in zip(features,coef):\n",
    "    print(f\"{names:30s}:{cof:.4f}\")"
   ]
  },
  {
   "cell_type": "markdown",
   "id": "59e150f7",
   "metadata": {},
   "source": [
    "### Q4"
   ]
  },
  {
   "cell_type": "code",
   "execution_count": 106,
   "id": "979fccc4",
   "metadata": {},
   "outputs": [
    {
     "name": "stdout",
     "output_type": "stream",
     "text": [
      "Elastic Net Logistic Regression accuracy: 0.9006\n"
     ]
    }
   ],
   "source": [
    "x,y=load_breast_cancer(return_X_y=True)\n",
    "features=load_breast_cancer().feature_names\n",
    "\n",
    "x_train, x_test, y_train, y_test = train_test_split(x,y,test_size=0.3, random_state=59,shuffle=True)\n",
    "#  Must set solver=\"saga\" to support 'elasticnet'\n",
    "model = LogisticRegression(\n",
    "    penalty=\"elasticnet\",\n",
    "    solver=\"saga\",\n",
    "    l1_ratio=0.8,     \n",
    "    max_iter=5000,\n",
    "    random_state=48\n",
    ")\n",
    "\n",
    "model.fit(x_train, y_train)\n",
    "\n",
    "y_pred_en = model.predict(x_test)\n",
    "acc_en = accuracy_score(y_test, y_pred_en)\n",
    "print(f\"Elastic Net Logistic Regression accuracy: {acc_en:.4f}\")\n"
   ]
  },
  {
   "cell_type": "markdown",
   "id": "e364319c",
   "metadata": {},
   "source": [
    "### Q5"
   ]
  },
  {
   "cell_type": "code",
   "execution_count": 107,
   "id": "cae7ca61",
   "metadata": {},
   "outputs": [
    {
     "name": "stdout",
     "output_type": "stream",
     "text": [
      "Multiclass Logistic Regression accuracy: 0.9556\n",
      "\n",
      "Classification Report:\n",
      "              precision    recall  f1-score   support\n",
      "\n",
      "      setosa       1.00      1.00      1.00        13\n",
      "  versicolor       0.85      1.00      0.92        11\n",
      "   virginica       1.00      0.90      0.95        21\n",
      "\n",
      "    accuracy                           0.96        45\n",
      "   macro avg       0.95      0.97      0.96        45\n",
      "weighted avg       0.96      0.96      0.96        45\n",
      "\n"
     ]
    }
   ],
   "source": [
    "from sklearn.datasets import load_iris\n",
    "from sklearn.metrics import accuracy_score, classification_report\n",
    "\n",
    "x,y = load_iris(return_X_y=True)\n",
    "class_names=load_iris().target_names\n",
    "x_train, x_test, y_train, y_test = train_test_split(x,y,test_size=0.3, random_state=59,shuffle=True)\n",
    "model = LogisticRegression(\n",
    "    solver=\"liblinear\",\n",
    "    multi_class=\"ovr\",\n",
    "    max_iter=6000,\n",
    "    random_state=34\n",
    ")\n",
    "model.fit(x_train,y_train)\n",
    "y_pred= model.predict(x_test)\n",
    "print(f\"Multiclass Logistic Regression accuracy: {accuracy_score(y_test,y_pred):.4f}\\n\")\n",
    "print(\"Classification Report:\")\n",
    "print(classification_report(y_test, y_pred, target_names=class_names))"
   ]
  },
  {
   "cell_type": "markdown",
   "id": "7fc15a41",
   "metadata": {},
   "source": [
    "### Q6"
   ]
  },
  {
   "cell_type": "code",
   "execution_count": 108,
   "id": "2c5415b5",
   "metadata": {},
   "outputs": [
    {
     "name": "stdout",
     "output_type": "stream",
     "text": [
      "Fitting 5 folds for each of 10 candidates, totalling 50 fits\n",
      "Best hyperparameters found:\n",
      "{'C': 100, 'penalty': 'l1'}\n",
      "Accuracy of best model :0.9825\n"
     ]
    }
   ],
   "source": [
    "from sklearn.model_selection import GridSearchCV\n",
    "\n",
    "x,y = load_breast_cancer(return_X_y=True)\n",
    "\n",
    "x_train, x_test, y_train, y_test = train_test_split(x,y,test_size=0.3, random_state=38,stratify=y)\n",
    "\n",
    "base_model = LogisticRegression( max_iter=8000,solver=\"liblinear\")\n",
    "param_grids = {\n",
    "    \"C\": [0.01, 0.1, 1, 10, 100],\n",
    "    \"penalty\": [\"l1\", \"l2\"],\n",
    "}\n",
    "\n",
    "gridcv = GridSearchCV(\n",
    "    estimator=base_model,\n",
    "    param_grid=param_grids,\n",
    "    scoring='accuracy',\n",
    "    cv=5,\n",
    "    verbose=1,\n",
    "    n_jobs=-1\n",
    ")\n",
    "gridcv.fit(x_train,y_train)\n",
    "\n",
    "model=gridcv.best_estimator_\n",
    "y_pred=model.predict(x_test)\n",
    "accu= accuracy_score(y_test,y_pred)\n",
    "print(\"Best hyperparameters found:\")\n",
    "print(gridcv.best_params_)\n",
    "\n",
    "print(f\"Accuracy of best model :{accu:.4f}\")\n"
   ]
  },
  {
   "cell_type": "markdown",
   "id": "51b69996",
   "metadata": {},
   "source": [
    "### Q7"
   ]
  },
  {
   "cell_type": "code",
   "execution_count": 109,
   "id": "f122f6e4",
   "metadata": {},
   "outputs": [
    {
     "name": "stdout",
     "output_type": "stream",
     "text": [
      "Fold 1 accuracy: 0.9474\n",
      "Fold 2 accuracy: 0.9737\n",
      "Fold 3 accuracy: 0.9649\n",
      "Fold 4 accuracy: 0.9474\n",
      "Fold 5 accuracy: 0.9292\n",
      "Average accuracy: 0.9525\n"
     ]
    }
   ],
   "source": [
    "from sklearn.model_selection import StratifiedKFold, cross_val_score\n",
    "\n",
    "x,y = load_breast_cancer(return_X_y=True)\n",
    "\n",
    "model = LogisticRegression(\n",
    "    penalty=\"l2\",\n",
    "    solver=\"lbfgs\",\n",
    "    max_iter=5000,\n",
    "    random_state=40\n",
    ")\n",
    "\n",
    "# 3. Set up Stratified K-Fold\n",
    "skf = StratifiedKFold(n_splits=5, shuffle=True, random_state=13)\n",
    "\n",
    "scores = cross_val_score(\n",
    "    estimator=model,\n",
    "    X=x,\n",
    "    y=y,\n",
    "    cv=skf,\n",
    "    scoring=\"accuracy\",\n",
    "    n_jobs=-1\n",
    ")\n",
    "\n",
    "for fold_idx, score in enumerate(scores, start=1):\n",
    "    print(f\"Fold {fold_idx} accuracy: {score:.4f}\")\n",
    "print(f\"Average accuracy: {np.mean(scores):.4f}\")\n"
   ]
  },
  {
   "cell_type": "markdown",
   "id": "3593d298",
   "metadata": {},
   "source": [
    "### Q8"
   ]
  },
  {
   "cell_type": "code",
   "execution_count": 110,
   "id": "0b764d2b",
   "metadata": {},
   "outputs": [
    {
     "name": "stdout",
     "output_type": "stream",
     "text": [
      "Accuracy of logistic model : 0.9733\n"
     ]
    }
   ],
   "source": [
    "from sklearn.preprocessing import StandardScaler,LabelEncoder\n",
    "data=pd.read_csv('avocardoDataset.csv')\n",
    "\n",
    "labelEcoding = LabelEncoder()\n",
    "scaler = StandardScaler()\n",
    "\n",
    "cat_col = ['color_category', 'ripeness']\n",
    "num_col = [col for col in data.columns if col not in cat_col]\n",
    "\n",
    "for col in cat_col:\n",
    "    data[col] = labelEcoding.fit_transform(data[col])\n",
    "\n",
    "for col in num_col:\n",
    "    data[col] = scaler.fit_transform(data[[col]])\n",
    "\n",
    "x=data.drop('ripeness',axis=1)\n",
    "y=data['ripeness']\n",
    "x_train, x_test, y_train, y_test = train_test_split(x,y,test_size=0.3, random_state=29,shuffle=True)\n",
    "\n",
    "model = LogisticRegression(max_iter=5000, solver=\"lbfgs\",random_state=34)\n",
    "model.fit(x_train,y_train)\n",
    "y_pred = model.predict(x_test)\n",
    "print(f\"Accuracy of logistic model : {accuracy_score(y_test,y_pred):.4f}\")"
   ]
  },
  {
   "cell_type": "markdown",
   "id": "004a345b",
   "metadata": {},
   "source": [
    "### Q9"
   ]
  },
  {
   "cell_type": "code",
   "execution_count": 111,
   "id": "77cbabe4",
   "metadata": {},
   "outputs": [
    {
     "name": "stdout",
     "output_type": "stream",
     "text": [
      "Fitting 5 folds for each of 50 candidates, totalling 250 fits\n"
     ]
    },
    {
     "name": "stderr",
     "output_type": "stream",
     "text": [
      "/Library/Frameworks/Python.framework/Versions/3.12/lib/python3.12/site-packages/sklearn/linear_model/_logistic.py:1196: UserWarning: l1_ratio parameter is only used when penalty is 'elasticnet'. Got (penalty=l2)\n",
      "  warnings.warn(\n",
      "/Library/Frameworks/Python.framework/Versions/3.12/lib/python3.12/site-packages/sklearn/linear_model/_logistic.py:1196: UserWarning: l1_ratio parameter is only used when penalty is 'elasticnet'. Got (penalty=l2)\n",
      "  warnings.warn(\n",
      "/Library/Frameworks/Python.framework/Versions/3.12/lib/python3.12/site-packages/sklearn/linear_model/_logistic.py:1196: UserWarning: l1_ratio parameter is only used when penalty is 'elasticnet'. Got (penalty=l2)\n",
      "  warnings.warn(\n",
      "/Library/Frameworks/Python.framework/Versions/3.12/lib/python3.12/site-packages/sklearn/linear_model/_logistic.py:1196: UserWarning: l1_ratio parameter is only used when penalty is 'elasticnet'. Got (penalty=l2)\n",
      "  warnings.warn(\n",
      "/Library/Frameworks/Python.framework/Versions/3.12/lib/python3.12/site-packages/sklearn/linear_model/_logistic.py:1196: UserWarning: l1_ratio parameter is only used when penalty is 'elasticnet'. Got (penalty=l2)\n",
      "  warnings.warn(\n",
      "/Library/Frameworks/Python.framework/Versions/3.12/lib/python3.12/site-packages/sklearn/linear_model/_logistic.py:1196: UserWarning: l1_ratio parameter is only used when penalty is 'elasticnet'. Got (penalty=l2)\n",
      "  warnings.warn(\n",
      "/Library/Frameworks/Python.framework/Versions/3.12/lib/python3.12/site-packages/sklearn/linear_model/_logistic.py:1196: UserWarning: l1_ratio parameter is only used when penalty is 'elasticnet'. Got (penalty=l2)\n",
      "  warnings.warn(\n",
      "/Library/Frameworks/Python.framework/Versions/3.12/lib/python3.12/site-packages/sklearn/linear_model/_logistic.py:1196: UserWarning: l1_ratio parameter is only used when penalty is 'elasticnet'. Got (penalty=l2)\n",
      "  warnings.warn(\n",
      "/Library/Frameworks/Python.framework/Versions/3.12/lib/python3.12/site-packages/sklearn/linear_model/_logistic.py:1196: UserWarning: l1_ratio parameter is only used when penalty is 'elasticnet'. Got (penalty=l1)\n",
      "  warnings.warn(\n",
      "/Library/Frameworks/Python.framework/Versions/3.12/lib/python3.12/site-packages/sklearn/linear_model/_logistic.py:1196: UserWarning: l1_ratio parameter is only used when penalty is 'elasticnet'. Got (penalty=l1)\n",
      "  warnings.warn(\n",
      "/Library/Frameworks/Python.framework/Versions/3.12/lib/python3.12/site-packages/sklearn/linear_model/_logistic.py:1196: UserWarning: l1_ratio parameter is only used when penalty is 'elasticnet'. Got (penalty=l1)\n",
      "  warnings.warn(\n",
      "/Library/Frameworks/Python.framework/Versions/3.12/lib/python3.12/site-packages/sklearn/linear_model/_logistic.py:1196: UserWarning: l1_ratio parameter is only used when penalty is 'elasticnet'. Got (penalty=l1)\n",
      "  warnings.warn(\n",
      "/Library/Frameworks/Python.framework/Versions/3.12/lib/python3.12/site-packages/sklearn/linear_model/_logistic.py:1196: UserWarning: l1_ratio parameter is only used when penalty is 'elasticnet'. Got (penalty=l1)\n",
      "  warnings.warn(\n",
      "/Library/Frameworks/Python.framework/Versions/3.12/lib/python3.12/site-packages/sklearn/linear_model/_logistic.py:1196: UserWarning: l1_ratio parameter is only used when penalty is 'elasticnet'. Got (penalty=l1)\n",
      "  warnings.warn(\n",
      "/Library/Frameworks/Python.framework/Versions/3.12/lib/python3.12/site-packages/sklearn/linear_model/_logistic.py:1196: UserWarning: l1_ratio parameter is only used when penalty is 'elasticnet'. Got (penalty=l1)\n",
      "  warnings.warn(\n",
      "/Library/Frameworks/Python.framework/Versions/3.12/lib/python3.12/site-packages/sklearn/linear_model/_logistic.py:1196: UserWarning: l1_ratio parameter is only used when penalty is 'elasticnet'. Got (penalty=l1)\n",
      "  warnings.warn(\n",
      "/Library/Frameworks/Python.framework/Versions/3.12/lib/python3.12/site-packages/sklearn/linear_model/_logistic.py:1196: UserWarning: l1_ratio parameter is only used when penalty is 'elasticnet'. Got (penalty=l1)\n",
      "  warnings.warn(\n",
      "/Library/Frameworks/Python.framework/Versions/3.12/lib/python3.12/site-packages/sklearn/linear_model/_logistic.py:1196: UserWarning: l1_ratio parameter is only used when penalty is 'elasticnet'. Got (penalty=l2)\n",
      "  warnings.warn(\n",
      "/Library/Frameworks/Python.framework/Versions/3.12/lib/python3.12/site-packages/sklearn/linear_model/_logistic.py:1196: UserWarning: l1_ratio parameter is only used when penalty is 'elasticnet'. Got (penalty=l1)\n",
      "  warnings.warn(\n",
      "/Library/Frameworks/Python.framework/Versions/3.12/lib/python3.12/site-packages/sklearn/linear_model/_logistic.py:1196: UserWarning: l1_ratio parameter is only used when penalty is 'elasticnet'. Got (penalty=l2)\n",
      "  warnings.warn(\n",
      "/Library/Frameworks/Python.framework/Versions/3.12/lib/python3.12/site-packages/sklearn/linear_model/_logistic.py:1196: UserWarning: l1_ratio parameter is only used when penalty is 'elasticnet'. Got (penalty=l1)\n",
      "  warnings.warn(\n",
      "/Library/Frameworks/Python.framework/Versions/3.12/lib/python3.12/site-packages/sklearn/linear_model/_logistic.py:1196: UserWarning: l1_ratio parameter is only used when penalty is 'elasticnet'. Got (penalty=l1)\n",
      "  warnings.warn(\n",
      "/Library/Frameworks/Python.framework/Versions/3.12/lib/python3.12/site-packages/sklearn/linear_model/_logistic.py:1196: UserWarning: l1_ratio parameter is only used when penalty is 'elasticnet'. Got (penalty=l1)\n",
      "  warnings.warn(\n",
      "/Library/Frameworks/Python.framework/Versions/3.12/lib/python3.12/site-packages/sklearn/linear_model/_logistic.py:1196: UserWarning: l1_ratio parameter is only used when penalty is 'elasticnet'. Got (penalty=l1)\n",
      "  warnings.warn(\n",
      "/Library/Frameworks/Python.framework/Versions/3.12/lib/python3.12/site-packages/sklearn/linear_model/_logistic.py:1196: UserWarning: l1_ratio parameter is only used when penalty is 'elasticnet'. Got (penalty=l1)\n",
      "  warnings.warn(\n",
      "/Library/Frameworks/Python.framework/Versions/3.12/lib/python3.12/site-packages/sklearn/linear_model/_logistic.py:1196: UserWarning: l1_ratio parameter is only used when penalty is 'elasticnet'. Got (penalty=l2)\n",
      "  warnings.warn(\n",
      "/Library/Frameworks/Python.framework/Versions/3.12/lib/python3.12/site-packages/sklearn/linear_model/_logistic.py:1196: UserWarning: l1_ratio parameter is only used when penalty is 'elasticnet'. Got (penalty=l2)\n",
      "  warnings.warn(\n",
      "/Library/Frameworks/Python.framework/Versions/3.12/lib/python3.12/site-packages/sklearn/linear_model/_logistic.py:1196: UserWarning: l1_ratio parameter is only used when penalty is 'elasticnet'. Got (penalty=l1)\n",
      "  warnings.warn(\n",
      "/Library/Frameworks/Python.framework/Versions/3.12/lib/python3.12/site-packages/sklearn/linear_model/_logistic.py:1196: UserWarning: l1_ratio parameter is only used when penalty is 'elasticnet'. Got (penalty=l1)\n",
      "  warnings.warn(\n",
      "/Library/Frameworks/Python.framework/Versions/3.12/lib/python3.12/site-packages/sklearn/linear_model/_logistic.py:1196: UserWarning: l1_ratio parameter is only used when penalty is 'elasticnet'. Got (penalty=l2)\n",
      "  warnings.warn(\n",
      "/Library/Frameworks/Python.framework/Versions/3.12/lib/python3.12/site-packages/sklearn/linear_model/_logistic.py:1196: UserWarning: l1_ratio parameter is only used when penalty is 'elasticnet'. Got (penalty=l2)\n",
      "  warnings.warn(\n",
      "/Library/Frameworks/Python.framework/Versions/3.12/lib/python3.12/site-packages/sklearn/linear_model/_logistic.py:1196: UserWarning: l1_ratio parameter is only used when penalty is 'elasticnet'. Got (penalty=l1)\n",
      "  warnings.warn(\n",
      "/Library/Frameworks/Python.framework/Versions/3.12/lib/python3.12/site-packages/sklearn/linear_model/_logistic.py:1196: UserWarning: l1_ratio parameter is only used when penalty is 'elasticnet'. Got (penalty=l2)\n",
      "  warnings.warn(\n",
      "/Library/Frameworks/Python.framework/Versions/3.12/lib/python3.12/site-packages/sklearn/linear_model/_logistic.py:1196: UserWarning: l1_ratio parameter is only used when penalty is 'elasticnet'. Got (penalty=l1)\n",
      "  warnings.warn(\n",
      "/Library/Frameworks/Python.framework/Versions/3.12/lib/python3.12/site-packages/sklearn/linear_model/_logistic.py:1196: UserWarning: l1_ratio parameter is only used when penalty is 'elasticnet'. Got (penalty=l2)\n",
      "  warnings.warn(\n",
      "/Library/Frameworks/Python.framework/Versions/3.12/lib/python3.12/site-packages/sklearn/linear_model/_logistic.py:1196: UserWarning: l1_ratio parameter is only used when penalty is 'elasticnet'. Got (penalty=l2)\n",
      "  warnings.warn(\n",
      "/Library/Frameworks/Python.framework/Versions/3.12/lib/python3.12/site-packages/sklearn/linear_model/_logistic.py:1196: UserWarning: l1_ratio parameter is only used when penalty is 'elasticnet'. Got (penalty=l2)\n",
      "  warnings.warn(\n",
      "/Library/Frameworks/Python.framework/Versions/3.12/lib/python3.12/site-packages/sklearn/linear_model/_logistic.py:1196: UserWarning: l1_ratio parameter is only used when penalty is 'elasticnet'. Got (penalty=l2)\n",
      "  warnings.warn(\n",
      "/Library/Frameworks/Python.framework/Versions/3.12/lib/python3.12/site-packages/sklearn/linear_model/_logistic.py:1196: UserWarning: l1_ratio parameter is only used when penalty is 'elasticnet'. Got (penalty=l2)\n",
      "  warnings.warn(\n",
      "/Library/Frameworks/Python.framework/Versions/3.12/lib/python3.12/site-packages/sklearn/linear_model/_logistic.py:1196: UserWarning: l1_ratio parameter is only used when penalty is 'elasticnet'. Got (penalty=l2)\n",
      "  warnings.warn(\n",
      "/Library/Frameworks/Python.framework/Versions/3.12/lib/python3.12/site-packages/sklearn/linear_model/_logistic.py:1196: UserWarning: l1_ratio parameter is only used when penalty is 'elasticnet'. Got (penalty=l1)\n",
      "  warnings.warn(\n",
      "/Library/Frameworks/Python.framework/Versions/3.12/lib/python3.12/site-packages/sklearn/linear_model/_logistic.py:1196: UserWarning: l1_ratio parameter is only used when penalty is 'elasticnet'. Got (penalty=l2)\n",
      "  warnings.warn(\n",
      "/Library/Frameworks/Python.framework/Versions/3.12/lib/python3.12/site-packages/sklearn/linear_model/_logistic.py:1196: UserWarning: l1_ratio parameter is only used when penalty is 'elasticnet'. Got (penalty=l2)\n",
      "  warnings.warn(\n",
      "/Library/Frameworks/Python.framework/Versions/3.12/lib/python3.12/site-packages/sklearn/linear_model/_logistic.py:1196: UserWarning: l1_ratio parameter is only used when penalty is 'elasticnet'. Got (penalty=l2)\n",
      "  warnings.warn(\n",
      "/Library/Frameworks/Python.framework/Versions/3.12/lib/python3.12/site-packages/sklearn/linear_model/_logistic.py:1196: UserWarning: l1_ratio parameter is only used when penalty is 'elasticnet'. Got (penalty=l2)\n",
      "  warnings.warn(\n",
      "/Library/Frameworks/Python.framework/Versions/3.12/lib/python3.12/site-packages/sklearn/linear_model/_logistic.py:1196: UserWarning: l1_ratio parameter is only used when penalty is 'elasticnet'. Got (penalty=l2)\n",
      "  warnings.warn(\n",
      "/Library/Frameworks/Python.framework/Versions/3.12/lib/python3.12/site-packages/sklearn/linear_model/_logistic.py:1196: UserWarning: l1_ratio parameter is only used when penalty is 'elasticnet'. Got (penalty=l2)\n",
      "  warnings.warn(\n",
      "/Library/Frameworks/Python.framework/Versions/3.12/lib/python3.12/site-packages/sklearn/linear_model/_logistic.py:1196: UserWarning: l1_ratio parameter is only used when penalty is 'elasticnet'. Got (penalty=l2)\n",
      "  warnings.warn(\n",
      "/Library/Frameworks/Python.framework/Versions/3.12/lib/python3.12/site-packages/sklearn/linear_model/_logistic.py:1196: UserWarning: l1_ratio parameter is only used when penalty is 'elasticnet'. Got (penalty=l2)\n",
      "  warnings.warn(\n",
      "/Library/Frameworks/Python.framework/Versions/3.12/lib/python3.12/site-packages/sklearn/linear_model/_logistic.py:1196: UserWarning: l1_ratio parameter is only used when penalty is 'elasticnet'. Got (penalty=l2)\n",
      "  warnings.warn(\n",
      "/Library/Frameworks/Python.framework/Versions/3.12/lib/python3.12/site-packages/sklearn/linear_model/_logistic.py:1196: UserWarning: l1_ratio parameter is only used when penalty is 'elasticnet'. Got (penalty=l2)\n",
      "  warnings.warn(\n",
      "/Library/Frameworks/Python.framework/Versions/3.12/lib/python3.12/site-packages/sklearn/linear_model/_logistic.py:1196: UserWarning: l1_ratio parameter is only used when penalty is 'elasticnet'. Got (penalty=l2)\n",
      "  warnings.warn(\n",
      "/Library/Frameworks/Python.framework/Versions/3.12/lib/python3.12/site-packages/sklearn/linear_model/_logistic.py:1196: UserWarning: l1_ratio parameter is only used when penalty is 'elasticnet'. Got (penalty=l2)\n",
      "  warnings.warn(\n",
      "/Library/Frameworks/Python.framework/Versions/3.12/lib/python3.12/site-packages/sklearn/linear_model/_logistic.py:1196: UserWarning: l1_ratio parameter is only used when penalty is 'elasticnet'. Got (penalty=l1)\n",
      "  warnings.warn(\n",
      "/Library/Frameworks/Python.framework/Versions/3.12/lib/python3.12/site-packages/sklearn/linear_model/_logistic.py:1196: UserWarning: l1_ratio parameter is only used when penalty is 'elasticnet'. Got (penalty=l2)\n",
      "  warnings.warn(\n",
      "/Library/Frameworks/Python.framework/Versions/3.12/lib/python3.12/site-packages/sklearn/linear_model/_logistic.py:1196: UserWarning: l1_ratio parameter is only used when penalty is 'elasticnet'. Got (penalty=l1)\n",
      "  warnings.warn(\n",
      "/Library/Frameworks/Python.framework/Versions/3.12/lib/python3.12/site-packages/sklearn/linear_model/_logistic.py:1196: UserWarning: l1_ratio parameter is only used when penalty is 'elasticnet'. Got (penalty=l1)\n",
      "  warnings.warn(\n",
      "/Library/Frameworks/Python.framework/Versions/3.12/lib/python3.12/site-packages/sklearn/linear_model/_logistic.py:1196: UserWarning: l1_ratio parameter is only used when penalty is 'elasticnet'. Got (penalty=l2)\n",
      "  warnings.warn(\n",
      "/Library/Frameworks/Python.framework/Versions/3.12/lib/python3.12/site-packages/sklearn/linear_model/_logistic.py:1196: UserWarning: l1_ratio parameter is only used when penalty is 'elasticnet'. Got (penalty=l2)\n",
      "  warnings.warn(\n",
      "/Library/Frameworks/Python.framework/Versions/3.12/lib/python3.12/site-packages/sklearn/linear_model/_logistic.py:1196: UserWarning: l1_ratio parameter is only used when penalty is 'elasticnet'. Got (penalty=l2)\n",
      "  warnings.warn(\n",
      "/Library/Frameworks/Python.framework/Versions/3.12/lib/python3.12/site-packages/sklearn/linear_model/_logistic.py:1196: UserWarning: l1_ratio parameter is only used when penalty is 'elasticnet'. Got (penalty=l2)\n",
      "  warnings.warn(\n",
      "/Library/Frameworks/Python.framework/Versions/3.12/lib/python3.12/site-packages/sklearn/linear_model/_logistic.py:1196: UserWarning: l1_ratio parameter is only used when penalty is 'elasticnet'. Got (penalty=l2)\n",
      "  warnings.warn(\n",
      "/Library/Frameworks/Python.framework/Versions/3.12/lib/python3.12/site-packages/sklearn/linear_model/_logistic.py:1196: UserWarning: l1_ratio parameter is only used when penalty is 'elasticnet'. Got (penalty=l1)\n",
      "  warnings.warn(\n",
      "/Library/Frameworks/Python.framework/Versions/3.12/lib/python3.12/site-packages/sklearn/linear_model/_logistic.py:1196: UserWarning: l1_ratio parameter is only used when penalty is 'elasticnet'. Got (penalty=l1)\n",
      "  warnings.warn(\n",
      "/Library/Frameworks/Python.framework/Versions/3.12/lib/python3.12/site-packages/sklearn/linear_model/_logistic.py:1196: UserWarning: l1_ratio parameter is only used when penalty is 'elasticnet'. Got (penalty=l1)\n",
      "  warnings.warn(\n",
      "/Library/Frameworks/Python.framework/Versions/3.12/lib/python3.12/site-packages/sklearn/linear_model/_logistic.py:1196: UserWarning: l1_ratio parameter is only used when penalty is 'elasticnet'. Got (penalty=l1)\n",
      "  warnings.warn(\n",
      "/Library/Frameworks/Python.framework/Versions/3.12/lib/python3.12/site-packages/sklearn/linear_model/_logistic.py:1196: UserWarning: l1_ratio parameter is only used when penalty is 'elasticnet'. Got (penalty=l1)\n",
      "  warnings.warn(\n",
      "/Library/Frameworks/Python.framework/Versions/3.12/lib/python3.12/site-packages/sklearn/linear_model/_logistic.py:1196: UserWarning: l1_ratio parameter is only used when penalty is 'elasticnet'. Got (penalty=l1)\n",
      "  warnings.warn(\n",
      "/Library/Frameworks/Python.framework/Versions/3.12/lib/python3.12/site-packages/sklearn/linear_model/_logistic.py:1196: UserWarning: l1_ratio parameter is only used when penalty is 'elasticnet'. Got (penalty=l1)\n",
      "  warnings.warn(\n",
      "/Library/Frameworks/Python.framework/Versions/3.12/lib/python3.12/site-packages/sklearn/linear_model/_logistic.py:1196: UserWarning: l1_ratio parameter is only used when penalty is 'elasticnet'. Got (penalty=l1)\n",
      "  warnings.warn(\n",
      "/Library/Frameworks/Python.framework/Versions/3.12/lib/python3.12/site-packages/sklearn/linear_model/_logistic.py:1196: UserWarning: l1_ratio parameter is only used when penalty is 'elasticnet'. Got (penalty=l2)\n",
      "  warnings.warn(\n",
      "/Library/Frameworks/Python.framework/Versions/3.12/lib/python3.12/site-packages/sklearn/linear_model/_logistic.py:1196: UserWarning: l1_ratio parameter is only used when penalty is 'elasticnet'. Got (penalty=l1)\n",
      "  warnings.warn(\n",
      "/Library/Frameworks/Python.framework/Versions/3.12/lib/python3.12/site-packages/sklearn/linear_model/_logistic.py:1196: UserWarning: l1_ratio parameter is only used when penalty is 'elasticnet'. Got (penalty=l1)\n",
      "  warnings.warn(\n",
      "/Library/Frameworks/Python.framework/Versions/3.12/lib/python3.12/site-packages/sklearn/linear_model/_logistic.py:1196: UserWarning: l1_ratio parameter is only used when penalty is 'elasticnet'. Got (penalty=l1)\n",
      "  warnings.warn(\n",
      "/Library/Frameworks/Python.framework/Versions/3.12/lib/python3.12/site-packages/sklearn/linear_model/_logistic.py:1196: UserWarning: l1_ratio parameter is only used when penalty is 'elasticnet'. Got (penalty=l1)\n",
      "  warnings.warn(\n",
      "/Library/Frameworks/Python.framework/Versions/3.12/lib/python3.12/site-packages/sklearn/linear_model/_logistic.py:1196: UserWarning: l1_ratio parameter is only used when penalty is 'elasticnet'. Got (penalty=l1)\n",
      "  warnings.warn(\n",
      "/Library/Frameworks/Python.framework/Versions/3.12/lib/python3.12/site-packages/sklearn/linear_model/_logistic.py:1196: UserWarning: l1_ratio parameter is only used when penalty is 'elasticnet'. Got (penalty=l1)\n",
      "  warnings.warn(\n",
      "/Library/Frameworks/Python.framework/Versions/3.12/lib/python3.12/site-packages/sklearn/linear_model/_logistic.py:1196: UserWarning: l1_ratio parameter is only used when penalty is 'elasticnet'. Got (penalty=l1)\n",
      "  warnings.warn(\n",
      "/Library/Frameworks/Python.framework/Versions/3.12/lib/python3.12/site-packages/sklearn/linear_model/_logistic.py:1196: UserWarning: l1_ratio parameter is only used when penalty is 'elasticnet'. Got (penalty=l1)\n",
      "  warnings.warn(\n",
      "/Library/Frameworks/Python.framework/Versions/3.12/lib/python3.12/site-packages/sklearn/linear_model/_logistic.py:1196: UserWarning: l1_ratio parameter is only used when penalty is 'elasticnet'. Got (penalty=l1)\n",
      "  warnings.warn(\n",
      "/Library/Frameworks/Python.framework/Versions/3.12/lib/python3.12/site-packages/sklearn/linear_model/_logistic.py:1196: UserWarning: l1_ratio parameter is only used when penalty is 'elasticnet'. Got (penalty=l2)\n",
      "  warnings.warn(\n",
      "/Library/Frameworks/Python.framework/Versions/3.12/lib/python3.12/site-packages/sklearn/linear_model/_logistic.py:1196: UserWarning: l1_ratio parameter is only used when penalty is 'elasticnet'. Got (penalty=l2)\n",
      "  warnings.warn(\n",
      "/Library/Frameworks/Python.framework/Versions/3.12/lib/python3.12/site-packages/sklearn/linear_model/_logistic.py:1196: UserWarning: l1_ratio parameter is only used when penalty is 'elasticnet'. Got (penalty=l2)\n",
      "  warnings.warn(\n",
      "/Library/Frameworks/Python.framework/Versions/3.12/lib/python3.12/site-packages/sklearn/linear_model/_logistic.py:1196: UserWarning: l1_ratio parameter is only used when penalty is 'elasticnet'. Got (penalty=l2)\n",
      "  warnings.warn(\n",
      "/Library/Frameworks/Python.framework/Versions/3.12/lib/python3.12/site-packages/sklearn/linear_model/_logistic.py:1196: UserWarning: l1_ratio parameter is only used when penalty is 'elasticnet'. Got (penalty=l2)\n",
      "  warnings.warn(\n",
      "/Library/Frameworks/Python.framework/Versions/3.12/lib/python3.12/site-packages/sklearn/linear_model/_logistic.py:1196: UserWarning: l1_ratio parameter is only used when penalty is 'elasticnet'. Got (penalty=l1)\n",
      "  warnings.warn(\n",
      "/Library/Frameworks/Python.framework/Versions/3.12/lib/python3.12/site-packages/sklearn/linear_model/_logistic.py:1196: UserWarning: l1_ratio parameter is only used when penalty is 'elasticnet'. Got (penalty=l1)\n",
      "  warnings.warn(\n",
      "/Library/Frameworks/Python.framework/Versions/3.12/lib/python3.12/site-packages/sklearn/linear_model/_logistic.py:1196: UserWarning: l1_ratio parameter is only used when penalty is 'elasticnet'. Got (penalty=l1)\n",
      "  warnings.warn(\n",
      "/Library/Frameworks/Python.framework/Versions/3.12/lib/python3.12/site-packages/sklearn/linear_model/_logistic.py:1196: UserWarning: l1_ratio parameter is only used when penalty is 'elasticnet'. Got (penalty=l1)\n",
      "  warnings.warn(\n",
      "/Library/Frameworks/Python.framework/Versions/3.12/lib/python3.12/site-packages/sklearn/linear_model/_logistic.py:1196: UserWarning: l1_ratio parameter is only used when penalty is 'elasticnet'. Got (penalty=l1)\n",
      "  warnings.warn(\n",
      "/Library/Frameworks/Python.framework/Versions/3.12/lib/python3.12/site-packages/sklearn/linear_model/_logistic.py:1196: UserWarning: l1_ratio parameter is only used when penalty is 'elasticnet'. Got (penalty=l1)\n",
      "  warnings.warn(\n",
      "/Library/Frameworks/Python.framework/Versions/3.12/lib/python3.12/site-packages/sklearn/linear_model/_logistic.py:1196: UserWarning: l1_ratio parameter is only used when penalty is 'elasticnet'. Got (penalty=l1)\n",
      "  warnings.warn(\n",
      "/Library/Frameworks/Python.framework/Versions/3.12/lib/python3.12/site-packages/sklearn/linear_model/_logistic.py:1196: UserWarning: l1_ratio parameter is only used when penalty is 'elasticnet'. Got (penalty=l1)\n",
      "  warnings.warn(\n",
      "/Library/Frameworks/Python.framework/Versions/3.12/lib/python3.12/site-packages/sklearn/linear_model/_logistic.py:1196: UserWarning: l1_ratio parameter is only used when penalty is 'elasticnet'. Got (penalty=l1)\n",
      "  warnings.warn(\n",
      "/Library/Frameworks/Python.framework/Versions/3.12/lib/python3.12/site-packages/sklearn/linear_model/_logistic.py:1196: UserWarning: l1_ratio parameter is only used when penalty is 'elasticnet'. Got (penalty=l1)\n",
      "  warnings.warn(\n",
      "/Library/Frameworks/Python.framework/Versions/3.12/lib/python3.12/site-packages/sklearn/linear_model/_logistic.py:1196: UserWarning: l1_ratio parameter is only used when penalty is 'elasticnet'. Got (penalty=l1)\n",
      "  warnings.warn(\n",
      "/Library/Frameworks/Python.framework/Versions/3.12/lib/python3.12/site-packages/sklearn/linear_model/_logistic.py:1196: UserWarning: l1_ratio parameter is only used when penalty is 'elasticnet'. Got (penalty=l1)\n",
      "  warnings.warn(\n",
      "/Library/Frameworks/Python.framework/Versions/3.12/lib/python3.12/site-packages/sklearn/linear_model/_logistic.py:1196: UserWarning: l1_ratio parameter is only used when penalty is 'elasticnet'. Got (penalty=l1)\n",
      "  warnings.warn(\n",
      "/Library/Frameworks/Python.framework/Versions/3.12/lib/python3.12/site-packages/sklearn/linear_model/_logistic.py:1196: UserWarning: l1_ratio parameter is only used when penalty is 'elasticnet'. Got (penalty=l1)\n",
      "  warnings.warn(\n",
      "/Library/Frameworks/Python.framework/Versions/3.12/lib/python3.12/site-packages/sklearn/linear_model/_logistic.py:1196: UserWarning: l1_ratio parameter is only used when penalty is 'elasticnet'. Got (penalty=l1)\n",
      "  warnings.warn(\n",
      "/Library/Frameworks/Python.framework/Versions/3.12/lib/python3.12/site-packages/sklearn/linear_model/_logistic.py:1196: UserWarning: l1_ratio parameter is only used when penalty is 'elasticnet'. Got (penalty=l1)\n",
      "  warnings.warn(\n",
      "/Library/Frameworks/Python.framework/Versions/3.12/lib/python3.12/site-packages/sklearn/linear_model/_logistic.py:1196: UserWarning: l1_ratio parameter is only used when penalty is 'elasticnet'. Got (penalty=l1)\n",
      "  warnings.warn(\n",
      "/Library/Frameworks/Python.framework/Versions/3.12/lib/python3.12/site-packages/sklearn/linear_model/_logistic.py:1196: UserWarning: l1_ratio parameter is only used when penalty is 'elasticnet'. Got (penalty=l1)\n",
      "  warnings.warn(\n",
      "/Library/Frameworks/Python.framework/Versions/3.12/lib/python3.12/site-packages/sklearn/linear_model/_logistic.py:1196: UserWarning: l1_ratio parameter is only used when penalty is 'elasticnet'. Got (penalty=l1)\n",
      "  warnings.warn(\n",
      "/Library/Frameworks/Python.framework/Versions/3.12/lib/python3.12/site-packages/sklearn/linear_model/_logistic.py:1196: UserWarning: l1_ratio parameter is only used when penalty is 'elasticnet'. Got (penalty=l1)\n",
      "  warnings.warn(\n",
      "/Library/Frameworks/Python.framework/Versions/3.12/lib/python3.12/site-packages/sklearn/linear_model/_logistic.py:1196: UserWarning: l1_ratio parameter is only used when penalty is 'elasticnet'. Got (penalty=l1)\n",
      "  warnings.warn(\n",
      "/Library/Frameworks/Python.framework/Versions/3.12/lib/python3.12/site-packages/sklearn/linear_model/_logistic.py:1196: UserWarning: l1_ratio parameter is only used when penalty is 'elasticnet'. Got (penalty=l1)\n",
      "  warnings.warn(\n",
      "/Library/Frameworks/Python.framework/Versions/3.12/lib/python3.12/site-packages/sklearn/linear_model/_logistic.py:1196: UserWarning: l1_ratio parameter is only used when penalty is 'elasticnet'. Got (penalty=l1)\n",
      "  warnings.warn(\n",
      "/Library/Frameworks/Python.framework/Versions/3.12/lib/python3.12/site-packages/sklearn/linear_model/_logistic.py:1196: UserWarning: l1_ratio parameter is only used when penalty is 'elasticnet'. Got (penalty=l1)\n",
      "  warnings.warn(\n",
      "/Library/Frameworks/Python.framework/Versions/3.12/lib/python3.12/site-packages/sklearn/linear_model/_logistic.py:1196: UserWarning: l1_ratio parameter is only used when penalty is 'elasticnet'. Got (penalty=l1)\n",
      "  warnings.warn(\n",
      "/Library/Frameworks/Python.framework/Versions/3.12/lib/python3.12/site-packages/sklearn/linear_model/_logistic.py:1196: UserWarning: l1_ratio parameter is only used when penalty is 'elasticnet'. Got (penalty=l1)\n",
      "  warnings.warn(\n",
      "/Library/Frameworks/Python.framework/Versions/3.12/lib/python3.12/site-packages/sklearn/linear_model/_logistic.py:1196: UserWarning: l1_ratio parameter is only used when penalty is 'elasticnet'. Got (penalty=l1)\n",
      "  warnings.warn(\n",
      "/Library/Frameworks/Python.framework/Versions/3.12/lib/python3.12/site-packages/sklearn/linear_model/_logistic.py:1196: UserWarning: l1_ratio parameter is only used when penalty is 'elasticnet'. Got (penalty=l1)\n",
      "  warnings.warn(\n",
      "/Library/Frameworks/Python.framework/Versions/3.12/lib/python3.12/site-packages/sklearn/linear_model/_logistic.py:1196: UserWarning: l1_ratio parameter is only used when penalty is 'elasticnet'. Got (penalty=l1)\n",
      "  warnings.warn(\n",
      "/Library/Frameworks/Python.framework/Versions/3.12/lib/python3.12/site-packages/sklearn/linear_model/_logistic.py:1196: UserWarning: l1_ratio parameter is only used when penalty is 'elasticnet'. Got (penalty=l1)\n",
      "  warnings.warn(\n",
      "/Library/Frameworks/Python.framework/Versions/3.12/lib/python3.12/site-packages/sklearn/linear_model/_logistic.py:1196: UserWarning: l1_ratio parameter is only used when penalty is 'elasticnet'. Got (penalty=l2)\n",
      "  warnings.warn(\n",
      "/Library/Frameworks/Python.framework/Versions/3.12/lib/python3.12/site-packages/sklearn/linear_model/_logistic.py:1196: UserWarning: l1_ratio parameter is only used when penalty is 'elasticnet'. Got (penalty=l2)\n",
      "  warnings.warn(\n",
      "/Library/Frameworks/Python.framework/Versions/3.12/lib/python3.12/site-packages/sklearn/linear_model/_logistic.py:1196: UserWarning: l1_ratio parameter is only used when penalty is 'elasticnet'. Got (penalty=l2)\n",
      "  warnings.warn(\n",
      "/Library/Frameworks/Python.framework/Versions/3.12/lib/python3.12/site-packages/sklearn/linear_model/_logistic.py:1196: UserWarning: l1_ratio parameter is only used when penalty is 'elasticnet'. Got (penalty=l2)\n",
      "  warnings.warn(\n",
      "/Library/Frameworks/Python.framework/Versions/3.12/lib/python3.12/site-packages/sklearn/linear_model/_logistic.py:1196: UserWarning: l1_ratio parameter is only used when penalty is 'elasticnet'. Got (penalty=l2)\n",
      "  warnings.warn(\n",
      "/Library/Frameworks/Python.framework/Versions/3.12/lib/python3.12/site-packages/sklearn/linear_model/_logistic.py:1196: UserWarning: l1_ratio parameter is only used when penalty is 'elasticnet'. Got (penalty=l1)\n",
      "  warnings.warn(\n",
      "/Library/Frameworks/Python.framework/Versions/3.12/lib/python3.12/site-packages/sklearn/linear_model/_logistic.py:1196: UserWarning: l1_ratio parameter is only used when penalty is 'elasticnet'. Got (penalty=l1)\n",
      "  warnings.warn(\n",
      "/Library/Frameworks/Python.framework/Versions/3.12/lib/python3.12/site-packages/sklearn/linear_model/_logistic.py:1196: UserWarning: l1_ratio parameter is only used when penalty is 'elasticnet'. Got (penalty=l1)\n",
      "  warnings.warn(\n",
      "/Library/Frameworks/Python.framework/Versions/3.12/lib/python3.12/site-packages/sklearn/linear_model/_logistic.py:1196: UserWarning: l1_ratio parameter is only used when penalty is 'elasticnet'. Got (penalty=l1)\n",
      "  warnings.warn(\n",
      "/Library/Frameworks/Python.framework/Versions/3.12/lib/python3.12/site-packages/sklearn/linear_model/_logistic.py:1196: UserWarning: l1_ratio parameter is only used when penalty is 'elasticnet'. Got (penalty=l1)\n",
      "  warnings.warn(\n",
      "/Library/Frameworks/Python.framework/Versions/3.12/lib/python3.12/site-packages/sklearn/linear_model/_logistic.py:1196: UserWarning: l1_ratio parameter is only used when penalty is 'elasticnet'. Got (penalty=l1)\n",
      "  warnings.warn(\n",
      "/Library/Frameworks/Python.framework/Versions/3.12/lib/python3.12/site-packages/sklearn/linear_model/_logistic.py:1196: UserWarning: l1_ratio parameter is only used when penalty is 'elasticnet'. Got (penalty=l1)\n",
      "  warnings.warn(\n",
      "/Library/Frameworks/Python.framework/Versions/3.12/lib/python3.12/site-packages/sklearn/linear_model/_logistic.py:1196: UserWarning: l1_ratio parameter is only used when penalty is 'elasticnet'. Got (penalty=l1)\n",
      "  warnings.warn(\n",
      "/Library/Frameworks/Python.framework/Versions/3.12/lib/python3.12/site-packages/sklearn/linear_model/_logistic.py:1196: UserWarning: l1_ratio parameter is only used when penalty is 'elasticnet'. Got (penalty=l1)\n",
      "  warnings.warn(\n",
      "/Library/Frameworks/Python.framework/Versions/3.12/lib/python3.12/site-packages/sklearn/linear_model/_logistic.py:1196: UserWarning: l1_ratio parameter is only used when penalty is 'elasticnet'. Got (penalty=l1)\n",
      "  warnings.warn(\n",
      "/Library/Frameworks/Python.framework/Versions/3.12/lib/python3.12/site-packages/sklearn/linear_model/_logistic.py:1196: UserWarning: l1_ratio parameter is only used when penalty is 'elasticnet'. Got (penalty=l1)\n",
      "  warnings.warn(\n",
      "/Library/Frameworks/Python.framework/Versions/3.12/lib/python3.12/site-packages/sklearn/linear_model/_logistic.py:1196: UserWarning: l1_ratio parameter is only used when penalty is 'elasticnet'. Got (penalty=l1)\n",
      "  warnings.warn(\n",
      "/Library/Frameworks/Python.framework/Versions/3.12/lib/python3.12/site-packages/sklearn/linear_model/_logistic.py:1196: UserWarning: l1_ratio parameter is only used when penalty is 'elasticnet'. Got (penalty=l1)\n",
      "  warnings.warn(\n",
      "/Library/Frameworks/Python.framework/Versions/3.12/lib/python3.12/site-packages/sklearn/linear_model/_logistic.py:1196: UserWarning: l1_ratio parameter is only used when penalty is 'elasticnet'. Got (penalty=l1)\n",
      "  warnings.warn(\n",
      "/Library/Frameworks/Python.framework/Versions/3.12/lib/python3.12/site-packages/sklearn/linear_model/_logistic.py:1196: UserWarning: l1_ratio parameter is only used when penalty is 'elasticnet'. Got (penalty=l1)\n",
      "  warnings.warn(\n",
      "/Library/Frameworks/Python.framework/Versions/3.12/lib/python3.12/site-packages/sklearn/linear_model/_logistic.py:1196: UserWarning: l1_ratio parameter is only used when penalty is 'elasticnet'. Got (penalty=l2)\n",
      "  warnings.warn(\n",
      "/Library/Frameworks/Python.framework/Versions/3.12/lib/python3.12/site-packages/sklearn/linear_model/_logistic.py:1196: UserWarning: l1_ratio parameter is only used when penalty is 'elasticnet'. Got (penalty=l2)\n",
      "  warnings.warn(\n",
      "/Library/Frameworks/Python.framework/Versions/3.12/lib/python3.12/site-packages/sklearn/linear_model/_logistic.py:1196: UserWarning: l1_ratio parameter is only used when penalty is 'elasticnet'. Got (penalty=l2)\n",
      "  warnings.warn(\n",
      "/Library/Frameworks/Python.framework/Versions/3.12/lib/python3.12/site-packages/sklearn/linear_model/_logistic.py:1196: UserWarning: l1_ratio parameter is only used when penalty is 'elasticnet'. Got (penalty=l2)\n",
      "  warnings.warn(\n",
      "/Library/Frameworks/Python.framework/Versions/3.12/lib/python3.12/site-packages/sklearn/linear_model/_logistic.py:1196: UserWarning: l1_ratio parameter is only used when penalty is 'elasticnet'. Got (penalty=l2)\n",
      "  warnings.warn(\n",
      "/Library/Frameworks/Python.framework/Versions/3.12/lib/python3.12/site-packages/sklearn/linear_model/_logistic.py:1196: UserWarning: l1_ratio parameter is only used when penalty is 'elasticnet'. Got (penalty=l2)\n",
      "  warnings.warn(\n",
      "/Library/Frameworks/Python.framework/Versions/3.12/lib/python3.12/site-packages/sklearn/linear_model/_logistic.py:1196: UserWarning: l1_ratio parameter is only used when penalty is 'elasticnet'. Got (penalty=l2)\n",
      "  warnings.warn(\n",
      "/Library/Frameworks/Python.framework/Versions/3.12/lib/python3.12/site-packages/sklearn/linear_model/_logistic.py:1196: UserWarning: l1_ratio parameter is only used when penalty is 'elasticnet'. Got (penalty=l2)\n",
      "  warnings.warn(\n",
      "/Library/Frameworks/Python.framework/Versions/3.12/lib/python3.12/site-packages/sklearn/linear_model/_logistic.py:1196: UserWarning: l1_ratio parameter is only used when penalty is 'elasticnet'. Got (penalty=l2)\n",
      "  warnings.warn(\n",
      "/Library/Frameworks/Python.framework/Versions/3.12/lib/python3.12/site-packages/sklearn/linear_model/_logistic.py:1196: UserWarning: l1_ratio parameter is only used when penalty is 'elasticnet'. Got (penalty=l2)\n",
      "  warnings.warn(\n",
      "/Library/Frameworks/Python.framework/Versions/3.12/lib/python3.12/site-packages/sklearn/linear_model/_logistic.py:1196: UserWarning: l1_ratio parameter is only used when penalty is 'elasticnet'. Got (penalty=l1)\n",
      "  warnings.warn(\n",
      "/Library/Frameworks/Python.framework/Versions/3.12/lib/python3.12/site-packages/sklearn/linear_model/_logistic.py:1196: UserWarning: l1_ratio parameter is only used when penalty is 'elasticnet'. Got (penalty=l1)\n",
      "  warnings.warn(\n",
      "/Library/Frameworks/Python.framework/Versions/3.12/lib/python3.12/site-packages/sklearn/linear_model/_logistic.py:1196: UserWarning: l1_ratio parameter is only used when penalty is 'elasticnet'. Got (penalty=l1)\n",
      "  warnings.warn(\n",
      "/Library/Frameworks/Python.framework/Versions/3.12/lib/python3.12/site-packages/sklearn/linear_model/_logistic.py:1196: UserWarning: l1_ratio parameter is only used when penalty is 'elasticnet'. Got (penalty=l1)\n",
      "  warnings.warn(\n",
      "/Library/Frameworks/Python.framework/Versions/3.12/lib/python3.12/site-packages/sklearn/linear_model/_logistic.py:1196: UserWarning: l1_ratio parameter is only used when penalty is 'elasticnet'. Got (penalty=l1)\n",
      "  warnings.warn(\n",
      "/Library/Frameworks/Python.framework/Versions/3.12/lib/python3.12/site-packages/sklearn/linear_model/_logistic.py:1196: UserWarning: l1_ratio parameter is only used when penalty is 'elasticnet'. Got (penalty=l2)\n",
      "  warnings.warn(\n",
      "/Library/Frameworks/Python.framework/Versions/3.12/lib/python3.12/site-packages/sklearn/linear_model/_logistic.py:1196: UserWarning: l1_ratio parameter is only used when penalty is 'elasticnet'. Got (penalty=l2)\n",
      "  warnings.warn(\n",
      "/Library/Frameworks/Python.framework/Versions/3.12/lib/python3.12/site-packages/sklearn/linear_model/_logistic.py:1196: UserWarning: l1_ratio parameter is only used when penalty is 'elasticnet'. Got (penalty=l2)\n",
      "  warnings.warn(\n",
      "/Library/Frameworks/Python.framework/Versions/3.12/lib/python3.12/site-packages/sklearn/linear_model/_logistic.py:1196: UserWarning: l1_ratio parameter is only used when penalty is 'elasticnet'. Got (penalty=l2)\n",
      "  warnings.warn(\n",
      "/Library/Frameworks/Python.framework/Versions/3.12/lib/python3.12/site-packages/sklearn/linear_model/_logistic.py:1196: UserWarning: l1_ratio parameter is only used when penalty is 'elasticnet'. Got (penalty=l2)\n",
      "  warnings.warn(\n",
      "/Library/Frameworks/Python.framework/Versions/3.12/lib/python3.12/site-packages/sklearn/linear_model/_logistic.py:1196: UserWarning: l1_ratio parameter is only used when penalty is 'elasticnet'. Got (penalty=l1)\n",
      "  warnings.warn(\n",
      "/Library/Frameworks/Python.framework/Versions/3.12/lib/python3.12/site-packages/sklearn/linear_model/_logistic.py:1196: UserWarning: l1_ratio parameter is only used when penalty is 'elasticnet'. Got (penalty=l1)\n",
      "  warnings.warn(\n",
      "/Library/Frameworks/Python.framework/Versions/3.12/lib/python3.12/site-packages/sklearn/linear_model/_logistic.py:1196: UserWarning: l1_ratio parameter is only used when penalty is 'elasticnet'. Got (penalty=l1)\n",
      "  warnings.warn(\n",
      "/Library/Frameworks/Python.framework/Versions/3.12/lib/python3.12/site-packages/sklearn/linear_model/_logistic.py:1196: UserWarning: l1_ratio parameter is only used when penalty is 'elasticnet'. Got (penalty=l1)\n",
      "  warnings.warn(\n",
      "/Library/Frameworks/Python.framework/Versions/3.12/lib/python3.12/site-packages/sklearn/linear_model/_logistic.py:1196: UserWarning: l1_ratio parameter is only used when penalty is 'elasticnet'. Got (penalty=l1)\n",
      "  warnings.warn(\n",
      "/Library/Frameworks/Python.framework/Versions/3.12/lib/python3.12/site-packages/sklearn/linear_model/_logistic.py:1196: UserWarning: l1_ratio parameter is only used when penalty is 'elasticnet'. Got (penalty=l1)\n",
      "  warnings.warn(\n",
      "/Library/Frameworks/Python.framework/Versions/3.12/lib/python3.12/site-packages/sklearn/linear_model/_logistic.py:1196: UserWarning: l1_ratio parameter is only used when penalty is 'elasticnet'. Got (penalty=l1)\n",
      "  warnings.warn(\n",
      "/Library/Frameworks/Python.framework/Versions/3.12/lib/python3.12/site-packages/sklearn/linear_model/_logistic.py:1196: UserWarning: l1_ratio parameter is only used when penalty is 'elasticnet'. Got (penalty=l1)\n",
      "  warnings.warn(\n",
      "/Library/Frameworks/Python.framework/Versions/3.12/lib/python3.12/site-packages/sklearn/linear_model/_logistic.py:1196: UserWarning: l1_ratio parameter is only used when penalty is 'elasticnet'. Got (penalty=l1)\n",
      "  warnings.warn(\n",
      "/Library/Frameworks/Python.framework/Versions/3.12/lib/python3.12/site-packages/sklearn/linear_model/_logistic.py:1196: UserWarning: l1_ratio parameter is only used when penalty is 'elasticnet'. Got (penalty=l1)\n",
      "  warnings.warn(\n",
      "/Library/Frameworks/Python.framework/Versions/3.12/lib/python3.12/site-packages/sklearn/linear_model/_logistic.py:1196: UserWarning: l1_ratio parameter is only used when penalty is 'elasticnet'. Got (penalty=l1)\n",
      "  warnings.warn(\n",
      "/Library/Frameworks/Python.framework/Versions/3.12/lib/python3.12/site-packages/sklearn/linear_model/_logistic.py:1196: UserWarning: l1_ratio parameter is only used when penalty is 'elasticnet'. Got (penalty=l1)\n",
      "  warnings.warn(\n",
      "/Library/Frameworks/Python.framework/Versions/3.12/lib/python3.12/site-packages/sklearn/linear_model/_logistic.py:1196: UserWarning: l1_ratio parameter is only used when penalty is 'elasticnet'. Got (penalty=l1)\n",
      "  warnings.warn(\n",
      "/Library/Frameworks/Python.framework/Versions/3.12/lib/python3.12/site-packages/sklearn/linear_model/_logistic.py:1196: UserWarning: l1_ratio parameter is only used when penalty is 'elasticnet'. Got (penalty=l1)\n",
      "  warnings.warn(\n",
      "/Library/Frameworks/Python.framework/Versions/3.12/lib/python3.12/site-packages/sklearn/linear_model/_logistic.py:1196: UserWarning: l1_ratio parameter is only used when penalty is 'elasticnet'. Got (penalty=l1)\n",
      "  warnings.warn(\n",
      "/Library/Frameworks/Python.framework/Versions/3.12/lib/python3.12/site-packages/sklearn/linear_model/_logistic.py:1196: UserWarning: l1_ratio parameter is only used when penalty is 'elasticnet'. Got (penalty=l1)\n",
      "  warnings.warn(\n",
      "/Library/Frameworks/Python.framework/Versions/3.12/lib/python3.12/site-packages/sklearn/linear_model/_logistic.py:1196: UserWarning: l1_ratio parameter is only used when penalty is 'elasticnet'. Got (penalty=l1)\n",
      "  warnings.warn(\n",
      "/Library/Frameworks/Python.framework/Versions/3.12/lib/python3.12/site-packages/sklearn/linear_model/_logistic.py:1196: UserWarning: l1_ratio parameter is only used when penalty is 'elasticnet'. Got (penalty=l1)\n",
      "  warnings.warn(\n",
      "/Library/Frameworks/Python.framework/Versions/3.12/lib/python3.12/site-packages/sklearn/linear_model/_logistic.py:1196: UserWarning: l1_ratio parameter is only used when penalty is 'elasticnet'. Got (penalty=l1)\n",
      "  warnings.warn(\n",
      "/Library/Frameworks/Python.framework/Versions/3.12/lib/python3.12/site-packages/sklearn/linear_model/_logistic.py:1196: UserWarning: l1_ratio parameter is only used when penalty is 'elasticnet'. Got (penalty=l1)\n",
      "  warnings.warn(\n"
     ]
    },
    {
     "name": "stdout",
     "output_type": "stream",
     "text": [
      "Best parameters from RandomizedSearchCV:\n",
      "{'C': 10.25616274847308, 'l1_ratio': 0.0, 'penalty': 'l1', 'solver': 'liblinear'}\n",
      "Test accuracy with best params: 0.9737\n"
     ]
    }
   ],
   "source": [
    "from sklearn.model_selection import RandomizedSearchCV\n",
    "from scipy.stats import loguniform\n",
    "\n",
    "x,y = load_breast_cancer(return_X_y=True)\n",
    "\n",
    "x_train, x_test, y_train, y_test = train_test_split( x, y, test_size=0.2, random_state=42,shuffle=True)\n",
    "\n",
    "param_dist = {\n",
    "    \"C\": loguniform(1e-3, 1e2),            \n",
    "    \"penalty\": [\"l1\", \"l2\", \"elasticnet\"],\n",
    "    \"solver\": [\"liblinear\", \"saga\"],       \n",
    "    \"l1_ratio\": [0.0, 0.25, 0.5, 0.75, 1.0]\n",
    "}\n",
    "\n",
    "base= LogisticRegression(\n",
    "    max_iter=5000,\n",
    "    random_state=42\n",
    ")\n",
    "\n",
    "rand_search = RandomizedSearchCV(\n",
    "    estimator=base,\n",
    "    param_distributions=param_dist,\n",
    "    n_iter=50,\n",
    "    scoring=\"accuracy\",\n",
    "    cv=5,\n",
    "    random_state=42,\n",
    "    n_jobs=-1,\n",
    "    verbose=1\n",
    ")\n",
    "\n",
    "rand_search.fit(x_train, y_train)\n",
    "\n",
    "print(\"Best parameters from RandomizedSearchCV:\")\n",
    "print(rand_search.best_params_)\n",
    "\n",
    "bestModel = rand_search.best_estimator_\n",
    "y_pred = bestModel.predict(x_test)\n",
    "test_acc = accuracy_score(y_test, y_pred)\n",
    "print(f\"Test accuracy with best params: {test_acc:.4f}\")\n"
   ]
  },
  {
   "cell_type": "markdown",
   "id": "63a434e2",
   "metadata": {},
   "source": [
    "### Q10"
   ]
  },
  {
   "cell_type": "code",
   "execution_count": 112,
   "id": "dba14563",
   "metadata": {},
   "outputs": [
    {
     "name": "stdout",
     "output_type": "stream",
     "text": [
      "One-vs-One Model accuracy: 1.0000\n",
      "\n"
     ]
    }
   ],
   "source": [
    "from sklearn.multiclass import OneVsOneClassifier\n",
    "data = load_iris()\n",
    "X, y = data.data, data.target\n",
    "X_train, X_test, y_train, y_test = train_test_split( X, y, test_size=0.2, random_state=42\n",
    ")\n",
    "\n",
    "ovo_clf = OneVsOneClassifier(\n",
    "    estimator=LogisticRegression(solver=\"liblinear\", max_iter=5000, random_state=42)\n",
    ")\n",
    "\n",
    "ovo_clf.fit(X_train, y_train)\n",
    "\n",
    "y_pred = ovo_clf.predict(X_test)\n",
    "acc = accuracy_score(y_test, y_pred)\n",
    "print(f\"One-vs-One Model accuracy: {acc:.4f}\\n\")"
   ]
  },
  {
   "cell_type": "markdown",
   "id": "32044870",
   "metadata": {},
   "source": [
    "### Q11"
   ]
  },
  {
   "cell_type": "code",
   "execution_count": 113,
   "id": "e1760e77",
   "metadata": {},
   "outputs": [
    {
     "data": {
      "image/png": "[encoded data removed]",
      "text/plain": [
       "<Figure size 600x500 with 2 Axes>"
      ]
     },
     "metadata": {},
     "output_type": "display_data"
    }
   ],
   "source": [
    "from sklearn.metrics import confusion_matrix\n",
    "\n",
    "x,y = load_breast_cancer(return_X_y=True)\n",
    "x_train, x_test, y_train, y_test = train_test_split(\n",
    "    x, y, test_size=0.2, random_state=42\n",
    ")\n",
    "\n",
    "model = LogisticRegression(solver=\"lbfgs\", max_iter=5000, random_state=42)\n",
    "model.fit(x_train, y_train)\n",
    "\n",
    "y_pred = model.predict(x_test)\n",
    "\n",
    "confusion_Matrix = confusion_matrix(y_test, y_pred, labels=model.classes_)\n",
    "\n",
    "# Visualize with heatmap\n",
    "plt.figure(figsize=(6, 5))\n",
    "sns.heatmap(\n",
    "    confusion_Matrix, \n",
    "    annot=True, \n",
    "    fmt=\"d\", \n",
    "    cmap=\"Blues\", \n",
    "    xticklabels=model.classes_, \n",
    "    yticklabels=model.classes_\n",
    ")\n",
    "plt.xlabel(\"Predicted label\")\n",
    "plt.ylabel(\"True label\")\n",
    "plt.title(\"Confusion Matrix: Logistic Regression\")\n",
    "plt.show()\n"
   ]
  },
  {
   "cell_type": "markdown",
   "id": "0ca15ddd",
   "metadata": {},
   "source": [
    "### Q12"
   ]
  },
  {
   "cell_type": "code",
   "execution_count": 114,
   "id": "257765bc",
   "metadata": {},
   "outputs": [
    {
     "name": "stdout",
     "output_type": "stream",
     "text": [
      "Precision: 0.9459\n",
      "Recall:    0.9859\n",
      "F1-Score:  0.9655\n",
      "\n"
     ]
    }
   ],
   "source": [
    "\n",
    "from sklearn.metrics import precision_score, recall_score, f1_score, classification_report\n",
    "\n",
    "x,y = load_breast_cancer(return_X_y=True)\n",
    "\n",
    "x_train, x_test, y_train, y_test = train_test_split(\n",
    "    x, y, test_size=0.2, random_state=42\n",
    ")\n",
    "\n",
    "model = LogisticRegression(solver=\"lbfgs\", max_iter=5000, random_state=42)\n",
    "model.fit(x_train, y_train)\n",
    "\n",
    "y_pred = model.predict(x_test)\n",
    "\n",
    "prec = precision_score(y_test, y_pred)\n",
    "rec = recall_score(y_test, y_pred)\n",
    "f1 = f1_score(y_test, y_pred)\n",
    "\n",
    "print(f\"Precision: {prec:.4f}\")\n",
    "print(f\"Recall:    {rec:.4f}\")\n",
    "print(f\"F1-Score:  {f1:.4f}\\n\")\n",
    "\n"
   ]
  },
  {
   "cell_type": "markdown",
   "id": "bf542884",
   "metadata": {},
   "source": [
    "### Q13"
   ]
  },
  {
   "cell_type": "code",
   "execution_count": 115,
   "id": "c4aa76df",
   "metadata": {},
   "outputs": [
    {
     "name": "stdout",
     "output_type": "stream",
     "text": [
      "Original class distribution: {0: 4500, 1: 500}\n",
      "\n",
      "Without class weights:\n",
      "Accuracy: 0.9490\n",
      "\n",
      "With class weights:\n",
      "Accuracy: 0.8860\n"
     ]
    }
   ],
   "source": [
    "from sklearn.datasets import make_classification\n",
    "\n",
    "x, y = make_classification(\n",
    "    n_samples=5000,\n",
    "    n_features=20,\n",
    "    n_informative=2,\n",
    "    n_redundant=10,\n",
    "    n_clusters_per_class=1,\n",
    "    weights=[0.90, 0.10],\n",
    "    flip_y=0,\n",
    "    random_state=23\n",
    ")\n",
    "\n",
    "unique, counts = np.unique(y, return_counts=True)\n",
    "print(f\"Original class distribution: {dict(zip(unique, counts))}\\n\")\n",
    "\n",
    "x_train, x_test, y_train, y_test = train_test_split(\n",
    "    x, y, test_size=0.2, random_state=34,stratify=y\n",
    ")\n",
    "\n",
    "model = LogisticRegression(solver=\"liblinear\", max_iter=5000, random_state=49)\n",
    "model.fit(x_train, y_train)\n",
    "y_pred = model.predict(x_test)\n",
    "\n",
    "print(\"Without class weights:\")\n",
    "print(f\"Accuracy: {accuracy_score(y_test, y_pred):.4f}\\n\")\n",
    "\n",
    "model_weighted = LogisticRegression(solver=\"liblinear\", max_iter=5000,class_weight='balanced', random_state=46)\n",
    "model_weighted.fit(x_train,y_train)\n",
    "y_pred = model_weighted.predict(x_test)\n",
    "\n",
    "print(\"With class weights:\")\n",
    "print(f\"Accuracy: {accuracy_score(y_test, y_pred):.4f}\")\n"
   ]
  },
  {
   "cell_type": "markdown",
   "id": "b11b6c16",
   "metadata": {},
   "source": [
    "### Q14"
   ]
  },
  {
   "cell_type": "code",
   "execution_count": 116,
   "id": "71766963",
   "metadata": {},
   "outputs": [
    {
     "name": "stdout",
     "output_type": "stream",
     "text": [
      "Logistic Regression on Titanic accuracy: 75.9777%\n",
      "\n"
     ]
    }
   ],
   "source": [
    "from sklearn.impute import SimpleImputer\n",
    "from sklearn.pipeline import Pipeline\n",
    "from sklearn.compose import ColumnTransformer\n",
    "from sklearn.preprocessing import OneHotEncoder\n",
    "\n",
    "\n",
    "titanic = sns.load_dataset('titanic')\n",
    "\n",
    "df = titanic[[\"survived\", \"pclass\", \"sex\", \"age\", \"sibsp\", \"parch\", \"fare\", \"embarked\"]]\n",
    "x=df.drop('survived',axis=1)\n",
    "y = df['survived']\n",
    "x_train, x_test, y_train, y_test = train_test_split(\n",
    "    x, y, test_size=0.2, random_state=34,stratify=y\n",
    ")\n",
    "num_col = [\"age\", \"sibsp\", \"parch\", \"fare\", \"pclass\"]\n",
    "cat_col = [\"sex\", \"embarked\"]\n",
    "\n",
    "num_transformer= Pipeline(steps=[\n",
    "    ('imputer',SimpleImputer(strategy='median'))\n",
    "])\n",
    "cat_transformer = Pipeline(steps=[\n",
    "    ('imputer',SimpleImputer(strategy='most_frequent')),\n",
    "    ('Encoder',OneHotEncoder(handle_unknown='ignore'))\n",
    "])\n",
    "\n",
    "preprocessor = ColumnTransformer(transformers=[\n",
    "    (\"numerical\",num_transformer,num_col),\n",
    "    ('categorical',cat_transformer,cat_col)\n",
    "])\n",
    "logistic = LogisticRegression(solver=\"lbfgs\", max_iter=5000, random_state=42)\n",
    "clf_pipeline = Pipeline(steps=[\n",
    "    ('PreProcessor',preprocessor),\n",
    "    ('Model',logistic)\n",
    "])\n",
    "clf_pipeline.fit(x_train,y_train)\n",
    "y_pred = clf_pipeline.predict(x_test)\n",
    "acc = accuracy_score(y_test, y_pred)\n",
    "print(f\"Logistic Regression on Titanic accuracy: {acc*100:.4f}%\\n\")"
   ]
  },
  {
   "cell_type": "markdown",
   "id": "57915f6e",
   "metadata": {},
   "source": [
    "### Q15"
   ]
  },
  {
   "cell_type": "code",
   "execution_count": 117,
   "id": "b68028c2",
   "metadata": {},
   "outputs": [
    {
     "name": "stdout",
     "output_type": "stream",
     "text": [
      "Accuracy without scaling: 0.9649\n",
      "Accuracy with standardization: 0.9825\n"
     ]
    }
   ],
   "source": [
    "data = load_breast_cancer()\n",
    "X, y = data.data, data.target\n",
    "\n",
    "X_train, X_test, y_train, y_test = train_test_split(\n",
    "    X, y, test_size=0.2, random_state=42, stratify=y\n",
    ")\n",
    "\n",
    "# 3. Model without scaling\n",
    "model_noscale = LogisticRegression(solver=\"lbfgs\", max_iter=5000, random_state=42)\n",
    "model_noscale.fit(X_train, y_train)\n",
    "y_pred_noscale = model_noscale.predict(X_test)\n",
    "acc_noscale = accuracy_score(y_test, y_pred_noscale)\n",
    "\n",
    "print(f\"Accuracy without scaling: {acc_noscale:.4f}\")\n",
    "\n",
    "# 4. Model with StandardScaler\n",
    "pipeline_scaled = Pipeline(steps=[\n",
    "    (\"scaler\", StandardScaler()),\n",
    "    (\"classifier\", LogisticRegression(solver=\"lbfgs\", max_iter=5000, random_state=42))\n",
    "])\n",
    "pipeline_scaled.fit(X_train, y_train)\n",
    "y_pred_scaled = pipeline_scaled.predict(X_test)\n",
    "acc_scaled = accuracy_score(y_test, y_pred_scaled)\n",
    "\n",
    "print(f\"Accuracy with standardization: {acc_scaled:.4f}\")\n"
   ]
  },
  {
   "cell_type": "markdown",
   "id": "6889a3ef",
   "metadata": {},
   "source": [
    "### Q16"
   ]
  },
  {
   "cell_type": "code",
   "execution_count": 118,
   "id": "3a48e903",
   "metadata": {},
   "outputs": [
    {
     "name": "stdout",
     "output_type": "stream",
     "text": [
      "ROC-AUC score: 0.9954\n"
     ]
    },
    {
     "data": {
      "image/png": "[encoded data removed]",
      "text/plain": [
       "<Figure size 640x480 with 1 Axes>"
      ]
     },
     "metadata": {},
     "output_type": "display_data"
    }
   ],
   "source": [
    "from sklearn.metrics import roc_auc_score, RocCurveDisplay\n",
    "\n",
    "data = load_breast_cancer()\n",
    "X, y = data.data, data.target\n",
    "\n",
    "X_train, X_test, y_train, y_test = train_test_split(\n",
    "    X, y, test_size=0.2, random_state=42, stratify=y\n",
    ")\n",
    "\n",
    "model = LogisticRegression(solver=\"lbfgs\", max_iter=5000, random_state=42)\n",
    "model.fit(X_train, y_train)\n",
    "\n",
    "y_proba = model.predict_proba(X_test)[:, 1]\n",
    "\n",
    "# ROC AUC\n",
    "roc_auc = roc_auc_score(y_test, y_proba)\n",
    "print(f\"ROC-AUC score: {roc_auc:.4f}\")\n",
    "\n",
    "# Plot ROC curve\n",
    "RocCurveDisplay.from_predictions(y_test, y_proba)\n",
    "plt.title(\"ROC Curve: Logistic Regression\")\n",
    "plt.grid(True)\n",
    "plt.tight_layout()\n",
    "plt.show()\n"
   ]
  },
  {
   "cell_type": "markdown",
   "id": "94072907",
   "metadata": {},
   "source": [
    "### Q17"
   ]
  },
  {
   "cell_type": "code",
   "execution_count": 119,
   "id": "483a1f37",
   "metadata": {},
   "outputs": [
    {
     "name": "stdout",
     "output_type": "stream",
     "text": [
      "Accuracy with C=0.5: 0.9649\n"
     ]
    }
   ],
   "source": [
    "data = load_breast_cancer()\n",
    "X, y = data.data, data.target\n",
    "\n",
    "X_train, X_test, y_train, y_test = train_test_split(\n",
    "    X, y, test_size=0.2, random_state=42, stratify=y\n",
    ")\n",
    "\n",
    "# C = 1/λ, so smaller C = stronger regularization)\n",
    "model = LogisticRegression(C=0.5, solver=\"lbfgs\", max_iter=5000, random_state=42)\n",
    "model.fit(X_train, y_train)\n",
    "\n",
    "y_pred = model.predict(X_test)\n",
    "acc = accuracy_score(y_test, y_pred)\n",
    "print(f\"Accuracy with C=0.5: {acc:.4f}\")"
   ]
  },
  {
   "cell_type": "markdown",
   "id": "6469d51e",
   "metadata": {},
   "source": [
    "### Q18"
   ]
  },
  {
   "cell_type": "code",
   "execution_count": 120,
   "id": "fbc90333",
   "metadata": {},
   "outputs": [
    {
     "name": "stdout",
     "output_type": "stream",
     "text": [
      "Top 10 features by absolute coefficient value:\n",
      "worst concavity               : coef=-1.3202\n",
      "texture error                 : coef=+1.0872\n",
      "mean radius                   : coef=+0.8102\n",
      "worst symmetry                : coef=-0.7847\n",
      "worst compactness             : coef=-0.7582\n",
      "worst concave points          : coef=-0.5545\n",
      "mean concavity                : coef=-0.4544\n",
      "worst texture                 : coef=-0.3752\n",
      "worst smoothness              : coef=-0.3197\n",
      "mean symmetry                 : coef=-0.3053\n"
     ]
    }
   ],
   "source": [
    "data = load_breast_cancer()\n",
    "X, y = data.data, data.target\n",
    "feature_names = data.feature_names\n",
    "\n",
    "\n",
    "X_train, X_test, y_train, y_test = train_test_split(\n",
    "    X, y, test_size=0.2, random_state=42, stratify=y\n",
    ")\n",
    "\n",
    "model = LogisticRegression(solver=\"lbfgs\", max_iter=5000, random_state=42)\n",
    "model.fit(X_train, y_train)\n",
    "\n",
    "#coefficients and sort by absolute value\n",
    "coefs = model.coef_.flatten()\n",
    "coef_abs = np.abs(coefs)\n",
    "idx_sorted = np.argsort(coef_abs)[::-1]\n",
    "\n",
    "print(\"Top 10 features by absolute coefficient value:\")\n",
    "for i in idx_sorted[:10]:\n",
    "    print(f\"{feature_names[i]:30s}: coef={coefs[i]:+.4f}\")"
   ]
  },
  {
   "cell_type": "markdown",
   "id": "66539420",
   "metadata": {},
   "source": [
    "### Q19"
   ]
  },
  {
   "cell_type": "code",
   "execution_count": 121,
   "id": "6ec600bc",
   "metadata": {},
   "outputs": [
    {
     "name": "stdout",
     "output_type": "stream",
     "text": [
      "Accuracy: 0.9649\n",
      "Cohen's Kappa Score: 0.9238\n"
     ]
    }
   ],
   "source": [
    "from sklearn.metrics import cohen_kappa_score, accuracy_score\n",
    "\n",
    "data = load_breast_cancer()\n",
    "X, y = data.data, data.target\n",
    "\n",
    "X_train, X_test, y_train, y_test = train_test_split(\n",
    "    X, y, test_size=0.2, random_state=42, stratify=y\n",
    ")\n",
    "\n",
    "model = LogisticRegression(solver=\"lbfgs\", max_iter=5000, random_state=42)\n",
    "model.fit(X_train, y_train)\n",
    "\n",
    "y_pred = model.predict(X_test)\n",
    "\n",
    "kappa = cohen_kappa_score(y_test, y_pred)\n",
    "acc = accuracy_score(y_test, y_pred)\n",
    "print(f\"Accuracy: {acc:.4f}\")\n",
    "print(f\"Cohen's Kappa Score: {kappa:.4f}\")"
   ]
  },
  {
   "cell_type": "markdown",
   "id": "7c612e5b",
   "metadata": {},
   "source": [
    "### Q20"
   ]
  },
  {
   "cell_type": "code",
   "execution_count": 122,
   "id": "36c1d02b",
   "metadata": {},
   "outputs": [
    {
     "data": {
      "image/png": "[encoded data removed]",
      "text/plain": [
       "<Figure size 640x480 with 1 Axes>"
      ]
     },
     "metadata": {},
     "output_type": "display_data"
    }
   ],
   "source": [
    "from sklearn.metrics import precision_recall_curve, PrecisionRecallDisplay, average_precision_score\n",
    "\n",
    "data = load_breast_cancer()\n",
    "X, y = data.data, data.target\n",
    "\n",
    "X_train, X_test, y_train, y_test = train_test_split(\n",
    "    X, y, test_size=0.2, random_state=42, stratify=y\n",
    ")\n",
    "\n",
    "model = LogisticRegression(solver=\"lbfgs\", max_iter=5000, random_state=42)\n",
    "model.fit(X_train, y_train)\n",
    "\n",
    "y_scores = model.predict_proba(X_test)[:, 1]\n",
    "\n",
    "precision, recall, thresholds = precision_recall_curve(y_test, y_scores)\n",
    "avg_prec = average_precision_score(y_test, y_scores)\n",
    "\n",
    "# 6. Plot\n",
    "display = PrecisionRecallDisplay(precision=precision, recall=recall, average_precision=avg_prec)\n",
    "display.plot()\n",
    "plt.title(\"Precision-Recall Curve: Logistic Regression\")\n",
    "plt.show()"
   ]
  },
  {
   "cell_type": "markdown",
   "id": "b79eafe9",
   "metadata": {},
   "source": [
    "### Q21"
   ]
  },
  {
   "cell_type": "code",
   "execution_count": 123,
   "id": "81abee67",
   "metadata": {},
   "outputs": [
    {
     "name": "stdout",
     "output_type": "stream",
     "text": [
      "Solver: liblinear → Accuracy: 0.9649\n",
      "Solver: saga     → Accuracy: 0.9474\n",
      "Solver: lbfgs    → Accuracy: 0.9649\n"
     ]
    }
   ],
   "source": [
    "data = load_breast_cancer()\n",
    "X, y = data.data, data.target\n",
    "\n",
    "X_train, X_test, y_train, y_test = train_test_split(\n",
    "    X, y, test_size=0.2, random_state=42, stratify=y\n",
    ")\n",
    "\n",
    "solvers = [\"liblinear\", \"saga\", \"lbfgs\"]\n",
    "results = {}\n",
    "\n",
    "for solver in solvers:\n",
    "    model = LogisticRegression(\n",
    "        solver=solver,\n",
    "        penalty=\"l2\",\n",
    "        max_iter=5000,\n",
    "        random_state=42\n",
    "    )\n",
    "    model.fit(X_train, y_train)\n",
    "    y_pred = model.predict(X_test)\n",
    "    acc = accuracy_score(y_test, y_pred)\n",
    "    results[solver] = acc\n",
    "    print(f\"Solver: {solver:8s} → Accuracy: {acc:.4f}\")\n"
   ]
  },
  {
   "cell_type": "markdown",
   "id": "28b4b26d",
   "metadata": {},
   "source": [
    "### Q22"
   ]
  },
  {
   "cell_type": "code",
   "execution_count": 124,
   "id": "ca2d9a3b",
   "metadata": {},
   "outputs": [
    {
     "name": "stdout",
     "output_type": "stream",
     "text": [
      "Accuracy: 0.9649\n",
      "Matthews Correlation Coefficient: 0.9245\n",
      "\n"
     ]
    }
   ],
   "source": [
    "from sklearn.metrics import matthews_corrcoef\n",
    "model = LogisticRegression(solver=\"lbfgs\", max_iter=5000, random_state=42)\n",
    "model.fit(X_train, y_train)\n",
    "\n",
    "y_pred = model.predict(X_test)\n",
    "\n",
    "# Compute MCC \n",
    "mcc = matthews_corrcoef(y_test, y_pred)\n",
    "acc = accuracy_score(y_test, y_pred)\n",
    "\n",
    "print(f\"Accuracy: {acc:.4f}\")\n",
    "print(f\"Matthews Correlation Coefficient: {mcc:.4f}\\n\")"
   ]
  },
  {
   "cell_type": "markdown",
   "id": "0b13d6a6",
   "metadata": {},
   "source": [
    "### Q23"
   ]
  },
  {
   "cell_type": "code",
   "execution_count": 125,
   "id": "1d6c4a12",
   "metadata": {},
   "outputs": [
    {
     "name": "stdout",
     "output_type": "stream",
     "text": [
      "Accuracy on raw data:          0.9649\n",
      "Accuracy on standardized data: 0.9825\n"
     ]
    }
   ],
   "source": [
    "model_raw = LogisticRegression(solver=\"lbfgs\", max_iter=5000, random_state=42)\n",
    "model_raw.fit(X_train, y_train)\n",
    "y_pred_raw = model_raw.predict(X_test)\n",
    "acc_raw = accuracy_score(y_test, y_pred_raw)\n",
    "\n",
    "# Scaling with standardization\n",
    "pipeline_scaled = Pipeline(steps=[\n",
    "    (\"scaler\", StandardScaler()),\n",
    "    (\"classifier\", LogisticRegression(solver=\"lbfgs\", max_iter=5000, random_state=42))\n",
    "])\n",
    "pipeline_scaled.fit(X_train, y_train) # standardisation\n",
    "y_pred_scaled = pipeline_scaled.predict(X_test)\n",
    "acc_scaled = accuracy_score(y_test, y_pred_scaled)\n",
    "\n",
    "print(f\"Accuracy on raw data:          {acc_raw:.4f}\")\n",
    "print(f\"Accuracy on standardized data: {acc_scaled:.4f}\")"
   ]
  },
  {
   "cell_type": "markdown",
   "id": "b6f105a4",
   "metadata": {},
   "source": [
    "### Q24"
   ]
  },
  {
   "cell_type": "code",
   "execution_count": 126,
   "id": "83a65693",
   "metadata": {},
   "outputs": [
    {
     "name": "stdout",
     "output_type": "stream",
     "text": [
      "Fitting 5 folds for each of 20 candidates, totalling 100 fits\n",
      "Optimal C (from CV): 0.0021\n",
      "Best cross-validated accuracy: 0.9187\n"
     ]
    }
   ],
   "source": [
    "param_grid = {\"C\": np.logspace(-3, 3, 20)}\n",
    "\n",
    "base = LogisticRegression(solver=\"saga\", max_iter=5000, random_state=42)\n",
    "\n",
    "grid_search = GridSearchCV(\n",
    "    estimator=base,\n",
    "    param_grid=param_grid,\n",
    "    scoring=\"accuracy\",\n",
    "    cv=5,\n",
    "    n_jobs=-1,\n",
    "    verbose=1\n",
    ")\n",
    "\n",
    "grid_search.fit(X_train, y_train)\n",
    "\n",
    "best_C = grid_search.best_params_[\"C\"]\n",
    "best_cv_score = grid_search.best_score_\n",
    "print(f\"Optimal C (from CV): {best_C:.4f}\")\n",
    "print(f\"Best cross-validated accuracy: {best_cv_score:.4f}\")"
   ]
  },
  {
   "cell_type": "markdown",
   "id": "f2ff3e12",
   "metadata": {},
   "source": [
    "### Q25"
   ]
  },
  {
   "cell_type": "code",
   "execution_count": null,
   "id": "d3a519a8",
   "metadata": {},
   "outputs": [
    {
     "name": "stdout",
     "output_type": "stream",
     "text": [
      "Model saved to logisticModelJoblib.pkl\n",
      "Model loaded from disk.\n",
      "Accuracy of loaded model: 0.9649\n"
     ]
    }
   ],
   "source": [
    "import joblib \n",
    "\n",
    "model = LogisticRegression(solver=\"lbfgs\", max_iter=5000, random_state=42)\n",
    "model.fit(X_train, y_train)\n",
    "\n",
    "filename = \"logisticModelJoblib.pkl\"\n",
    "joblib.dump(model, filename)\n",
    "print(f\"Model saved to {filename}\")\n",
    "\n",
    "loaded_model = joblib.load(filename)\n",
    "print(\"Model loaded from disk.\")\n",
    "\n",
    "y_pred = loaded_model.predict(X_test)\n",
    "acc = accuracy_score(y_test, y_pred)\n",
    "print(f\"Accuracy of loaded model: {acc:.4f}\")"
   ]
  }
 ],
 "metadata": {
  "kernelspec": {
   "display_name": "Python 3",
   "language": "python",
   "name": "python3"
  },
  "language_info": {
   "codemirror_mode": {
    "name": "ipython",
    "version": 3
   },
   "file_extension": ".py",
   "mimetype": "text/x-python",
   "name": "python",
   "nbconvert_exporter": "python",
   "pygments_lexer": "ipython3",
   "version": "3.12.9"
  }
 },
 "nbformat": 4,
 "nbformat_minor": 5
}
