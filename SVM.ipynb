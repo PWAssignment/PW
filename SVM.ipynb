{
 "cells": [
  {
   "cell_type": "markdown",
   "id": "437171de",
   "metadata": {},
   "source": [
    "# Theory"
   ]
  },
  {
   "cell_type": "markdown",
   "id": "140ad790",
   "metadata": {},
   "source": [
    "**1. What is a Support Vector Machine (SVM)?**  \n",
    "A Support Vector Machine is a supervised learning model used mainly for classification (and sometimes regression). It finds a boundary (a “hyperplane” in feature space) that best separates different classes by maximizing the distance between the boundary and the closest training points from each class.\n",
    "\n",
    "---\n",
    "\n",
    "**2. What is the difference between Hard Margin and Soft Margin SVM?**  \n",
    "\n",
    "* **Hard Margin SVM** assumes the data can be perfectly separated by a straight boundary. It does not allow any training point to be misclassified or to lie inside the margin.\n",
    "* **Soft Margin SVM** allows some points to be on the wrong side or within the margin in exchange for better generalization. It balances between keeping a wide separation and permitting a few mistakes on the training set.\n",
    "\n",
    "---\n",
    "\n",
    "**3. What is the mathematical intuition behind SVM?**  \n",
    "Without using formal equations:\n",
    "\n",
    "* The SVM looks for the “widest possible road” (margin) between two classes of points.\n",
    "* Only those training points that are closest to the boundary (the “support vectors”) actually determine where the boundary sits.\n",
    "* By focusing on these critical points, the SVM tries to generalize well to new data.\n",
    "\n",
    "---\n",
    "\n",
    "**4. What is the role of Lagrange Multipliers in SVM?**  \n",
    "Lagrange Multipliers are a way to convert SVM’s constrained optimization problem (finding the best boundary subject to separation requirements) into an equivalent problem that depends only on dot products between data points. In practice, this means:\n",
    "\n",
    "1. You no longer need to juggle many constraints directly.\n",
    "2. You can identify which points matter (the support vectors) because only those multiply their constraint by a non-zero factor.\n",
    "3. It prepares the ground for using kernels (where you replace dot products with more sophisticated similarity functions).\n",
    "\n",
    "---\n",
    "\n",
    "**5. What are Support Vectors in SVM?**  \n",
    "Support Vectors are the specific training samples that lie closest to the decision boundary (or inside the margin if you allow misclassifications). They are critical because moving or removing them would change where the boundary ends up. All other points—those farther away—have no direct impact on the final model.\n",
    "\n",
    "---\n",
    "\n",
    "**6. What is a Support Vector Classifier (SVC)?**  \n",
    "“SVC” is simply the name given to the standard SVM when it’s used for classification. You feed in labeled data (for example, “positive” vs. “negative”), choose a kernel or linear boundary, and the SVC training procedure finds the optimum separating hyperplane (or set of nonlinear curves) based on the support vectors.\n",
    "\n",
    "---\n",
    "\n",
    "**7. What is a Support Vector Regressor (SVR)?**  \n",
    "SVR is the SVM’s version for regression tasks (predicting continuous values rather than class labels). It fits a function that stays within a certain allowable “tube” around the data points. Only points that lie outside that tube (farther from the modeled line) become support vectors and influence the final fitted function.\n",
    "\n",
    "---\n",
    "\n",
    "**8. What is the Kernel Trick in SVM?**  \n",
    "The Kernel Trick lets you turn a linear SVM into a nonlinear one without explicitly transforming your data. Instead of computing dot products in the original input space, you use a “kernel function” (e.g., polynomial or Gaussian) that implicitly maps data into a higher-dimensional space. The SVM algorithm only ever sees those kernel values, so it never needs to build or store the higher-dimensional vectors explicitly.\n",
    "\n",
    "---\n",
    "\n",
    "**9. Compare Linear Kernel, Polynomial Kernel, and RBF Kernel.**  \n",
    "\n",
    "* **Linear Kernel:** Trains a simple linear boundary. Best when data are roughly linearly separable or when you have many features.\n",
    "* **Polynomial Kernel:** Creates boundaries that are polynomial curves in the original features. Useful if you suspect a moderate degree of nonlinearity (e.g., quadratic or cubic) without going to full “infinite‐dimensional” complexity.\n",
    "* **RBF (Radial Basis Function) Kernel:** Acts like a smooth bump centered on each support vector, allowing very flexible, curved decision boundaries. It adapts locally: points close together behave similarly, points far apart can be separated quite sharply.\n",
    "\n",
    "---\n",
    "\n",
    "**10. What is the effect of the C parameter in SVM?**  \n",
    "The parameter **C** controls how much the SVM prioritizes classifying all training points correctly versus keeping a wide margin:\n",
    "\n",
    "* **Large C:** Puts heavy emphasis on minimizing training errors, so the margin may shrink to accommodate every point. Can lead to overfitting.\n",
    "* **Small C:** Allows more margin violations (a few misclassified points) in exchange for a wider separation, often improving generalization on new data.\n",
    "\n",
    "---\n",
    "\n",
    "**11. What is the role of the Gamma parameter in RBF Kernel SVM?**  \n",
    "In the RBF kernel $K(\\mathbf{x},\\mathbf{z})=\\exp(-\\gamma\\|\\mathbf{x}-\\mathbf{z}\\|^2)$, $\\gamma>0$ controls the “width” of the Gaussian:\n",
    "\n",
    "* **Large $\\gamma$:** Very narrow Gaussian kernel. Each support vector influences only a small local neighborhood. This can lead to very wiggly decision boundaries and potential overfitting.\n",
    "* **Small $\\gamma$:** Wider kernel. Each support vector’s influence covers a large region; the decision boundary becomes smoother and more global (risk of underfitting).\n",
    "  Choosing $\\gamma$ is a trade‐off between model flexibility and over‐fitting.\n",
    "\n",
    "---\n",
    "\n",
    "**12. What is the Naïve Bayes classifier, and why is it called “Naïve”?**  \n",
    "Naïve Bayes is a probabilistic classifier that applies Bayes’ Theorem to compute the probability of each class given the observed features, then picks the class with the highest probability. It’s called “naïve” because it assumes (often unrealistically) that all features are independent of each other given the class label.\n",
    "\n",
    "---\n",
    "\n",
    "**13. What is Bayes’ Theorem?**  \n",
    "Bayes’ Theorem relates prior and posterior probabilities:\n",
    "\n",
    "$$\n",
    "  P(Y=k \\mid \\mathbf{x}) \n",
    "  = \\frac{P(\\mathbf{x} \\mid Y=k)\\;P(Y=k)}{P(\\mathbf{x})},\n",
    "$$\n",
    "\n",
    "where\n",
    "\n",
    "* $P(Y=k)$ is the prior probability of class $k$,\n",
    "* $P(\\mathbf{x}\\mid Y=k)$ is the class‐conditional likelihood of observing $\\mathbf{x}$, and\n",
    "* $P(\\mathbf{x}) = \\sum_{r} P(\\mathbf{x} \\mid Y=r)\\,P(Y=r)$ is the marginal likelihood.\n",
    "\n",
    "In Naïve Bayes, we approximate $P(\\mathbf{x}\\mid Y=k)$ by $\\prod_{j=1}^d P(x_j\\mid Y=k)$ under the independence assumption.\n",
    "\n",
    "---\n",
    "\n",
    "**14. Explain the differences between Gaussian Naïve Bayes, Multinomial Naïve Bayes, and Bernoulli Naïve Bayes.**  \n",
    "\n",
    "* **Gaussian Naïve Bayes:** Used when features are continuous real‐valued. Each feature is modeled by a normal (bell‐shaped) distribution within each class.\n",
    "* **Multinomial Naïve Bayes:** Used when features are counts (e.g., word counts in a document). Each class has a distribution over discrete feature counts.\n",
    "* **Bernoulli Naïve Bayes:** Used when features are binary/binary‐valued (e.g., word present or absent). It models each feature as a two‐value (0/1) event in each class.\n",
    "\n",
    "You pick the variant according to the data type: continuous, count, or binary.\n",
    "\n",
    "---\n",
    "\n",
    "**15. When should you use Gaussian Naïve Bayes over other variants?**  \n",
    "Use **Gaussian Naïve Bayes** when your features are continuous real numbers (heights, weights, sensor readings, test scores, etc.) and you believe each feature (within a class) roughly follows a bell‐shaped (normal) distribution. If your features are counts or strictly binary, choose Multinomial or Bernoulli respectively instead.\n",
    "\n",
    "---\n",
    "\n",
    "**16. What are the key assumptions made by Naïve Bayes?**  \n",
    "\n",
    "1. **Conditional Independence:** All features are assumed independent of one another once you know the class label.\n",
    "2. **Correct Likelihood Model:** Each feature’s distribution (Gaussian, multinomial, or Bernoulli) matches the actual data generation for that feature.\n",
    "   Although these assumptions are rarely exactly true, Naïve Bayes often still works surprisingly well.\n",
    "\n",
    "---\n",
    "\n",
    "**17. What are the advantages and disadvantages of Naïve Bayes?**  \n",
    "\n",
    "* **Advantages:**\n",
    "\n",
    "  1. **Very fast** to train and predict, even on large, high‐dimensional datasets.\n",
    "  2. **Works well** with relatively little data—needs only to estimate a few parameters per feature.\n",
    "  3. **Robust** when most features are irrelevant, because irrelevant features tend to wash out under the independence assumption.\n",
    "  4. **Scales easily** to thousands of features (such as text).\n",
    "\n",
    "* **Disadvantages:**\n",
    "\n",
    "  1. **Independence assumption often fails**, which can lead to suboptimal performance if features are highly correlated.\n",
    "  2. **Zero‐count issue:** If a feature value never appears in the training set for a class, standard probability estimates become zero. (You can fix this with smoothing.)\n",
    "  3. **Simplistic decision surfaces:** It cannot capture complex feature interactions because it treats each feature separately.\n",
    "\n",
    "---\n",
    "\n",
    "**18. Why is Naïve Bayes a good choice for text classification?**  \n",
    "\n",
    "* **High dimensionality and sparsity:** Text data typically turn into thousands of word‐count or word‐presence features. Naïve Bayes handles that easily because it only computes each feature’s class‐conditional probability independently.\n",
    "* **Conditional independence is a decent approximation:** In “bag‐of‐words” representations, words are treated as if their presence or absence is independent given the document’s topic. While not perfect, it often works well in practice.\n",
    "* **Speed:** Training just means counting how often each word appears in documents of each class (plus smoothing), then normalizing. Prediction is likewise a fast product of word probabilities.\n",
    "* **Good baseline:** Even when more sophisticated models are available, Naïve Bayes often performs surprisingly well for tasks like spam detection, sentiment analysis, and topic labeling.\n",
    "\n",
    "---\n",
    "\n",
    "**19. Compare SVM and Naïve Bayes for classification tasks.**  \n",
    "\n",
    "| Aspect                         | SVM                                                                                              | Naïve Bayes                                                                              |\n",
    "| ------------------------------ | ------------------------------------------------------------------------------------------------ | ---------------------------------------------------------------------------------------- |\n",
    "| **Model Type**                 | Discriminative: finds a boundary to separate classes by maximizing margin                        | Generative: estimates probability of features under each class                           |\n",
    "| **Assumptions**                | No strong statistical assumptions—works on geometric separation of points                        | Assumes features are conditionally independent given class                               |\n",
    "| **Training Complexity**        | Slower on very large data, especially with nonlinear kernels (quadratic in samples)              | Very fast; just counts and simple probability estimates                                  |\n",
    "| **Feature Dependencies**       | Can handle feature correlations (implicitly, via kernels if needed)                              | Assumes features are independent—cannot model feature interactions                       |\n",
    "| **Performance on Sparse Data** | Linear SVM often works well; RBF may struggle on extreme sparsity                                | Multinomial or Bernoulli NB excels when features are sparse counts or binary             |\n",
    "| **Robustness to Outliers**     | Sensitive when $C$ is large; can be tuned via $C$ for margin violations                          | Sensitive if a feature‐value never appears (can zero‐out probability); smoothing helps   |\n",
    "| **Parameter Tuning**           | Requires tuning $C$ (and possibly $\\gamma$ for RBF), and choice of kernel                        | Minimal tuning—just type of NB (Gaussian, Multinomial, Bernoulli) and smoothing constant |\n",
    "| **Interpretability**           | Hard to interpret nonlinear decision boundaries; linear weights can be somewhat interpretable    | Very interpretable—shows per‐feature likelihood for each class                           |\n",
    "| **Use Cases**                  | Great when you need high accuracy on moderately sized datasets, especially with clear boundaries | Great when data are high‐dimensional and you need a quick, simple baseline (e.g., text)  |\n",
    "\n",
    "---\n",
    "\n",
    "**20. How does Laplace Smoothing help in Naïve Bayes?**  \n",
    "Laplace Smoothing (also called “add‐one” smoothing) prevents zero‐probability issues. When a specific feature value never appears in the training set for a class, its estimated probability would be zero—causing the entire class probability to become zero. With Laplace Smoothing, you add one “virtual count” to every possible feature outcome before normalizing. This ensures no probability is ever exactly zero and makes the classifier more robust to previously unseen feature values.\n"
   ]
  },
  {
   "cell_type": "markdown",
   "id": "a59dd6c6",
   "metadata": {},
   "source": [
    "# Practical"
   ]
  },
  {
   "cell_type": "code",
   "execution_count": 11,
   "id": "b4a82655",
   "metadata": {},
   "outputs": [],
   "source": [
    "import numpy as np\n",
    "import pandas as pd\n",
    "import seaborn as sns\n",
    "import matplotlib.pyplot as plt\n",
    "\n",
    "import warnings\n",
    "warnings.filterwarnings('ignore')\n",
    "\n",
    "from sklearn.datasets import load_iris,load_wine,load_breast_cancer\n",
    "from sklearn.model_selection import train_test_split,GridSearchCV\n",
    "from sklearn.metrics import accuracy_score,r2_score,classification_report,confusion_matrix,mean_squared_error\n",
    "from sklearn.svm import SVC,SVR"
   ]
  },
  {
   "cell_type": "markdown",
   "id": "6a2a6d87",
   "metadata": {},
   "source": [
    "### Q21"
   ]
  },
  {
   "cell_type": "code",
   "execution_count": 2,
   "id": "f9f20dae",
   "metadata": {},
   "outputs": [
    {
     "name": "stdout",
     "output_type": "stream",
     "text": [
      "Iris SVM accuracy: 0.9667\n"
     ]
    }
   ],
   "source": [
    "# Train an SVM Classifier on the Iris dataset and evaluate accuracy.\n",
    "iris = load_iris()\n",
    "X, y = iris.data, iris.target\n",
    "\n",
    "X_train, X_test, y_train, y_test = train_test_split(\n",
    "    X, y, test_size=0.2, random_state=42, stratify=y\n",
    ")\n",
    "\n",
    "svm_clf = SVC(random_state=42)\n",
    "svm_clf.fit(X_train, y_train)\n",
    "\n",
    "y_pred = svm_clf.predict(X_test)\n",
    "acc = accuracy_score(y_test, y_pred)\n",
    "print(f\"Iris SVM accuracy: {acc:.4f}\")"
   ]
  },
  {
   "cell_type": "markdown",
   "id": "878c58e1",
   "metadata": {},
   "source": [
    "### Q22"
   ]
  },
  {
   "cell_type": "code",
   "execution_count": 3,
   "id": "d9997348",
   "metadata": {},
   "outputs": [
    {
     "name": "stdout",
     "output_type": "stream",
     "text": [
      "Wine SVM (Linear) accuracy: 0.9444\n",
      "Wine SVM (RBF) accuracy:    0.6944\n"
     ]
    }
   ],
   "source": [
    "# SVM classifiers with Linear and RBF kernels on the Wine dataset\n",
    "\n",
    "wine = load_wine()\n",
    "X, y = wine.data, wine.target\n",
    "\n",
    "X_train, X_test, y_train, y_test = train_test_split(\n",
    "    X, y, test_size=0.2, random_state=42, stratify=y\n",
    ")\n",
    "\n",
    "# Linear kernel \n",
    "svm_linear = SVC(kernel=\"linear\", random_state=42)\n",
    "svm_linear.fit(X_train, y_train)\n",
    "y_pred_lin = svm_linear.predict(X_test)\n",
    "acc_lin = accuracy_score(y_test, y_pred_lin)\n",
    "\n",
    "# RBF kernel \n",
    "svm_rbf = SVC(kernel=\"rbf\", random_state=42)\n",
    "svm_rbf.fit(X_train, y_train)\n",
    "y_pred_rbf = svm_rbf.predict(X_test)\n",
    "acc_rbf = accuracy_score(y_test, y_pred_rbf)\n",
    "\n",
    "print(f\"Wine SVM (Linear) accuracy: {acc_lin:.4f}\")\n",
    "print(f\"Wine SVM (RBF) accuracy:    {acc_rbf:.4f}\")\n"
   ]
  },
  {
   "cell_type": "markdown",
   "id": "97d20ecc",
   "metadata": {},
   "source": [
    "### Q23"
   ]
  },
  {
   "cell_type": "code",
   "execution_count": 4,
   "id": "1c5b6992",
   "metadata": {},
   "outputs": [
    {
     "name": "stdout",
     "output_type": "stream",
     "text": [
      "SVR Mean Squared Error: 1.3694\n"
     ]
    }
   ],
   "source": [
    "from sklearn.datasets import fetch_california_housing\n",
    "\n",
    "housing = fetch_california_housing()\n",
    "X, y = housing.data, housing.target\n",
    "\n",
    "X_train, X_test, y_train, y_test = train_test_split(\n",
    "    X, y, test_size=0.3\n",
    ")\n",
    "\n",
    "svr = SVR()\n",
    "svr.fit(X_train, y_train)\n",
    "\n",
    "y_pred = svr.predict(X_test)\n",
    "mse = mean_squared_error(y_test, y_pred)\n",
    "print(f\"SVR Mean Squared Error: {mse:.4f}\")\n"
   ]
  },
  {
   "cell_type": "markdown",
   "id": "a81f53a2",
   "metadata": {},
   "source": [
    "### Q24"
   ]
  },
  {
   "cell_type": "code",
   "execution_count": 10,
   "id": "3afd515c",
   "metadata": {},
   "outputs": [
    {
     "data": {
      "image/png": "[encoded data removed]",
      "text/plain": [
       "<Figure size 800x600 with 1 Axes>"
      ]
     },
     "metadata": {},
     "output_type": "display_data"
    }
   ],
   "source": [
    "\n",
    "iris = load_iris()\n",
    "X = iris.data[:, :2]\n",
    "y = iris.target\n",
    "\n",
    "X_train, X_test, y_train, y_test = train_test_split(\n",
    "    X, y, test_size=0.3, random_state=42, stratify=y\n",
    ")\n",
    "\n",
    "# Train SVM with polynomial kernel\n",
    "svm_poly = SVC(kernel=\"poly\", degree=3, coef0=1, C=1.0, random_state=42)\n",
    "svm_poly.fit(X_train, y_train)\n",
    "\n",
    "# Create mesh to plot decision boundaries\n",
    "h = 0.02\n",
    "x_min, x_max = X[:, 0].min() - 1, X[:, 0].max() + 1\n",
    "y_min, y_max = X[:, 1].min() - 1, X[:, 1].max() + 1\n",
    "xx, yy = np.meshgrid(np.arange(x_min, x_max, h),\n",
    "                     np.arange(y_min, y_max, h))\n",
    "\n",
    "Z = svm_poly.predict(np.c_[xx.ravel(), yy.ravel()])\n",
    "Z = Z.reshape(xx.shape)\n",
    "\n",
    "# Plot\n",
    "plt.figure(figsize=(8, 6))\n",
    "plt.contourf(xx, yy, Z, cmap=plt.cm.Pastel1, alpha=0.8)\n",
    "plt.scatter(X_train[:, 0], X_train[:, 1], c=y_train, cmap=plt.cm.Set1, edgecolors=\"w\", alpha=0.6, marker='s', label='Train')\n",
    "plt.scatter(X_test[:, 0], X_test[:, 1], c=y_test, cmap=plt.cm.Set1, edgecolors=\"k\", marker='o', label='Test')\n",
    "plt.xlabel(\"Feature 1\")\n",
    "plt.ylabel(\"Feature 2\")\n",
    "plt.title(\"SVM with Polynomial Kernel (degree=3)\")\n",
    "plt.legend()\n",
    "plt.show()\n"
   ]
  },
  {
   "cell_type": "markdown",
   "id": "0686cbf3",
   "metadata": {},
   "source": [
    "### Q25"
   ]
  },
  {
   "cell_type": "code",
   "execution_count": 14,
   "id": "abfb453f",
   "metadata": {},
   "outputs": [
    {
     "name": "stdout",
     "output_type": "stream",
     "text": [
      "Accuracy score of Gaussian Model : 0.900585\n"
     ]
    }
   ],
   "source": [
    "from sklearn.naive_bayes import GaussianNB\n",
    "\n",
    "x,y = load_breast_cancer(return_X_y=True)\n",
    "x_train,x_test,y_train,y_test = train_test_split(x,y, test_size=0.3,random_state=34,stratify=y)\n",
    "\n",
    "gnb = GaussianNB()\n",
    "gnb.fit(x_train,y_train)\n",
    "y_pred = gnb.predict(x_test)\n",
    "\n",
    "acc = accuracy_score(y_test,y_pred)\n",
    "print(f\"Accuracy score of Gaussian Model : {acc:.6f}\")\n"
   ]
  },
  {
   "cell_type": "markdown",
   "id": "ccc0f205",
   "metadata": {},
   "source": [
    "### Q26"
   ]
  },
  {
   "cell_type": "code",
   "execution_count": 27,
   "id": "826285d3",
   "metadata": {},
   "outputs": [],
   "source": [
    "from sklearn.datasets import fetch_20newsgroups\n",
    "\n",
    "categories = [\"alt.atheism\", \"comp.graphics\", \"sci.med\", \"soc.religion.christian\"] # doing on only four categories\n",
    "newsgroups = fetch_20newsgroups(subset=\"all\", categories=categories, remove=(\"headers\", \"footers\", \"quotes\"))\n",
    "x_text, y = newsgroups.data, newsgroups.target\n"
   ]
  },
  {
   "cell_type": "code",
   "execution_count": null,
   "id": "7b08c1e8",
   "metadata": {},
   "outputs": [
    {
     "name": "stdout",
     "output_type": "stream",
     "text": [
      "Multinomial NB (20 Newsgroups) accuracy: 0.8098\n"
     ]
    }
   ],
   "source": [
    "from sklearn.feature_extraction.text import CountVectorizer,TfidfTransformer\n",
    "from sklearn.naive_bayes import MultinomialNB\n",
    "\n",
    "X_train_text, X_test_text, y_train, y_test = train_test_split(\n",
    "    x_text, y, test_size=0.2, random_state=42, stratify=y\n",
    ")\n",
    "\n",
    "vect = CountVectorizer(stop_words=\"english\", max_df=0.5)\n",
    "X_train_counts = vect.fit_transform(X_train_text)\n",
    "X_test_counts = vect.transform(X_test_text)\n",
    "\n",
    "tfidf = TfidfTransformer()\n",
    "X_train_tfidf = tfidf.fit_transform(X_train_counts)\n",
    "X_test_tfidf = tfidf.transform(X_test_counts)\n",
    "\n",
    "\n",
    "mnb = MultinomialNB()\n",
    "mnb.fit(X_train_tfidf, y_train)\n",
    "\n",
    "\n",
    "y_pred = mnb.predict(X_test_tfidf)\n",
    "acc = accuracy_score(y_test, y_pred)\n",
    "print(f\"Multinomial NB (20 Newsgroups) accuracy: {acc:.4f}\")"
   ]
  },
  {
   "cell_type": "markdown",
   "id": "771fbab9",
   "metadata": {},
   "source": [
    "### Q27"
   ]
  },
  {
   "cell_type": "code",
   "execution_count": 29,
   "id": "8d78a9d3",
   "metadata": {},
   "outputs": [
    {
     "data": {
      "image/png": "[encoded data removed]",
      "text/plain": [
       "<Figure size 1200x400 with 3 Axes>"
      ]
     },
     "metadata": {},
     "output_type": "display_data"
    }
   ],
   "source": [
    "from sklearn.datasets import make_blobs\n",
    "X, y = make_blobs(n_samples=200, centers=2, random_state=42, cluster_std=1.2)\n",
    "\n",
    "\n",
    "C_values = [0.1, 1, 10]\n",
    "\n",
    "# Create a mesh for plotting boundaries\n",
    "x_min, x_max = X[:, 0].min() - 1, X[:, 0].max() + 1\n",
    "y_min, y_max = X[:, 1].min() - 1, X[:, 1].max() + 1\n",
    "xx, yy = np.meshgrid(np.linspace(x_min, x_max, 200), np.linspace(y_min, y_max, 200))\n",
    "\n",
    "plt.figure(figsize=(12, 4))\n",
    "for i, C in enumerate(C_values, 1):\n",
    "    svm = SVC(kernel=\"rbf\", C=C, gamma=\"scale\", random_state=42)\n",
    "    svm.fit(X, y)\n",
    "    Z = svm.predict(np.c_[xx.ravel(), yy.ravel()]).reshape(xx.shape)\n",
    "    \n",
    "    plt.subplot(1, 3, i)\n",
    "    plt.contourf(xx, yy, Z, cmap=plt.cm.Pastel2, alpha=0.8)\n",
    "    plt.scatter(X[:, 0], X[:, 1], c=y, cmap=plt.cm.Set1, edgecolors=\"k\")\n",
    "    plt.title(f\"C = {C}\")\n",
    "    plt.xlabel(\"Feature 1\")\n",
    "    plt.ylabel(\"Feature 2\")\n",
    "\n",
    "plt.tight_layout()\n",
    "plt.show()"
   ]
  },
  {
   "cell_type": "markdown",
   "id": "9d4b2502",
   "metadata": {},
   "source": [
    "### Q28"
   ]
  },
  {
   "cell_type": "code",
   "execution_count": 30,
   "id": "66658773",
   "metadata": {},
   "outputs": [
    {
     "name": "stdout",
     "output_type": "stream",
     "text": [
      "Bernoulli NB accuracy (binary data): 0.7700\n"
     ]
    }
   ],
   "source": [
    "from sklearn.datasets import make_classification\n",
    "from sklearn.preprocessing import Binarizer\n",
    "from sklearn.naive_bayes import BernoulliNB\n",
    "\n",
    "X_cont, y = make_classification(\n",
    "    n_samples=500, n_features=20, n_informative=5, random_state=42\n",
    ")\n",
    "\n",
    "# Binarize features (threshold at zero)\n",
    "binarizer = Binarizer(threshold=0.0)\n",
    "X_bin = binarizer.fit_transform(X_cont)\n",
    "\n",
    "# Split train/test\n",
    "X_train, X_test, y_train, y_test = train_test_split(\n",
    "    X_bin, y, test_size=0.2, random_state=42, stratify=y\n",
    ")\n",
    "\n",
    "# Train Bernoulli Naïve Bayes\n",
    "bnb = BernoulliNB()\n",
    "bnb.fit(X_train, y_train)\n",
    "\n",
    "# Predict and evaluate\n",
    "y_pred = bnb.predict(X_test)\n",
    "acc = accuracy_score(y_test, y_pred)\n",
    "print(f\"Bernoulli NB accuracy (binary data): {acc:.4f}\")"
   ]
  },
  {
   "cell_type": "markdown",
   "id": "29eac755",
   "metadata": {},
   "source": [
    "### Q29"
   ]
  },
  {
   "cell_type": "code",
   "execution_count": 32,
   "id": "dc729efb",
   "metadata": {},
   "outputs": [
    {
     "name": "stdout",
     "output_type": "stream",
     "text": [
      "SVM accuracy (unscaled): 0.9666666666666667\n",
      "SVM accuracy (scaled):   0.9666666666666667\n"
     ]
    }
   ],
   "source": [
    "\n",
    "from sklearn.preprocessing import StandardScaler\n",
    "from sklearn.pipeline import Pipeline\n",
    "\n",
    "# Load Iris data\n",
    "iris = load_iris()\n",
    "X, y = iris.data, iris.target\n",
    "\n",
    "# Split train/test\n",
    "X_train, X_test, y_train, y_test = train_test_split(\n",
    "    X, y, test_size=0.2, random_state=42, stratify=y\n",
    ")\n",
    "\n",
    "# SVM on unscaled data\n",
    "svm_unscaled = SVC(kernel=\"rbf\", random_state=42)\n",
    "svm_unscaled.fit(X_train, y_train)\n",
    "y_pred_unscaled = svm_unscaled.predict(X_test)\n",
    "acc_unscaled = accuracy_score(y_test, y_pred_unscaled)\n",
    "\n",
    "# SVM on scaled data via pipeline\n",
    "pipeline_scaled = Pipeline([\n",
    "    (\"scaler\", StandardScaler()),\n",
    "    (\"svm\", SVC(kernel=\"rbf\", random_state=42))\n",
    "])\n",
    "pipeline_scaled.fit(X_train, y_train)\n",
    "y_pred_scaled = pipeline_scaled.predict(X_test)\n",
    "acc_scaled = accuracy_score(y_test, y_pred_scaled)\n",
    "\n",
    "print(f\"SVM accuracy (unscaled): {acc_unscaled}\")\n",
    "print(f\"SVM accuracy (scaled):   {acc_scaled}\")\n"
   ]
  },
  {
   "cell_type": "markdown",
   "id": "86a0f3e0",
   "metadata": {},
   "source": [
    "### Q30"
   ]
  },
  {
   "cell_type": "code",
   "execution_count": 33,
   "id": "02acbc54",
   "metadata": {},
   "outputs": [
    {
     "name": "stdout",
     "output_type": "stream",
     "text": [
      "Gaussian NB accuracy (default smoothing): 0.8667\n",
      "Gaussian NB accuracy (larger smoothing): 0.9000\n"
     ]
    }
   ],
   "source": [
    "\n",
    "from sklearn.naive_bayes import GaussianNB\n",
    "\n",
    "# Load Iris data\n",
    "iris = load_iris()\n",
    "X, y = iris.data, iris.target\n",
    "\n",
    "# For demonstration, discretize features into bins so that smoothing effect is visible\n",
    "X_disc = np.floor(X)  # simple floor to integer bins\n",
    "\n",
    "# Split train/test\n",
    "X_train, X_test, y_train, y_test = train_test_split(\n",
    "    X_disc, y, test_size=0.2, random_state=42, stratify=y\n",
    ")\n",
    "\n",
    "# Gaussian NB with default var_smoothing (very small)\n",
    "gnb_default = GaussianNB(var_smoothing=1e-9)\n",
    "gnb_default.fit(X_train, y_train)\n",
    "y_pred_default = gnb_default.predict(X_test)\n",
    "acc_default = accuracy_score(y_test, y_pred_default)\n",
    "\n",
    "# Gaussian NB with larger var_smoothing (acts like smoothing)\n",
    "gnb_smoothed = GaussianNB(var_smoothing=1e-2)\n",
    "gnb_smoothed.fit(X_train, y_train)\n",
    "y_pred_smoothed = gnb_smoothed.predict(X_test)\n",
    "acc_smoothed = accuracy_score(y_test, y_pred_smoothed)\n",
    "\n",
    "print(f\"Gaussian NB accuracy (default smoothing): {acc_default:.4f}\")\n",
    "print(f\"Gaussian NB accuracy (larger smoothing): {acc_smoothed:.4f}\")\n"
   ]
  },
  {
   "cell_type": "markdown",
   "id": "f77131f0",
   "metadata": {},
   "source": [
    "### Q31"
   ]
  },
  {
   "cell_type": "code",
   "execution_count": 34,
   "id": "05675bb7",
   "metadata": {},
   "outputs": [
    {
     "name": "stdout",
     "output_type": "stream",
     "text": [
      "Fitting 5 folds for each of 18 candidates, totalling 90 fits\n",
      "Best parameters: {'C': 0.1, 'gamma': 'scale', 'kernel': 'linear'}\n",
      "Test set accuracy with best params: 0.9000\n"
     ]
    }
   ],
   "source": [
    "# Define parameter grid\n",
    "param_grid = {\n",
    "    \"C\": [0.1, 1, 10],\n",
    "    \"gamma\": [\"scale\", \"auto\"],\n",
    "    \"kernel\": [\"linear\", \"rbf\", \"poly\"]\n",
    "}\n",
    "\n",
    "# Grid search with 5-fold CV\n",
    "grid = GridSearchCV(SVC(), param_grid, cv=5, n_jobs=-1, verbose=1)\n",
    "grid.fit(X_train, y_train)\n",
    "\n",
    "print(\"Best parameters:\", grid.best_params_)\n",
    "best = grid.best_estimator_\n",
    "y_pred = best.predict(X_test)\n",
    "print(f\"Test set accuracy with best params: {accuracy_score(y_test, y_pred):.4f}\")\n"
   ]
  },
  {
   "cell_type": "markdown",
   "id": "daea416b",
   "metadata": {},
   "source": [
    "### Q32"
   ]
  },
  {
   "cell_type": "code",
   "execution_count": 35,
   "id": "82513eb7",
   "metadata": {},
   "outputs": [
    {
     "name": "stdout",
     "output_type": "stream",
     "text": [
      "Without class weights:\n",
      "              precision    recall  f1-score   support\n",
      "\n",
      "           0     0.9836    1.0000    0.9917       180\n",
      "           1     1.0000    0.8500    0.9189        20\n",
      "\n",
      "    accuracy                         0.9850       200\n",
      "   macro avg     0.9918    0.9250    0.9553       200\n",
      "weighted avg     0.9852    0.9850    0.9845       200\n",
      "\n",
      "With class weights:\n",
      "              precision    recall  f1-score   support\n",
      "\n",
      "           0     0.9831    0.9722    0.9777       180\n",
      "           1     0.7727    0.8500    0.8095        20\n",
      "\n",
      "    accuracy                         0.9600       200\n",
      "   macro avg     0.8779    0.9111    0.8936       200\n",
      "weighted avg     0.9621    0.9600    0.9608       200\n",
      "\n"
     ]
    }
   ],
   "source": [
    "from sklearn.datasets import make_classification\n",
    "from sklearn.metrics import classification_report\n",
    "\n",
    "# Generate imbalanced binary classification data\n",
    "X, y = make_classification(\n",
    "    n_samples=1000,\n",
    "    n_features=20,\n",
    "    n_informative=2,\n",
    "    n_redundant=10,\n",
    "    n_clusters_per_class=1,\n",
    "    weights=[0.9, 0.1],\n",
    "    flip_y=0,\n",
    "    random_state=42\n",
    ")\n",
    "\n",
    "# Split train/test\n",
    "X_train, X_test, y_train, y_test = train_test_split(\n",
    "    X, y, test_size=0.2, random_state=42, stratify=y\n",
    ")\n",
    "\n",
    "# SVM without class weights\n",
    "svm_no_weight = SVC(kernel=\"rbf\", random_state=42)\n",
    "svm_no_weight.fit(X_train, y_train)\n",
    "print(\"Without class weights:\")\n",
    "print(classification_report(y_test, svm_no_weight.predict(X_test), digits=4))\n",
    "\n",
    "# SVM with class_weight=\"balanced\"\n",
    "svm_weighted = SVC(kernel=\"rbf\", class_weight=\"balanced\", random_state=42)\n",
    "svm_weighted.fit(X_train, y_train)\n",
    "print(\"With class weights:\")\n",
    "print(classification_report(y_test, svm_weighted.predict(X_test), digits=4))\n"
   ]
  },
  {
   "cell_type": "markdown",
   "id": "f6467107",
   "metadata": {},
   "source": [
    "### Q33"
   ]
  },
  {
   "cell_type": "code",
   "execution_count": 38,
   "id": "228349c4",
   "metadata": {},
   "outputs": [
    {
     "name": "stdout",
     "output_type": "stream",
     "text": [
      "Spam detection accuracy: 0.7500\n",
      "Classification Report:\n",
      "               precision    recall  f1-score   support\n",
      "\n",
      "           0       0.75      1.00      0.86        15\n",
      "           1       0.00      0.00      0.00         5\n",
      "\n",
      "    accuracy                           0.75        20\n",
      "   macro avg       0.38      0.50      0.43        20\n",
      "weighted avg       0.56      0.75      0.64        20\n",
      "\n"
     ]
    }
   ],
   "source": [
    "from sklearn.feature_extraction.text import CountVectorizer, TfidfTransformer\n",
    "from sklearn.naive_bayes import MultinomialNB\n",
    "from sklearn.metrics import accuracy_score, classification_report\n",
    "\n",
    "# Load email data from CSV (columns: text,label where label=1 for spam, 0 for ham)\n",
    "df = pd.read_csv(\"emails.csv\") \n",
    "\n",
    "# Separate features and target\n",
    "X_text = df[\"text\"].values\n",
    "y = df[\"label\"].values\n",
    "\n",
    "# Split train/test\n",
    "X_train_text, X_test_text, y_train, y_test = train_test_split(\n",
    "    X_text, y, test_size=0.2, random_state=42, stratify=y\n",
    ")\n",
    "\n",
    "# Convert text to TF-IDF features\n",
    "vect = CountVectorizer(stop_words=\"english\", max_df=0.9)\n",
    "X_train_counts = vect.fit_transform(X_train_text)\n",
    "X_test_counts = vect.transform(X_test_text)\n",
    "\n",
    "tfidf = TfidfTransformer()\n",
    "X_train_tfidf = tfidf.fit_transform(X_train_counts)\n",
    "X_test_tfidf = tfidf.transform(X_test_counts)\n",
    "\n",
    "# Train Multinomial Naïve Bayes\n",
    "spam_clf = MultinomialNB(alpha=1.0)\n",
    "spam_clf.fit(X_train_tfidf, y_train)\n",
    "\n",
    "# Predict and evaluate\n",
    "y_pred = spam_clf.predict(X_test_tfidf)\n",
    "print(f\"Spam detection accuracy: {accuracy_score(y_test, y_pred):.4f}\")\n",
    "print(\"Classification Report:\\n\", classification_report(y_test, y_pred))\n"
   ]
  },
  {
   "cell_type": "markdown",
   "id": "611ebae8",
   "metadata": {},
   "source": [
    "### Q34"
   ]
  },
  {
   "cell_type": "code",
   "execution_count": 39,
   "id": "22438c09",
   "metadata": {},
   "outputs": [
    {
     "name": "stdout",
     "output_type": "stream",
     "text": [
      "SVM accuracy:              0.9667\n",
      "Gaussian Naïve Bayes accuracy: 0.9667\n"
     ]
    }
   ],
   "source": [
    "\n",
    "iris = load_iris()\n",
    "X, y = iris.data, iris.target\n",
    "\n",
    "# Split train/test\n",
    "X_train, X_test, y_train, y_test = train_test_split(\n",
    "    X, y, test_size=0.2, random_state=42, stratify=y\n",
    ")\n",
    "\n",
    "# Train SVM\n",
    "svm_clf = SVC(kernel=\"rbf\", random_state=42)\n",
    "svm_clf.fit(X_train, y_train)\n",
    "svm_acc = accuracy_score(y_test, svm_clf.predict(X_test))\n",
    "\n",
    "# Train Gaussian NB\n",
    "gnb = GaussianNB()\n",
    "gnb.fit(X_train, y_train)\n",
    "nb_acc = accuracy_score(y_test, gnb.predict(X_test))\n",
    "\n",
    "print(f\"SVM accuracy:              {svm_acc:.4f}\")\n",
    "print(f\"Gaussian Naïve Bayes accuracy: {nb_acc:.4f}\")\n"
   ]
  },
  {
   "cell_type": "markdown",
   "id": "1a8e6dcc",
   "metadata": {},
   "source": [
    "### Q35"
   ]
  },
  {
   "cell_type": "code",
   "execution_count": null,
   "id": "3ea41ec5",
   "metadata": {},
   "outputs": [
    {
     "name": "stdout",
     "output_type": "stream",
     "text": [
      "Accuracy (all features):    0.8908122503328895\n",
      "Accuracy (top 2000 features): 0.881491344873502\n"
     ]
    }
   ],
   "source": [
    "from sklearn.datasets import fetch_20newsgroups\n",
    "from sklearn.feature_extraction.text import CountVectorizer, TfidfTransformer\n",
    "from sklearn.feature_selection import SelectKBest, chi2\n",
    "\n",
    "# Load a subset of 20 Newsgroups\n",
    "categories = [\"rec.sport.baseball\", \"rec.sport.hockey\", \"sci.space\", \"talk.politics.misc\"]\n",
    "newsgroups = fetch_20newsgroups(subset=\"all\", categories=categories, remove=(\"headers\", \"footers\", \"quotes\"))\n",
    "X_text, y = newsgroups.data, newsgroups.target\n",
    "\n",
    "# Vectorize text\n",
    "vect = CountVectorizer(stop_words=\"english\", max_df=0.5)\n",
    "X_counts = vect.fit_transform(X_text)\n",
    "tfidf = TfidfTransformer()\n",
    "X_tfidf = tfidf.fit_transform(X_counts)\n",
    "\n",
    "# Split train/test\n",
    "X_train, X_test, y_train, y_test = train_test_split(\n",
    "    X_tfidf, y, test_size=0.2, random_state=42, stratify=y\n",
    ")\n",
    "\n",
    "# Without feature selection\n",
    "mnb_full = MultinomialNB()\n",
    "mnb_full.fit(X_train, y_train)\n",
    "acc_full = accuracy_score(y_test, mnb_full.predict(X_test))\n",
    "\n",
    "# With feature selection: select top 3000 features\n",
    "selector = SelectKBest(chi2, k=3000)\n",
    "X_train_sel = selector.fit_transform(X_train, y_train)\n",
    "X_test_sel = selector.transform(X_test)\n",
    "\n",
    "mnb_sel = MultinomialNB()\n",
    "mnb_sel.fit(X_train_sel, y_train)\n",
    "acc_sel = accuracy_score(y_test, mnb_sel.predict(X_test_sel))\n",
    "\n",
    "print(f\"Accuracy (all features):    {acc_full}\")\n",
    "print(f\"Accuracy (top 2000 features): {acc_sel}\")\n"
   ]
  },
  {
   "cell_type": "markdown",
   "id": "d7be3d67",
   "metadata": {},
   "source": [
    "### Q36"
   ]
  },
  {
   "cell_type": "code",
   "execution_count": 44,
   "id": "4199d6b2",
   "metadata": {},
   "outputs": [
    {
     "name": "stdout",
     "output_type": "stream",
     "text": [
      "OvR Wine SVM accuracy: 0.7222\n",
      "OvO Wine SVM accuracy: 0.7222\n"
     ]
    }
   ],
   "source": [
    "from sklearn.multiclass import OneVsRestClassifier, OneVsOneClassifier\n",
    "\n",
    "\n",
    "# Load Wine data\n",
    "wine = load_wine()\n",
    "X, y = wine.data, wine.target\n",
    "\n",
    "# Split train/test\n",
    "X_train, X_test, y_train, y_test = train_test_split(\n",
    "    X, y, test_size=0.2, random_state=42, stratify=y\n",
    ")\n",
    "\n",
    "# One-vs-Rest\n",
    "ovr_clf = OneVsRestClassifier(SVC(kernel=\"rbf\", random_state=42))\n",
    "ovr_clf.fit(X_train, y_train)\n",
    "y_pred_ovr = ovr_clf.predict(X_test)\n",
    "acc_ovr = accuracy_score(y_test, y_pred_ovr)\n",
    "\n",
    "# One-vs-One\n",
    "ovo_clf = OneVsOneClassifier(SVC(kernel=\"rbf\", random_state=42))\n",
    "ovo_clf.fit(X_train, y_train)\n",
    "y_pred_ovo = ovo_clf.predict(X_test)\n",
    "acc_ovo = accuracy_score(y_test, y_pred_ovo)\n",
    "\n",
    "print(f\"OvR Wine SVM accuracy: {acc_ovr:.4f}\")\n",
    "print(f\"OvO Wine SVM accuracy: {acc_ovo:.4f}\")\n"
   ]
  },
  {
   "cell_type": "markdown",
   "id": "e3547db7",
   "metadata": {},
   "source": [
    "### Q37"
   ]
  },
  {
   "cell_type": "code",
   "execution_count": 45,
   "id": "02be5679",
   "metadata": {},
   "outputs": [
    {
     "name": "stdout",
     "output_type": "stream",
     "text": [
      "Breast Cancer SVM (Linear)  accuracy: 0.9561\n",
      "Breast Cancer SVM (Poly)    accuracy: 0.9211\n",
      "Breast Cancer SVM (RBF)     accuracy: 0.9298\n"
     ]
    }
   ],
   "source": [
    "\n",
    "data = load_breast_cancer()\n",
    "X, y = data.data, data.target\n",
    "\n",
    "# Split train/test\n",
    "X_train, X_test, y_train, y_test = train_test_split(\n",
    "    X, y, test_size=0.2, random_state=42, stratify=y\n",
    ")\n",
    "\n",
    "# Linear kernel\n",
    "svm_lin = SVC(kernel=\"linear\", random_state=42)\n",
    "svm_lin.fit(X_train, y_train)\n",
    "acc_lin = accuracy_score(y_test, svm_lin.predict(X_test))\n",
    "\n",
    "# Polynomial kernel\n",
    "svm_poly = SVC(kernel=\"poly\", degree=3, random_state=42)\n",
    "svm_poly.fit(X_train, y_train)\n",
    "acc_poly = accuracy_score(y_test, svm_poly.predict(X_test))\n",
    "\n",
    "# RBF kernel\n",
    "svm_rbf = SVC(kernel=\"rbf\", random_state=42)\n",
    "svm_rbf.fit(X_train, y_train)\n",
    "acc_rbf = accuracy_score(y_test, svm_rbf.predict(X_test))\n",
    "\n",
    "print(f\"Breast Cancer SVM (Linear)  accuracy: {acc_lin:.4f}\")\n",
    "print(f\"Breast Cancer SVM (Poly)    accuracy: {acc_poly:.4f}\")\n",
    "print(f\"Breast Cancer SVM (RBF)     accuracy: {acc_rbf:.4f}\")\n"
   ]
  },
  {
   "cell_type": "markdown",
   "id": "5a3a4220",
   "metadata": {},
   "source": [
    "### Q38"
   ]
  },
  {
   "cell_type": "code",
   "execution_count": 46,
   "id": "4dff4f6c",
   "metadata": {},
   "outputs": [
    {
     "name": "stdout",
     "output_type": "stream",
     "text": [
      "SVM cross-validation accuracies: [1.         0.96666667 0.93333333 1.         0.93333333]\n",
      "Average accuracy: 0.9667\n"
     ]
    }
   ],
   "source": [
    "from sklearn.model_selection import StratifiedKFold, cross_val_score\n",
    "from sklearn.svm import SVC\n",
    "\n",
    "# Load Iris data\n",
    "iris = load_iris()\n",
    "X, y = iris.data, iris.target\n",
    "\n",
    "# Stratified K-Fold with 5 splits\n",
    "skf = StratifiedKFold(n_splits=5, shuffle=True, random_state=42)\n",
    "svm_clf = SVC(kernel=\"rbf\", random_state=42)\n",
    "\n",
    "# Compute cross-validated accuracy\n",
    "scores = cross_val_score(svm_clf, X, y, cv=skf, scoring=\"accuracy\", n_jobs=-1)\n",
    "print(\"SVM cross-validation accuracies:\", scores)\n",
    "print(f\"Average accuracy: {np.mean(scores):.4f}\")\n"
   ]
  },
  {
   "cell_type": "markdown",
   "id": "2f4be612",
   "metadata": {},
   "source": [
    "### Q39"
   ]
  },
  {
   "cell_type": "code",
   "execution_count": null,
   "id": "d5c945db",
   "metadata": {},
   "outputs": [
    {
     "name": "stdout",
     "output_type": "stream",
     "text": [
      "Gaussian NB accuracy (default priors): 0.9667\n",
      "Gaussian NB accuracy (uniform priors): 0.9667\n"
     ]
    }
   ],
   "source": [
    "iris = load_iris()\n",
    "X, y = iris.data, iris.target\n",
    "\n",
    "X_train, X_test, y_train, y_test = train_test_split(\n",
    "    X, y, test_size=0.2, random_state=42, stratify=y\n",
    ")\n",
    "\n",
    "# Default priors (computed from data)\n",
    "gnb_default = GaussianNB()\n",
    "gnb_default.fit(X_train, y_train)\n",
    "acc_default = accuracy_score(y_test, gnb_default.predict(X_test))\n",
    "\n",
    "# Uniform priors (all classes equally likely)\n",
    "num_classes = len(np.unique(y))\n",
    "uniform_priors = [1/num_classes] * num_classes\n",
    "gnb_uniform = GaussianNB(priors=uniform_priors)\n",
    "gnb_uniform.fit(X_train, y_train)\n",
    "acc_uniform = accuracy_score(y_test, gnb_uniform.predict(X_test))\n",
    "\n",
    "print(f\"Gaussian NB accuracy (default priors): {acc_default:.4f}\")\n",
    "print(f\"Gaussian NB accuracy (uniform priors): {acc_uniform:.4f}\")"
   ]
  },
  {
   "cell_type": "markdown",
   "id": "8896763f",
   "metadata": {},
   "source": [
    "### Q40"
   ]
  },
  {
   "cell_type": "code",
   "execution_count": 49,
   "id": "c282de96",
   "metadata": {},
   "outputs": [
    {
     "name": "stdout",
     "output_type": "stream",
     "text": [
      "SVM accuracy (all features):     1.0000\n",
      "SVM accuracy (top 2 features):   0.9667\n"
     ]
    }
   ],
   "source": [
    "\n",
    "from sklearn.feature_selection import RFE\n",
    "\n",
    "iris = load_iris()\n",
    "X, y = iris.data, iris.target\n",
    "\n",
    "# Split train/test\n",
    "X_train, X_test, y_train, y_test = train_test_split(\n",
    "    X, y, test_size=0.2, random_state=42, stratify=y\n",
    ")\n",
    "\n",
    "# Base SVM for feature selection\n",
    "estimator = SVC(kernel=\"linear\", random_state=42)\n",
    "\n",
    "# RFE to select top 2 features\n",
    "rfe = RFE(estimator=estimator, n_features_to_select=2, step=1)\n",
    "rfe.fit(X_train, y_train)\n",
    "X_train_sel = rfe.transform(X_train)\n",
    "X_test_sel = rfe.transform(X_test)\n",
    "\n",
    "# Train SVM on all features\n",
    "svm_all = SVC(kernel=\"linear\", random_state=42)\n",
    "svm_all.fit(X_train, y_train)\n",
    "acc_all = accuracy_score(y_test, svm_all.predict(X_test))\n",
    "\n",
    "# Train SVM on selected features\n",
    "svm_sel = SVC(kernel=\"linear\", random_state=42)\n",
    "svm_sel.fit(X_train_sel, y_train)\n",
    "acc_sel = accuracy_score(y_test, svm_sel.predict(X_test_sel))\n",
    "\n",
    "print(f\"SVM accuracy (all features):     {acc_all:.4f}\")\n",
    "print(f\"SVM accuracy (top 2 features):   {acc_sel:.4f}\")\n"
   ]
  },
  {
   "cell_type": "markdown",
   "id": "4c87d01a",
   "metadata": {},
   "source": [
    "### Q41"
   ]
  },
  {
   "cell_type": "code",
   "execution_count": 50,
   "id": "6fb95a95",
   "metadata": {},
   "outputs": [
    {
     "name": "stdout",
     "output_type": "stream",
     "text": [
      "Precision: 0.9211\n",
      "Recall:    0.9722\n",
      "F1-Score:  0.9459\n",
      "\n",
      "Classification Report:\n",
      "               precision    recall  f1-score   support\n",
      "\n",
      "   malignant       0.95      0.86      0.90        42\n",
      "      benign       0.92      0.97      0.95        72\n",
      "\n",
      "    accuracy                           0.93       114\n",
      "   macro avg       0.93      0.91      0.92       114\n",
      "weighted avg       0.93      0.93      0.93       114\n",
      "\n"
     ]
    }
   ],
   "source": [
    "from sklearn.metrics import precision_score, recall_score, f1_score, classification_report\n",
    "\n",
    "# Load Breast Cancer data\n",
    "data = load_breast_cancer()\n",
    "X, y = data.data, data.target\n",
    "\n",
    "# Split train/test\n",
    "X_train, X_test, y_train, y_test = train_test_split(\n",
    "    X, y, test_size=0.2, random_state=42, stratify=y\n",
    ")\n",
    "\n",
    "# Train SVM\n",
    "svm = SVC(kernel=\"rbf\", random_state=42)\n",
    "svm.fit(X_train, y_train)\n",
    "\n",
    "# Predict\n",
    "y_pred = svm.predict(X_test)\n",
    "\n",
    "# Compute metrics\n",
    "prec = precision_score(y_test, y_pred)\n",
    "rec = recall_score(y_test, y_pred)\n",
    "f1 = f1_score(y_test, y_pred)\n",
    "\n",
    "print(f\"Precision: {prec:.4f}\")\n",
    "print(f\"Recall:    {rec:.4f}\")\n",
    "print(f\"F1-Score:  {f1:.4f}\\n\")\n",
    "print(\"Classification Report:\\n\", classification_report(y_test, y_pred, target_names=data.target_names))\n"
   ]
  },
  {
   "cell_type": "markdown",
   "id": "d4a22825",
   "metadata": {},
   "source": [
    "### Q42"
   ]
  },
  {
   "cell_type": "code",
   "execution_count": 51,
   "id": "aae0933f",
   "metadata": {},
   "outputs": [
    {
     "name": "stdout",
     "output_type": "stream",
     "text": [
      "Gaussian NB Log Loss: 0.1420\n"
     ]
    }
   ],
   "source": [
    "from sklearn.metrics import log_loss\n",
    "\n",
    "iris = load_iris()\n",
    "X, y = iris.data, iris.target\n",
    "\n",
    "# Split train/test\n",
    "X_train, X_test, y_train, y_test = train_test_split(\n",
    "    X, y, test_size=0.2, random_state=42, stratify=y\n",
    ")\n",
    "\n",
    "# Train Gaussian NB\n",
    "gnb = GaussianNB()\n",
    "gnb.fit(X_train, y_train)\n",
    "\n",
    "# Obtain predicted probabilities\n",
    "y_proba = gnb.predict_proba(X_test)\n",
    "\n",
    "# Compute log loss\n",
    "ll = log_loss(y_test, y_proba)\n",
    "print(f\"Gaussian NB Log Loss: {ll:.4f}\")\n"
   ]
  },
  {
   "cell_type": "markdown",
   "id": "bc70d470",
   "metadata": {},
   "source": [
    "### Q43"
   ]
  },
  {
   "cell_type": "code",
   "execution_count": 52,
   "id": "bf83c731",
   "metadata": {},
   "outputs": [
    {
     "data": {
      "image/png": "[encoded data removed]",
      "text/plain": [
       "<Figure size 600x500 with 2 Axes>"
      ]
     },
     "metadata": {},
     "output_type": "display_data"
    }
   ],
   "source": [
    "from sklearn.metrics import confusion_matrix\n",
    "\n",
    "# Load Breast Cancer data\n",
    "data = load_breast_cancer()\n",
    "X, y = data.data, data.target\n",
    "labels = data.target_names\n",
    "\n",
    "# Split train/test\n",
    "X_train, X_test, y_train, y_test = train_test_split(\n",
    "    X, y, test_size=0.2, random_state=42, stratify=y\n",
    ")\n",
    "\n",
    "# Train SVM\n",
    "svm = SVC(kernel=\"rbf\", random_state=42)\n",
    "svm.fit(X_train, y_train)\n",
    "\n",
    "# Predict\n",
    "y_pred = svm.predict(X_test)\n",
    "\n",
    "# Compute confusion matrix\n",
    "cm = confusion_matrix(y_test, y_pred)\n",
    "\n",
    "# Plot with seaborn\n",
    "plt.figure(figsize=(6, 5))\n",
    "sns.heatmap(cm, annot=True, fmt=\"d\", cmap=\"Blues\", xticklabels=labels, yticklabels=labels)\n",
    "plt.xlabel(\"Predicted Label\")\n",
    "plt.ylabel(\"True Label\")\n",
    "plt.title(\"Confusion Matrix: SVM (Breast Cancer)\")\n",
    "plt.show()\n"
   ]
  },
  {
   "cell_type": "markdown",
   "id": "a193b7f5",
   "metadata": {},
   "source": [
    "### Q44"
   ]
  },
  {
   "cell_type": "code",
   "execution_count": 53,
   "id": "4ff065bf",
   "metadata": {},
   "outputs": [
    {
     "name": "stdout",
     "output_type": "stream",
     "text": [
      "SVR Mean Absolute Error: 0.8600\n"
     ]
    }
   ],
   "source": [
    "from sklearn.datasets import fetch_california_housing\n",
    "from sklearn.metrics import mean_absolute_error\n",
    "\n",
    "# Load California Housing data\n",
    "housing = fetch_california_housing()\n",
    "X, y = housing.data, housing.target\n",
    "\n",
    "# Split train/test\n",
    "X_train, X_test, y_train, y_test = train_test_split(\n",
    "    X, y, test_size=0.2, random_state=42\n",
    ")\n",
    "\n",
    "# Train SVR\n",
    "svr = SVR()\n",
    "svr.fit(X_train, y_train)\n",
    "\n",
    "# Predict and evaluate\n",
    "y_pred = svr.predict(X_test)\n",
    "mae = mean_absolute_error(y_test, y_pred)\n",
    "print(f\"SVR Mean Absolute Error: {mae:.4f}\")\n"
   ]
  },
  {
   "cell_type": "markdown",
   "id": "ff925492",
   "metadata": {},
   "source": [
    "### Q45"
   ]
  },
  {
   "cell_type": "code",
   "execution_count": 54,
   "id": "aeab58c5",
   "metadata": {},
   "outputs": [
    {
     "name": "stdout",
     "output_type": "stream",
     "text": [
      "Gaussian NB ROC-AUC score: 0.9878\n"
     ]
    }
   ],
   "source": [
    "from sklearn.metrics import roc_auc_score\n",
    "\n",
    "# Load Breast Cancer data\n",
    "data = load_breast_cancer()\n",
    "X, y = data.data, data.target\n",
    "\n",
    "# Split train/test\n",
    "X_train, X_test, y_train, y_test = train_test_split(\n",
    "    X, y, test_size=0.2, random_state=42, stratify=y\n",
    ")\n",
    "\n",
    "# Train Gaussian NB\n",
    "gnb = GaussianNB()\n",
    "gnb.fit(X_train, y_train)\n",
    "\n",
    "# Get predicted probabilities for positive class\n",
    "y_proba = gnb.predict_proba(X_test)[:, 1]\n",
    "\n",
    "# Compute ROC-AUC\n",
    "auc = roc_auc_score(y_test, y_proba)\n",
    "print(f\"Gaussian NB ROC-AUC score: {auc:.4f}\")\n"
   ]
  },
  {
   "cell_type": "markdown",
   "id": "ffd01324",
   "metadata": {},
   "source": [
    "### Q46"
   ]
  },
  {
   "cell_type": "code",
   "execution_count": 55,
   "id": "47b0ed79",
   "metadata": {},
   "outputs": [
    {
     "data": {
      "image/png": "[encoded data removed]",
      "text/plain": [
       "<Figure size 640x480 with 1 Axes>"
      ]
     },
     "metadata": {},
     "output_type": "display_data"
    }
   ],
   "source": [
    "\n",
    "from sklearn.metrics import precision_recall_curve, PrecisionRecallDisplay, average_precision_score\n",
    "\n",
    "# Load Breast Cancer data\n",
    "data = load_breast_cancer()\n",
    "X, y = data.data, data.target\n",
    "\n",
    "# Split train/test\n",
    "X_train, X_test, y_train, y_test = train_test_split(\n",
    "    X, y, test_size=0.2, random_state=42, stratify=y\n",
    ")\n",
    "\n",
    "# Train SVM with probability estimates enabled\n",
    "svm = SVC(kernel=\"rbf\", probability=True, random_state=42)\n",
    "svm.fit(X_train, y_train)\n",
    "\n",
    "# Get probabilities for positive class\n",
    "y_scores = svm.predict_proba(X_test)[:, 1]\n",
    "\n",
    "# Compute precision-recall curve\n",
    "precision, recall, _ = precision_recall_curve(y_test, y_scores)\n",
    "avg_prec = average_precision_score(y_test, y_scores)\n",
    "\n",
    "# Plot\n",
    "disp = PrecisionRecallDisplay(precision=precision, recall=recall, average_precision=avg_prec)\n",
    "disp.plot()\n",
    "plt.title(\"Precision-Recall Curve: SVM (Breast Cancer)\")\n",
    "plt.show()\n"
   ]
  }
 ],
 "metadata": {
  "kernelspec": {
   "display_name": "Python 3",
   "language": "python",
   "name": "python3"
  },
  "language_info": {
   "codemirror_mode": {
    "name": "ipython",
    "version": 3
   },
   "file_extension": ".py",
   "mimetype": "text/x-python",
   "name": "python",
   "nbconvert_exporter": "python",
   "pygments_lexer": "ipython3",
   "version": "3.12.9"
  }
 },
 "nbformat": 4,
 "nbformat_minor": 5
}
